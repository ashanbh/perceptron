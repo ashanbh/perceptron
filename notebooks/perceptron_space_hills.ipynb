{
 "cells": [
  {
   "cell_type": "markdown",
   "id": "5a3675fd-f0d8-460b-84be-a63f2e0ca962",
   "metadata": {},
   "source": [
    "## Overview\n",
    "In this notebook, we will implement a simple perceptron with 2 inputs and train it on an 8x8 card. \n",
    "*  The perceptron will try and predict a horizontal boundary for a single card. \n",
    "*  We will then try to <mark>plot a map of weights and biases and see how errors of the perceptron changes in that space</mark>\n",
    "*  We will then try to create poor training data, and plot the \"error space\"\n",
    "  \n",
    "## Perceptron solution space\n",
    "We actually have 4 dimensions: \n",
    " * 2 weights for the perceptron,\n",
    " * perceptron bias,\n",
    " * The error rate = which is the number of prediction errors normaized to 1 (i.e. `wrong_predictions/total_predictions`)\n",
    "\n",
    "#### 3d plot\n",
    " * This can be plotted as 3d plot of weights and the error rate\n",
    " * The space looks smooth, with no discontinuities an no visible local minima. \n",
    "\n",
    "<img src =\"../static/3dplot.png\" title =\"Weights and error 3d plot\" width = \"400px\">\n",
    "\n",
    "#### 4d plot\n",
    " * Or as a 4d plot of weights, the error rate. The 4th dimension is the color scale. \n",
    " * Color corresponds to the value  of `bias` that returned the least prediction errors.\n",
    " * The best weights and biases for the perceptron can be seen in the chart\n",
    " \n",
    "\n",
    "<img src =\"../static/4dplot.png\" title =\"Weights and error and bias 4d plot\" width = \"600px\">\n",
    "\n",
    "## The Data\n",
    "* Each card is generated as a 8x8 matrix. \n",
    "* At some random horizontal offset (in the card below its `y>5`), the card will only output positive values.\n",
    "* Positive output is shows in green, negative in red.\n",
    "* The card, in essence, is horizontally partitioned between positive and negative regions.\n",
    "* The perceptron should be able to learn this boundary.\n",
    "\n",
    "<img src=\"../static/h1.png\" alt=\"Card\" style=\"width: 200px;\">\n",
    "\n",
    "### Input Vector\n",
    "For training purposes, the inputs are stored as a one dimensional array X, of 64 elements. \n",
    "* Inputs are the `(x,y)` co-ordinates of the card. Hence, in a range of `(0,0)` to `(7,7)`.\n",
    "* Green corresponds to inputs that must produce a positive output, red to negative. \n",
    "\n",
    "E.g. here the inputs will be represented as\n",
    "\n",
    "``` python\n",
    "    X =  [[0,0],[0,1],[0, 2] .. [0, 7],[1, 0],[1, 1] .. [7, 7,]]\n",
    "```\n",
    "\n",
    "### Output Vector\n",
    "The outputs are correspondingly stored in a one dimensional array Y, of 64 elements.\n",
    "* Every value is `1` or `-1`\n",
    "* Every 8 elements represent a vertical column in the card,\n",
    "\n",
    "![Serialized Output](../static/serialized-y.png)\n",
    "\n",
    "``` python\n",
    "   \n",
    "\n",
    "#(x,y): (0,0)   (0,1)   (0,2)   (0,3)   (0,4)   (0,5)   (0,6)   (0,7)        \n",
    "    Y = [\n",
    "        -1,     -1,     -1,     -1,     -1,     -1,     1,      1, \n",
    "        \n",
    "       ...\n",
    "       \n",
    "        -1,     -1,     -1,     -1,     -1,     -1,     1,      1,         \n",
    "    ]\n",
    "#(x,y): (7,0)   (7,1)   (7,2)   (7,3)   (7,4)   (7,5)   (7,6)   (7,7)    \n",
    "```\n"
   ]
  },
  {
   "cell_type": "code",
   "execution_count": 44,
   "id": "6fd9d019-0a73-4329-ad1f-5508717b8305",
   "metadata": {},
   "outputs": [],
   "source": [
    "import numpy as np\n",
    "import copy\n",
    "from matplotlib import pyplot as plt\n",
    "import random\n",
    "%matplotlib inline"
   ]
  },
  {
   "cell_type": "code",
   "execution_count": 45,
   "id": "b441a55e-5d4c-4571-a350-5f6a272864cd",
   "metadata": {},
   "outputs": [],
   "source": [
    "\n",
    "#generate a training card with a rectangular section marked positive \n",
    "def training_card(size=8, horizontal_partition = True, vertical_partition = True):\n",
    "    X = np.zeros((size*size,2))\n",
    "    Y = np.zeros([X.shape[0]])\n",
    "    \n",
    "    s = 0\n",
    "    t_y = random.uniform(size/4,3*size/4) if horizontal_partition else -1\n",
    "    t_x = random.uniform(0,size) if vertical_partition else -1  \n",
    "    print(\"card_t:\",t_x,t_y)\n",
    "    for i in range (0,size):    \n",
    "        for j in range (0,size):\n",
    "            X[s]=[i,j] \n",
    "            Y[s]= 1 if (j> t_y and i>t_x) else -1\n",
    "            s+=1\n",
    "    return (X,Y)            \n",
    "\n",
    "def draw_card(X,Y):\n",
    "    plt.figure(figsize=(2,2))\n",
    "    for i, x in enumerate(X):\n",
    "        if Y[i] > 0:\n",
    "            plt.scatter(x[0], x[1], s=100, marker='s', color='green',linewidths=2)\n",
    "        # Plot the positive samples\n",
    "        else:\n",
    "            plt.scatter(x[0], x[1], s=100, marker='s', color='red', linewidths=2)\n",
    "        "
   ]
  },
  {
   "cell_type": "markdown",
   "id": "4540c111-4ea7-4f79-97df-61a60ffd03a7",
   "metadata": {},
   "source": [
    "#### Perceptron Algorithm\n",
    "\n",
    "$$ \n",
    "    z = \\sum_{i=1}^n x_i w_i + b \n",
    "$$\n",
    "\n",
    "$$ \n",
    "    output = \\begin{cases}\n",
    "        1 & \\text{if }\\ z > T \\text{\\, where T is some threshold }\n",
    "        \\\\-1 & \\text{otherwise}\n",
    "        \\end{cases}\n",
    "$$\n",
    "#### Learning \n",
    "We adjust the weight to reduce the error\n",
    "$$\n",
    "    \\text{if } y*a \\leq 0 \\text{ then }\n",
    "    \\bigg|\\begin{multline}\n",
    "    \\begin{aligned}\n",
    "    w_i &= w_i + y x_i \\text{ for i  = 1,2,3,..,n} \\\\\n",
    "    b &= b + y\n",
    "    \\end{aligned}\n",
    "    \\end{multline}\n",
    "$$\n",
    "\n"
   ]
  },
  {
   "cell_type": "code",
   "execution_count": 46,
   "id": "b4414ff3-3470-4ae0-9a49-6ab3ad7a2a68",
   "metadata": {},
   "outputs": [
    {
     "name": "stdout",
     "output_type": "stream",
     "text": [
      "card_t: -1 3.6190545435175525\n"
     ]
    },
    {
     "data": {
      "image/png": "[encoded data removed]",
      "text/plain": [
       "<Figure size 200x200 with 1 Axes>"
      ]
     },
     "metadata": {},
     "output_type": "display_data"
    },
    {
     "name": "stdout",
     "output_type": "stream",
     "text": [
      "CONVERGENCE! Perceptron converged in  (epoch:18)\n",
      "Weights => [-1. 15.], bias=-47.0\n",
      "----------------------------------------\n",
      "\n"
     ]
    }
   ],
   "source": [
    "import sys, site\n",
    "sys.path.insert(0,\"..\") \n",
    "from perceptron import perceptron as tron\n",
    "import importlib\n",
    "importlib.reload(tron)\n",
    "\n",
    "#generate a random card and train to detect horizontal partitions \n",
    "weights = np.zeros(2)\n",
    "bias = 0\n",
    "(X,Y) = training_card(vertical_partition=False)\n",
    "draw_card(X,Y)\n",
    "plt.show()\n",
    "(weights,bias, convergence) = tron.perceptron(X,Y,weights, bias,epochs=50)\n",
    "\n",
    "def debug_training_weights(weights, bias, convergence):\n",
    "    ##\n",
    "    # Try changing the number of epochs. Lower epochs are usually better. \n",
    "    ##\n",
    "    if convergence:\n",
    "        print(f\"CONVERGENCE! Perceptron converged in  (epoch:{convergence})\")\n",
    "    else: \n",
    "        print(f\"Perceptron failed to converge\")\n",
    "    print(f\"Weights => {weights}, bias={bias}\\n{'-'*40}\\n\")\n",
    "\n",
    "debug_training_weights(weights, bias, convergence)\n",
    "\n",
    "\n",
    "#print out any prediction errors the perceptron has\n",
    "def debug_function(x,y,a):\n",
    "    if (a * y) <= 0 :\n",
    "        print(f\"x={x}, y={y}, a={a}\", \"\\x1b[31mMismatch\\x1b[0m\" )\n"
   ]
  },
  {
   "cell_type": "markdown",
   "id": "9cfac29d-d0ed-4917-9461-955c5c7ee948",
   "metadata": {},
   "source": [
    "## Solution Space\n",
    "We now know what the weights for training were. You can see that prited above.\n",
    "But what does the solution space look like? Does it have many hills, is it smooth?\n",
    "\n",
    "We will plot that below as a few surfaces. We actually have 4 dimensions: 2 weights, one bias, and an error rate that we will calculate.\n"
   ]
  },
  {
   "cell_type": "code",
   "execution_count": 78,
   "id": "946014a2-1c05-4f8a-a096-433da7ac6006",
   "metadata": {},
   "outputs": [],
   "source": [
    "num_samples = 40\n",
    "weight1 = np.linspace(-20, 20, num=num_samples)\n",
    "weight2 = np.linspace(-20, 20, num=num_samples)\n",
    "biases_range =  np.linspace(-40, 40, num=num_samples)\n",
    "errors = np.zeros((num_samples,num_samples))\n",
    "biases = np.zeros((num_samples,num_samples))\n",
    "\n",
    "\n",
    "## vary the weights and see how many errors the perceptron makes\n",
    "for w2 in range(0,num_samples): #y-axis (y=0 = first row of matrix)\n",
    "    for w1 in range(0,num_samples): #x-axis (x=0 first column of matrix)\n",
    "        w = [weight1[w1],weight2[w2]]\n",
    "        min_error = 64\n",
    "        min_bias = 0\n",
    "        for b_i in range(0,num_samples): #biases are rendered as the color axis             \n",
    "            b = biases_range[b_i]\n",
    "            error_count = tron.predict_only(X, Y, w, b, debug_function=None, summarize=False)\n",
    "            if error_count <= min_error:\n",
    "                min_error = error_count \n",
    "                min_bias = b\n",
    "        errors[w2][w1] =  min_error/64\n",
    "        biases[w2][w1] = min_bias\n",
    "        #print(f\"w:{weights[w]},b:{biases[b]},cost:{z[w][b]}\")\n"
   ]
  },
  {
   "cell_type": "code",
   "execution_count": 79,
   "id": "19beecc4-925f-42db-8a75-3de46130c48d",
   "metadata": {},
   "outputs": [
    {
     "data": {
      "application/vnd.plotly.v1+json": {
       "config": {
        "plotlyServerURL": "https://plot.ly"
       },
       "data": [
        {
         "colorscale": [
          [
           0,
           "#440154"
          ],
          [
           0.1111111111111111,
           "#482878"
          ],
          [
           0.2222222222222222,
           "#3e4989"
          ],
          [
           0.3333333333333333,
           "#31688e"
          ],
          [
           0.4444444444444444,
           "#26828e"
          ],
          [
           0.5555555555555556,
           "#1f9e89"
          ],
          [
           0.6666666666666666,
           "#35b779"
          ],
          [
           0.7777777777777778,
           "#6ece58"
          ],
          [
           0.8888888888888888,
           "#b5de2b"
          ],
          [
           1,
           "#fde725"
          ]
         ],
         "type": "surface",
         "x": [
          -20,
          -18.974358974358974,
          -17.94871794871795,
          -16.923076923076923,
          -15.897435897435898,
          -14.871794871794872,
          -13.846153846153847,
          -12.820512820512821,
          -11.794871794871796,
          -10.76923076923077,
          -9.743589743589745,
          -8.717948717948719,
          -7.692307692307693,
          -6.666666666666668,
          -5.641025641025642,
          -4.615384615384617,
          -3.589743589743591,
          -2.5641025641025657,
          -1.53846153846154,
          -0.5128205128205146,
          0.512820512820511,
          1.5384615384615365,
          2.564102564102562,
          3.5897435897435876,
          4.615384615384613,
          5.641025641025639,
          6.666666666666664,
          7.69230769230769,
          8.717948717948715,
          9.743589743589741,
          10.769230769230766,
          11.794871794871792,
          12.820512820512818,
          13.84615384615384,
          14.871794871794869,
          15.897435897435898,
          16.92307692307692,
          17.948717948717942,
          18.97435897435897,
          20
         ],
         "y": [
          -20,
          -18.974358974358974,
          -17.94871794871795,
          -16.923076923076923,
          -15.897435897435898,
          -14.871794871794872,
          -13.846153846153847,
          -12.820512820512821,
          -11.794871794871796,
          -10.76923076923077,
          -9.743589743589745,
          -8.717948717948719,
          -7.692307692307693,
          -6.666666666666668,
          -5.641025641025642,
          -4.615384615384617,
          -3.589743589743591,
          -2.5641025641025657,
          -1.53846153846154,
          -0.5128205128205146,
          0.512820512820511,
          1.5384615384615365,
          2.564102564102562,
          3.5897435897435876,
          4.615384615384613,
          5.641025641025639,
          6.666666666666664,
          7.69230769230769,
          8.717948717948715,
          9.743589743589741,
          10.769230769230766,
          11.794871794871792,
          12.820512820512818,
          13.84615384615384,
          14.871794871794869,
          15.897435897435898,
          16.92307692307692,
          17.948717948717942,
          18.97435897435897,
          20
         ],
         "z": [
          [
           0.5,
           0.5,
           0.5,
           0.5,
           0.5,
           0.5,
           0.5,
           0.5,
           0.5,
           0.5,
           0.5,
           0.5,
           0.5,
           0.5,
           0.5,
           0.5,
           0.5,
           0.5,
           0.5,
           0.5,
           0.5,
           0.5,
           0.5,
           0.5,
           0.5,
           0.5,
           0.515625,
           0.53125,
           0.5625,
           0.5625,
           0.59375,
           0.609375,
           0.625,
           0.65625,
           0.671875,
           0.6875,
           0.703125,
           0.703125,
           0.703125,
           0.734375
          ],
          [
           0.5,
           0.5,
           0.5,
           0.5,
           0.5,
           0.5,
           0.5,
           0.5,
           0.5,
           0.5,
           0.5,
           0.5,
           0.5,
           0.5,
           0.5,
           0.5,
           0.5,
           0.5,
           0.5,
           0.5,
           0.5,
           0.5,
           0.5,
           0.5,
           0.5,
           0.5,
           0.515625,
           0.53125,
           0.5625,
           0.5625,
           0.59375,
           0.609375,
           0.625,
           0.65625,
           0.6875,
           0.703125,
           0.703125,
           0.703125,
           0.703125,
           0.6875
          ],
          [
           0.5,
           0.5,
           0.5,
           0.5,
           0.5,
           0.5,
           0.5,
           0.5,
           0.5,
           0.5,
           0.5,
           0.5,
           0.5,
           0.5,
           0.5,
           0.5,
           0.5,
           0.5,
           0.5,
           0.5,
           0.5,
           0.5,
           0.5,
           0.5,
           0.5,
           0.5,
           0.515625,
           0.53125,
           0.5625,
           0.578125,
           0.59375,
           0.625,
           0.640625,
           0.671875,
           0.6875,
           0.703125,
           0.703125,
           0.703125,
           0.6875,
           0.671875
          ],
          [
           0.5,
           0.5,
           0.5,
           0.5,
           0.5,
           0.5,
           0.5,
           0.5,
           0.5,
           0.5,
           0.5,
           0.5,
           0.5,
           0.5,
           0.5,
           0.5,
           0.5,
           0.5,
           0.5,
           0.5,
           0.5,
           0.5,
           0.5,
           0.5,
           0.5,
           0.5,
           0.515625,
           0.53125,
           0.5625,
           0.578125,
           0.609375,
           0.625,
           0.640625,
           0.671875,
           0.703125,
           0.703125,
           0.703125,
           0.6875,
           0.671875,
           0.671875
          ],
          [
           0.5,
           0.5,
           0.5,
           0.5,
           0.5,
           0.5,
           0.5,
           0.5,
           0.5,
           0.5,
           0.5,
           0.5,
           0.5,
           0.5,
           0.5,
           0.5,
           0.5,
           0.5,
           0.5,
           0.5,
           0.5,
           0.5,
           0.5,
           0.5,
           0.5,
           0.5,
           0.515625,
           0.53125,
           0.5625,
           0.578125,
           0.609375,
           0.625,
           0.65625,
           0.671875,
           0.703125,
           0.703125,
           0.6875,
           0.671875,
           0.671875,
           0.65625
          ],
          [
           0.5,
           0.5,
           0.5,
           0.5,
           0.5,
           0.5,
           0.5,
           0.5,
           0.5,
           0.5,
           0.5,
           0.5,
           0.5,
           0.5,
           0.5,
           0.5,
           0.5,
           0.5,
           0.5,
           0.5,
           0.5,
           0.5,
           0.5,
           0.5,
           0.5,
           0.5,
           0.515625,
           0.53125,
           0.5625,
           0.578125,
           0.609375,
           0.640625,
           0.65625,
           0.6875,
           0.703125,
           0.6875,
           0.671875,
           0.65625,
           0.65625,
           0.640625
          ],
          [
           0.5,
           0.5,
           0.5,
           0.5,
           0.5,
           0.5,
           0.5,
           0.5,
           0.5,
           0.5,
           0.5,
           0.5,
           0.5,
           0.5,
           0.5,
           0.5,
           0.5,
           0.5,
           0.5,
           0.5,
           0.5,
           0.5,
           0.5,
           0.5,
           0.5,
           0.5,
           0.515625,
           0.53125,
           0.5625,
           0.59375,
           0.609375,
           0.65625,
           0.65625,
           0.703125,
           0.65625,
           0.640625,
           0.640625,
           0.640625,
           0.640625,
           0.625
          ],
          [
           0.5,
           0.5,
           0.5,
           0.5,
           0.5,
           0.5,
           0.5,
           0.5,
           0.5,
           0.5,
           0.5,
           0.5,
           0.5,
           0.5,
           0.5,
           0.5,
           0.5,
           0.5,
           0.5,
           0.5,
           0.5,
           0.5,
           0.5,
           0.5,
           0.5,
           0.5,
           0.515625,
           0.546875,
           0.5625,
           0.59375,
           0.625,
           0.65625,
           0.65625,
           0.640625,
           0.640625,
           0.640625,
           0.640625,
           0.625,
           0.625,
           0.609375
          ],
          [
           0.5,
           0.5,
           0.5,
           0.5,
           0.5,
           0.5,
           0.5,
           0.5,
           0.5,
           0.5,
           0.5,
           0.5,
           0.5,
           0.5,
           0.5,
           0.5,
           0.5,
           0.5,
           0.5,
           0.5,
           0.5,
           0.5,
           0.5,
           0.5,
           0.5,
           0.5,
           0.515625,
           0.546875,
           0.578125,
           0.59375,
           0.640625,
           0.65625,
           0.65625,
           0.640625,
           0.640625,
           0.625,
           0.625,
           0.625,
           0.609375,
           0.609375
          ],
          [
           0.5,
           0.5,
           0.5,
           0.5,
           0.5,
           0.5,
           0.5,
           0.5,
           0.5,
           0.5,
           0.5,
           0.5,
           0.5,
           0.5,
           0.5,
           0.5,
           0.5,
           0.5,
           0.5,
           0.5,
           0.5,
           0.5,
           0.5,
           0.5,
           0.5,
           0.5,
           0.515625,
           0.546875,
           0.578125,
           0.59375,
           0.65625,
           0.640625,
           0.625,
           0.625,
           0.609375,
           0.609375,
           0.609375,
           0.59375,
           0.59375,
           0.59375
          ],
          [
           0.5,
           0.5,
           0.5,
           0.5,
           0.5,
           0.5,
           0.5,
           0.5,
           0.5,
           0.5,
           0.5,
           0.5,
           0.5,
           0.5,
           0.5,
           0.5,
           0.5,
           0.5,
           0.5,
           0.5,
           0.5,
           0.5,
           0.5,
           0.5,
           0.5,
           0.5,
           0.515625,
           0.546875,
           0.59375,
           0.59375,
           0.59375,
           0.59375,
           0.59375,
           0.59375,
           0.578125,
           0.578125,
           0.578125,
           0.578125,
           0.5625,
           0.5625
          ],
          [
           0.5,
           0.5,
           0.5,
           0.5,
           0.5,
           0.5,
           0.5,
           0.5,
           0.5,
           0.5,
           0.5,
           0.5,
           0.5,
           0.5,
           0.5,
           0.5,
           0.5,
           0.5,
           0.5,
           0.5,
           0.5,
           0.5,
           0.5,
           0.5,
           0.5,
           0.5,
           0.515625,
           0.546875,
           0.59375,
           0.59375,
           0.578125,
           0.578125,
           0.5625,
           0.5625,
           0.5625,
           0.5625,
           0.5625,
           0.5625,
           0.5625,
           0.5625
          ],
          [
           0.5,
           0.5,
           0.5,
           0.5,
           0.5,
           0.5,
           0.5,
           0.5,
           0.5,
           0.5,
           0.5,
           0.5,
           0.5,
           0.5,
           0.5,
           0.5,
           0.5,
           0.5,
           0.5,
           0.5,
           0.5,
           0.5,
           0.5,
           0.5,
           0.5,
           0.5,
           0.515625,
           0.546875,
           0.546875,
           0.546875,
           0.546875,
           0.546875,
           0.546875,
           0.546875,
           0.53125,
           0.53125,
           0.53125,
           0.53125,
           0.53125,
           0.53125
          ],
          [
           0.5,
           0.5,
           0.5,
           0.5,
           0.5,
           0.5,
           0.5,
           0.5,
           0.5,
           0.5,
           0.5,
           0.5,
           0.5,
           0.5,
           0.5,
           0.5,
           0.5,
           0.5,
           0.5,
           0.5,
           0.5,
           0.5,
           0.5,
           0.5,
           0.5,
           0.5,
           0.515625,
           0.53125,
           0.53125,
           0.53125,
           0.53125,
           0.53125,
           0.53125,
           0.53125,
           0.53125,
           0.53125,
           0.53125,
           0.53125,
           0.53125,
           0.53125
          ],
          [
           0.5,
           0.5,
           0.5,
           0.5,
           0.5,
           0.5,
           0.5,
           0.5,
           0.5,
           0.5,
           0.5,
           0.5,
           0.5,
           0.5,
           0.5,
           0.5,
           0.5,
           0.5,
           0.5,
           0.5,
           0.5,
           0.5,
           0.5,
           0.5,
           0.5,
           0.5,
           0.5,
           0.5,
           0.5,
           0.5,
           0.5,
           0.5,
           0.5,
           0.5,
           0.5,
           0.5,
           0.5,
           0.5,
           0.5,
           0.5
          ],
          [
           0.5,
           0.5,
           0.5,
           0.5,
           0.5,
           0.5,
           0.5,
           0.5,
           0.5,
           0.5,
           0.5,
           0.5,
           0.5,
           0.5,
           0.5,
           0.5,
           0.5,
           0.5,
           0.5,
           0.5,
           0.5,
           0.5,
           0.5,
           0.5,
           0.5,
           0.5,
           0.5,
           0.5,
           0.5,
           0.5,
           0.5,
           0.5,
           0.5,
           0.5,
           0.5,
           0.5,
           0.5,
           0.5,
           0.5,
           0.5
          ],
          [
           0.5,
           0.5,
           0.5,
           0.5,
           0.5,
           0.5,
           0.5,
           0.5,
           0.5,
           0.5,
           0.5,
           0.5,
           0.5,
           0.5,
           0.5,
           0.5,
           0.5,
           0.5,
           0.5,
           0.5,
           0.5,
           0.5,
           0.5,
           0.5,
           0.5,
           0.5,
           0.5,
           0.5,
           0.5,
           0.5,
           0.5,
           0.5,
           0.5,
           0.5,
           0.5,
           0.5,
           0.5,
           0.5,
           0.5,
           0.5
          ],
          [
           0.5,
           0.5,
           0.5,
           0.5,
           0.5,
           0.5,
           0.5,
           0.5,
           0.5,
           0.5,
           0.5,
           0.5,
           0.5,
           0.5,
           0.5,
           0.5,
           0.5,
           0.5,
           0.5,
           0.5,
           0.5,
           0.5,
           0.5,
           0.5,
           0.5,
           0.5,
           0.5,
           0.5,
           0.5,
           0.5,
           0.5,
           0.5,
           0.5,
           0.5,
           0.5,
           0.5,
           0.5,
           0.5,
           0.5,
           0.5
          ],
          [
           0.5,
           0.5,
           0.5,
           0.5,
           0.5,
           0.5,
           0.5,
           0.5,
           0.5,
           0.5,
           0.5,
           0.5,
           0.5,
           0.5,
           0.5,
           0.5,
           0.5,
           0.5,
           0.5,
           0.5,
           0.5,
           0.5,
           0.5,
           0.5,
           0.5,
           0.5,
           0.5,
           0.5,
           0.5,
           0.5,
           0.5,
           0.5,
           0.5,
           0.5,
           0.5,
           0.5,
           0.5,
           0.5,
           0.5,
           0.5
          ],
          [
           0.5,
           0.5,
           0.5,
           0.5,
           0.5,
           0.5,
           0.5,
           0.5,
           0.5,
           0.5,
           0.5,
           0.5,
           0.5,
           0.5,
           0.5,
           0.5,
           0.5,
           0.5,
           0.5,
           0.5,
           0.5,
           0.5,
           0.5,
           0.5,
           0.5,
           0.5,
           0.5,
           0.5,
           0.5,
           0.5,
           0.5,
           0.5,
           0.5,
           0.5,
           0.5,
           0.5,
           0.5,
           0.5,
           0.5,
           0.5
          ],
          [
           0.453125,
           0.4375,
           0.453125,
           0.4375,
           0.453125,
           0.4375,
           0.4375,
           0.4375,
           0.4375,
           0.4375,
           0.4375,
           0.4375,
           0.4375,
           0.4375,
           0.4375,
           0.4375,
           0.4375,
           0.4375,
           0.40625,
           0.265625,
           0.25,
           0.40625,
           0.4375,
           0.4375,
           0.4375,
           0.4375,
           0.4375,
           0.4375,
           0.4375,
           0.4375,
           0.4375,
           0.4375,
           0.4375,
           0.4375,
           0.453125,
           0.4375,
           0.453125,
           0.4375,
           0.453125,
           0.4375
          ],
          [
           0.4375,
           0.4375,
           0.4375,
           0.4375,
           0.4375,
           0.4375,
           0.4375,
           0.4375,
           0.4375,
           0.4375,
           0.4375,
           0.4375,
           0.4375,
           0.4375,
           0.421875,
           0.40625,
           0.375,
           0.34375,
           0.25,
           0.078125,
           0.078125,
           0.25,
           0.34375,
           0.375,
           0.40625,
           0.421875,
           0.4375,
           0.4375,
           0.4375,
           0.4375,
           0.4375,
           0.4375,
           0.4375,
           0.4375,
           0.4375,
           0.4375,
           0.4375,
           0.4375,
           0.4375,
           0.4375
          ],
          [
           0.4375,
           0.4375,
           0.4375,
           0.4375,
           0.4375,
           0.4375,
           0.4375,
           0.4375,
           0.4375,
           0.4375,
           0.421875,
           0.40625,
           0.40625,
           0.390625,
           0.375,
           0.34375,
           0.3125,
           0.25,
           0.140625,
           0.046875,
           0.046875,
           0.15625,
           0.25,
           0.3125,
           0.34375,
           0.375,
           0.390625,
           0.40625,
           0.40625,
           0.421875,
           0.4375,
           0.4375,
           0.4375,
           0.4375,
           0.4375,
           0.4375,
           0.4375,
           0.4375,
           0.4375,
           0.4375
          ],
          [
           0.4375,
           0.4375,
           0.4375,
           0.4375,
           0.4375,
           0.4375,
           0.421875,
           0.421875,
           0.40625,
           0.40625,
           0.390625,
           0.375,
           0.375,
           0.34375,
           0.328125,
           0.296875,
           0.25,
           0.171875,
           0.109375,
           0.03125,
           0.03125,
           0.109375,
           0.171875,
           0.25,
           0.296875,
           0.328125,
           0.34375,
           0.375,
           0.375,
           0.390625,
           0.40625,
           0.40625,
           0.421875,
           0.421875,
           0.4375,
           0.4375,
           0.4375,
           0.4375,
           0.4375,
           0.4375
          ],
          [
           0.4375,
           0.4375,
           0.421875,
           0.421875,
           0.421875,
           0.40625,
           0.40625,
           0.390625,
           0.390625,
           0.375,
           0.375,
           0.34375,
           0.34375,
           0.3125,
           0.28125,
           0.25,
           0.1875,
           0.125,
           0.078125,
           0.015625,
           0,
           0.078125,
           0.140625,
           0.1875,
           0.25,
           0.28125,
           0.3125,
           0.34375,
           0.34375,
           0.375,
           0.375,
           0.390625,
           0.390625,
           0.40625,
           0.40625,
           0.421875,
           0.421875,
           0.421875,
           0.4375,
           0.4375
          ],
          [
           0.421875,
           0.40625,
           0.40625,
           0.40625,
           0.390625,
           0.390625,
           0.375,
           0.375,
           0.375,
           0.34375,
           0.34375,
           0.328125,
           0.3125,
           0.265625,
           0.25,
           0.1875,
           0.15625,
           0.09375,
           0.0625,
           0,
           0,
           0.0625,
           0.09375,
           0.15625,
           0.1875,
           0.25,
           0.265625,
           0.3125,
           0.328125,
           0.34375,
           0.359375,
           0.375,
           0.375,
           0.390625,
           0.390625,
           0.390625,
           0.40625,
           0.40625,
           0.40625,
           0.421875
          ],
          [
           0.40625,
           0.390625,
           0.390625,
           0.390625,
           0.375,
           0.375,
           0.375,
           0.34375,
           0.34375,
           0.328125,
           0.3125,
           0.296875,
           0.265625,
           0.25,
           0.1875,
           0.15625,
           0.125,
           0.078125,
           0.046875,
           0,
           0,
           0.046875,
           0.09375,
           0.125,
           0.171875,
           0.21875,
           0.25,
           0.28125,
           0.3125,
           0.328125,
           0.34375,
           0.34375,
           0.375,
           0.375,
           0.375,
           0.390625,
           0.390625,
           0.390625,
           0.40625,
           0.421875
          ],
          [
           0.390625,
           0.375,
           0.375,
           0.375,
           0.375,
           0.34375,
           0.34375,
           0.34375,
           0.328125,
           0.3125,
           0.296875,
           0.25,
           0.25,
           0.1875,
           0.1875,
           0.140625,
           0.109375,
           0.078125,
           0.046875,
           0,
           0,
           0.046875,
           0.078125,
           0.109375,
           0.15625,
           0.1875,
           0.25,
           0.265625,
           0.296875,
           0.3125,
           0.328125,
           0.34375,
           0.359375,
           0.359375,
           0.359375,
           0.375,
           0.390625,
           0.390625,
           0.390625,
           0.40625
          ],
          [
           0.375,
           0.375,
           0.375,
           0.34375,
           0.34375,
           0.34375,
           0.328125,
           0.3125,
           0.3125,
           0.28125,
           0.25,
           0.25,
           0.1875,
           0.1875,
           0.140625,
           0.125,
           0.09375,
           0.0625,
           0.03125,
           0,
           0,
           0.03125,
           0.078125,
           0.109375,
           0.15625,
           0.171875,
           0.21875,
           0.265625,
           0.296875,
           0.296875,
           0.328125,
           0.34375,
           0.34375,
           0.359375,
           0.375,
           0.375,
           0.390625,
           0.390625,
           0.390625,
           0.40625
          ],
          [
           0.375,
           0.34375,
           0.34375,
           0.34375,
           0.328125,
           0.328125,
           0.3125,
           0.296875,
           0.28125,
           0.25,
           0.25,
           0.1875,
           0.1875,
           0.15625,
           0.140625,
           0.09375,
           0.078125,
           0.0625,
           0.015625,
           0,
           0,
           0.015625,
           0.0625,
           0.109375,
           0.15625,
           0.203125,
           0.234375,
           0.28125,
           0.28125,
           0.296875,
           0.34375,
           0.34375,
           0.359375,
           0.359375,
           0.375,
           0.375,
           0.375,
           0.375,
           0.390625,
           0.40625
          ],
          [
           0.34375,
           0.34375,
           0.34375,
           0.328125,
           0.3125,
           0.3125,
           0.296875,
           0.265625,
           0.25,
           0.25,
           0.1875,
           0.1875,
           0.171875,
           0.140625,
           0.125,
           0.09375,
           0.078125,
           0.046875,
           0.015625,
           0,
           0,
           0.03125,
           0.0625,
           0.109375,
           0.15625,
           0.1875,
           0.234375,
           0.265625,
           0.296875,
           0.3125,
           0.34375,
           0.34375,
           0.34375,
           0.359375,
           0.375,
           0.375,
           0.375,
           0.375,
           0.390625,
           0.40625
          ],
          [
           0.34375,
           0.328125,
           0.328125,
           0.3125,
           0.3125,
           0.296875,
           0.265625,
           0.25,
           0.25,
           0.1875,
           0.1875,
           0.171875,
           0.15625,
           0.125,
           0.109375,
           0.078125,
           0.0625,
           0.046875,
           0,
           0,
           0,
           0.0625,
           0.109375,
           0.140625,
           0.171875,
           0.21875,
           0.25,
           0.28125,
           0.3125,
           0.328125,
           0.34375,
           0.34375,
           0.34375,
           0.359375,
           0.375,
           0.375,
           0.390625,
           0.390625,
           0.390625,
           0.40625
          ],
          [
           0.328125,
           0.328125,
           0.3125,
           0.296875,
           0.28125,
           0.265625,
           0.25,
           0.25,
           0.1875,
           0.1875,
           0.1875,
           0.15625,
           0.140625,
           0.125,
           0.09375,
           0.078125,
           0.0625,
           0.046875,
           0,
           0,
           0.0625,
           0.09375,
           0.140625,
           0.15625,
           0.203125,
           0.234375,
           0.25,
           0.296875,
           0.3125,
           0.328125,
           0.34375,
           0.34375,
           0.34375,
           0.375,
           0.390625,
           0.390625,
           0.390625,
           0.390625,
           0.390625,
           0.40625
          ],
          [
           0.3125,
           0.3125,
           0.296875,
           0.28125,
           0.25,
           0.25,
           0.25,
           0.1875,
           0.1875,
           0.1875,
           0.171875,
           0.140625,
           0.125,
           0.09375,
           0.09375,
           0.078125,
           0.0625,
           0.046875,
           0.015625,
           0.046875,
           0.125,
           0.125,
           0.171875,
           0.1875,
           0.234375,
           0.25,
           0.296875,
           0.3125,
           0.328125,
           0.34375,
           0.359375,
           0.359375,
           0.375,
           0.40625,
           0.40625,
           0.40625,
           0.40625,
           0.40625,
           0.40625,
           0.421875
          ],
          [
           0.3125,
           0.296875,
           0.28125,
           0.25,
           0.25,
           0.25,
           0.1875,
           0.1875,
           0.1875,
           0.171875,
           0.140625,
           0.125,
           0.125,
           0.09375,
           0.078125,
           0.0625,
           0.046875,
           0.03125,
           0.046875,
           0.125,
           0.125,
           0.140625,
           0.171875,
           0.203125,
           0.234375,
           0.265625,
           0.296875,
           0.3125,
           0.34375,
           0.34375,
           0.375,
           0.375,
           0.390625,
           0.40625,
           0.40625,
           0.40625,
           0.40625,
           0.40625,
           0.40625,
           0.421875
          ],
          [
           0.296875,
           0.265625,
           0.25,
           0.25,
           0.25,
           0.203125,
           0.1875,
           0.1875,
           0.1875,
           0.15625,
           0.140625,
           0.125,
           0.125,
           0.09375,
           0.078125,
           0.0625,
           0.046875,
           0.0625,
           0.078125,
           0.125,
           0.125,
           0.15625,
           0.1875,
           0.21875,
           0.25,
           0.265625,
           0.296875,
           0.3125,
           0.359375,
           0.359375,
           0.375,
           0.375,
           0.390625,
           0.40625,
           0.40625,
           0.40625,
           0.40625,
           0.40625,
           0.40625,
           0.421875
          ],
          [
           0.265625,
           0.25,
           0.25,
           0.25,
           0.1875,
           0.1875,
           0.1875,
           0.1875,
           0.15625,
           0.140625,
           0.125,
           0.125,
           0.09375,
           0.078125,
           0.078125,
           0.0625,
           0.046875,
           0.078125,
           0.109375,
           0.125,
           0.125,
           0.171875,
           0.203125,
           0.234375,
           0.25,
           0.265625,
           0.3125,
           0.328125,
           0.359375,
           0.359375,
           0.375,
           0.390625,
           0.390625,
           0.40625,
           0.40625,
           0.40625,
           0.40625,
           0.40625,
           0.40625,
           0.421875
          ],
          [
           0.25,
           0.25,
           0.25,
           0.1875,
           0.1875,
           0.1875,
           0.1875,
           0.171875,
           0.15625,
           0.140625,
           0.125,
           0.09375,
           0.09375,
           0.078125,
           0.078125,
           0.0625,
           0.0625,
           0.09375,
           0.125,
           0.125,
           0.125,
           0.203125,
           0.21875,
           0.234375,
           0.28125,
           0.296875,
           0.3125,
           0.34375,
           0.359375,
           0.359375,
           0.375,
           0.390625,
           0.390625,
           0.40625,
           0.40625,
           0.40625,
           0.40625,
           0.40625,
           0.40625,
           0.421875
          ],
          [
           0.25,
           0.25,
           0.1875,
           0.1875,
           0.1875,
           0.1875,
           0.171875,
           0.15625,
           0.140625,
           0.125,
           0.125,
           0.09375,
           0.09375,
           0.078125,
           0.0625,
           0.0625,
           0.078125,
           0.109375,
           0.125,
           0.125,
           0.171875,
           0.21875,
           0.234375,
           0.265625,
           0.28125,
           0.296875,
           0.3125,
           0.34375,
           0.359375,
           0.359375,
           0.390625,
           0.390625,
           0.390625,
           0.40625,
           0.40625,
           0.40625,
           0.40625,
           0.40625,
           0.40625,
           0.421875
          ],
          [
           0.25,
           0.203125,
           0.1875,
           0.1875,
           0.1875,
           0.171875,
           0.15625,
           0.140625,
           0.140625,
           0.125,
           0.125,
           0.09375,
           0.09375,
           0.09375,
           0.078125,
           0.09375,
           0.109375,
           0.140625,
           0.140625,
           0.140625,
           0.25,
           0.25,
           0.25,
           0.28125,
           0.296875,
           0.3125,
           0.328125,
           0.359375,
           0.375,
           0.375,
           0.40625,
           0.40625,
           0.40625,
           0.421875,
           0.421875,
           0.421875,
           0.421875,
           0.421875,
           0.421875,
           0.453125
          ]
         ]
        }
       ],
       "layout": {
        "height": 480,
        "margin": {
         "b": 10,
         "l": 10,
         "r": 20,
         "t": 10
        },
        "scene": {
         "aspectmode": "auto",
         "aspectratio": {
          "x": 1,
          "y": 1,
          "z": 1
         },
         "camera": {
          "center": {
           "x": 0,
           "y": 0,
           "z": 0
          },
          "eye": {
           "x": -1.4449186377903096,
           "y": 1.399624413261244,
           "z": 0.3076374782939948
          },
          "projection": {
           "type": "perspective"
          },
          "up": {
           "x": 0,
           "y": 0,
           "z": 1
          }
         },
         "xaxis": {
          "title": {
           "text": "weight-1"
          },
          "type": "linear"
         },
         "yaxis": {
          "title": {
           "text": "weight-2"
          },
          "type": "linear"
         },
         "zaxis": {
          "title": {
           "text": "error rate"
          },
          "type": "linear"
         }
        },
        "template": {
         "data": {
          "bar": [
           {
            "error_x": {
             "color": "#2a3f5f"
            },
            "error_y": {
             "color": "#2a3f5f"
            },
            "marker": {
             "line": {
              "color": "#E5ECF6",
              "width": 0.5
             },
             "pattern": {
              "fillmode": "overlay",
              "size": 10,
              "solidity": 0.2
             }
            },
            "type": "bar"
           }
          ],
          "barpolar": [
           {
            "marker": {
             "line": {
              "color": "#E5ECF6",
              "width": 0.5
             },
             "pattern": {
              "fillmode": "overlay",
              "size": 10,
              "solidity": 0.2
             }
            },
            "type": "barpolar"
           }
          ],
          "carpet": [
           {
            "aaxis": {
             "endlinecolor": "#2a3f5f",
             "gridcolor": "white",
             "linecolor": "white",
             "minorgridcolor": "white",
             "startlinecolor": "#2a3f5f"
            },
            "baxis": {
             "endlinecolor": "#2a3f5f",
             "gridcolor": "white",
             "linecolor": "white",
             "minorgridcolor": "white",
             "startlinecolor": "#2a3f5f"
            },
            "type": "carpet"
           }
          ],
          "choropleth": [
           {
            "colorbar": {
             "outlinewidth": 0,
             "ticks": ""
            },
            "type": "choropleth"
           }
          ],
          "contour": [
           {
            "colorbar": {
             "outlinewidth": 0,
             "ticks": ""
            },
            "colorscale": [
             [
              0,
              "#0d0887"
             ],
             [
              0.1111111111111111,
              "#46039f"
             ],
             [
              0.2222222222222222,
              "#7201a8"
             ],
             [
              0.3333333333333333,
              "#9c179e"
             ],
             [
              0.4444444444444444,
              "#bd3786"
             ],
             [
              0.5555555555555556,
              "#d8576b"
             ],
             [
              0.6666666666666666,
              "#ed7953"
             ],
             [
              0.7777777777777778,
              "#fb9f3a"
             ],
             [
              0.8888888888888888,
              "#fdca26"
             ],
             [
              1,
              "#f0f921"
             ]
            ],
            "type": "contour"
           }
          ],
          "contourcarpet": [
           {
            "colorbar": {
             "outlinewidth": 0,
             "ticks": ""
            },
            "type": "contourcarpet"
           }
          ],
          "heatmap": [
           {
            "colorbar": {
             "outlinewidth": 0,
             "ticks": ""
            },
            "colorscale": [
             [
              0,
              "#0d0887"
             ],
             [
              0.1111111111111111,
              "#46039f"
             ],
             [
              0.2222222222222222,
              "#7201a8"
             ],
             [
              0.3333333333333333,
              "#9c179e"
             ],
             [
              0.4444444444444444,
              "#bd3786"
             ],
             [
              0.5555555555555556,
              "#d8576b"
             ],
             [
              0.6666666666666666,
              "#ed7953"
             ],
             [
              0.7777777777777778,
              "#fb9f3a"
             ],
             [
              0.8888888888888888,
              "#fdca26"
             ],
             [
              1,
              "#f0f921"
             ]
            ],
            "type": "heatmap"
           }
          ],
          "heatmapgl": [
           {
            "colorbar": {
             "outlinewidth": 0,
             "ticks": ""
            },
            "colorscale": [
             [
              0,
              "#0d0887"
             ],
             [
              0.1111111111111111,
              "#46039f"
             ],
             [
              0.2222222222222222,
              "#7201a8"
             ],
             [
              0.3333333333333333,
              "#9c179e"
             ],
             [
              0.4444444444444444,
              "#bd3786"
             ],
             [
              0.5555555555555556,
              "#d8576b"
             ],
             [
              0.6666666666666666,
              "#ed7953"
             ],
             [
              0.7777777777777778,
              "#fb9f3a"
             ],
             [
              0.8888888888888888,
              "#fdca26"
             ],
             [
              1,
              "#f0f921"
             ]
            ],
            "type": "heatmapgl"
           }
          ],
          "histogram": [
           {
            "marker": {
             "pattern": {
              "fillmode": "overlay",
              "size": 10,
              "solidity": 0.2
             }
            },
            "type": "histogram"
           }
          ],
          "histogram2d": [
           {
            "colorbar": {
             "outlinewidth": 0,
             "ticks": ""
            },
            "colorscale": [
             [
              0,
              "#0d0887"
             ],
             [
              0.1111111111111111,
              "#46039f"
             ],
             [
              0.2222222222222222,
              "#7201a8"
             ],
             [
              0.3333333333333333,
              "#9c179e"
             ],
             [
              0.4444444444444444,
              "#bd3786"
             ],
             [
              0.5555555555555556,
              "#d8576b"
             ],
             [
              0.6666666666666666,
              "#ed7953"
             ],
             [
              0.7777777777777778,
              "#fb9f3a"
             ],
             [
              0.8888888888888888,
              "#fdca26"
             ],
             [
              1,
              "#f0f921"
             ]
            ],
            "type": "histogram2d"
           }
          ],
          "histogram2dcontour": [
           {
            "colorbar": {
             "outlinewidth": 0,
             "ticks": ""
            },
            "colorscale": [
             [
              0,
              "#0d0887"
             ],
             [
              0.1111111111111111,
              "#46039f"
             ],
             [
              0.2222222222222222,
              "#7201a8"
             ],
             [
              0.3333333333333333,
              "#9c179e"
             ],
             [
              0.4444444444444444,
              "#bd3786"
             ],
             [
              0.5555555555555556,
              "#d8576b"
             ],
             [
              0.6666666666666666,
              "#ed7953"
             ],
             [
              0.7777777777777778,
              "#fb9f3a"
             ],
             [
              0.8888888888888888,
              "#fdca26"
             ],
             [
              1,
              "#f0f921"
             ]
            ],
            "type": "histogram2dcontour"
           }
          ],
          "mesh3d": [
           {
            "colorbar": {
             "outlinewidth": 0,
             "ticks": ""
            },
            "type": "mesh3d"
           }
          ],
          "parcoords": [
           {
            "line": {
             "colorbar": {
              "outlinewidth": 0,
              "ticks": ""
             }
            },
            "type": "parcoords"
           }
          ],
          "pie": [
           {
            "automargin": true,
            "type": "pie"
           }
          ],
          "scatter": [
           {
            "fillpattern": {
             "fillmode": "overlay",
             "size": 10,
             "solidity": 0.2
            },
            "type": "scatter"
           }
          ],
          "scatter3d": [
           {
            "line": {
             "colorbar": {
              "outlinewidth": 0,
              "ticks": ""
             }
            },
            "marker": {
             "colorbar": {
              "outlinewidth": 0,
              "ticks": ""
             }
            },
            "type": "scatter3d"
           }
          ],
          "scattercarpet": [
           {
            "marker": {
             "colorbar": {
              "outlinewidth": 0,
              "ticks": ""
             }
            },
            "type": "scattercarpet"
           }
          ],
          "scattergeo": [
           {
            "marker": {
             "colorbar": {
              "outlinewidth": 0,
              "ticks": ""
             }
            },
            "type": "scattergeo"
           }
          ],
          "scattergl": [
           {
            "marker": {
             "colorbar": {
              "outlinewidth": 0,
              "ticks": ""
             }
            },
            "type": "scattergl"
           }
          ],
          "scattermapbox": [
           {
            "marker": {
             "colorbar": {
              "outlinewidth": 0,
              "ticks": ""
             }
            },
            "type": "scattermapbox"
           }
          ],
          "scatterpolar": [
           {
            "marker": {
             "colorbar": {
              "outlinewidth": 0,
              "ticks": ""
             }
            },
            "type": "scatterpolar"
           }
          ],
          "scatterpolargl": [
           {
            "marker": {
             "colorbar": {
              "outlinewidth": 0,
              "ticks": ""
             }
            },
            "type": "scatterpolargl"
           }
          ],
          "scatterternary": [
           {
            "marker": {
             "colorbar": {
              "outlinewidth": 0,
              "ticks": ""
             }
            },
            "type": "scatterternary"
           }
          ],
          "surface": [
           {
            "colorbar": {
             "outlinewidth": 0,
             "ticks": ""
            },
            "colorscale": [
             [
              0,
              "#0d0887"
             ],
             [
              0.1111111111111111,
              "#46039f"
             ],
             [
              0.2222222222222222,
              "#7201a8"
             ],
             [
              0.3333333333333333,
              "#9c179e"
             ],
             [
              0.4444444444444444,
              "#bd3786"
             ],
             [
              0.5555555555555556,
              "#d8576b"
             ],
             [
              0.6666666666666666,
              "#ed7953"
             ],
             [
              0.7777777777777778,
              "#fb9f3a"
             ],
             [
              0.8888888888888888,
              "#fdca26"
             ],
             [
              1,
              "#f0f921"
             ]
            ],
            "type": "surface"
           }
          ],
          "table": [
           {
            "cells": {
             "fill": {
              "color": "#EBF0F8"
             },
             "line": {
              "color": "white"
             }
            },
            "header": {
             "fill": {
              "color": "#C8D4E3"
             },
             "line": {
              "color": "white"
             }
            },
            "type": "table"
           }
          ]
         },
         "layout": {
          "annotationdefaults": {
           "arrowcolor": "#2a3f5f",
           "arrowhead": 0,
           "arrowwidth": 1
          },
          "autotypenumbers": "strict",
          "coloraxis": {
           "colorbar": {
            "outlinewidth": 0,
            "ticks": ""
           }
          },
          "colorscale": {
           "diverging": [
            [
             0,
             "#8e0152"
            ],
            [
             0.1,
             "#c51b7d"
            ],
            [
             0.2,
             "#de77ae"
            ],
            [
             0.3,
             "#f1b6da"
            ],
            [
             0.4,
             "#fde0ef"
            ],
            [
             0.5,
             "#f7f7f7"
            ],
            [
             0.6,
             "#e6f5d0"
            ],
            [
             0.7,
             "#b8e186"
            ],
            [
             0.8,
             "#7fbc41"
            ],
            [
             0.9,
             "#4d9221"
            ],
            [
             1,
             "#276419"
            ]
           ],
           "sequential": [
            [
             0,
             "#0d0887"
            ],
            [
             0.1111111111111111,
             "#46039f"
            ],
            [
             0.2222222222222222,
             "#7201a8"
            ],
            [
             0.3333333333333333,
             "#9c179e"
            ],
            [
             0.4444444444444444,
             "#bd3786"
            ],
            [
             0.5555555555555556,
             "#d8576b"
            ],
            [
             0.6666666666666666,
             "#ed7953"
            ],
            [
             0.7777777777777778,
             "#fb9f3a"
            ],
            [
             0.8888888888888888,
             "#fdca26"
            ],
            [
             1,
             "#f0f921"
            ]
           ],
           "sequentialminus": [
            [
             0,
             "#0d0887"
            ],
            [
             0.1111111111111111,
             "#46039f"
            ],
            [
             0.2222222222222222,
             "#7201a8"
            ],
            [
             0.3333333333333333,
             "#9c179e"
            ],
            [
             0.4444444444444444,
             "#bd3786"
            ],
            [
             0.5555555555555556,
             "#d8576b"
            ],
            [
             0.6666666666666666,
             "#ed7953"
            ],
            [
             0.7777777777777778,
             "#fb9f3a"
            ],
            [
             0.8888888888888888,
             "#fdca26"
            ],
            [
             1,
             "#f0f921"
            ]
           ]
          },
          "colorway": [
           "#636efa",
           "#EF553B",
           "#00cc96",
           "#ab63fa",
           "#FFA15A",
           "#19d3f3",
           "#FF6692",
           "#B6E880",
           "#FF97FF",
           "#FECB52"
          ],
          "font": {
           "color": "#2a3f5f"
          },
          "geo": {
           "bgcolor": "white",
           "lakecolor": "white",
           "landcolor": "#E5ECF6",
           "showlakes": true,
           "showland": true,
           "subunitcolor": "white"
          },
          "hoverlabel": {
           "align": "left"
          },
          "hovermode": "closest",
          "mapbox": {
           "style": "light"
          },
          "paper_bgcolor": "white",
          "plot_bgcolor": "#E5ECF6",
          "polar": {
           "angularaxis": {
            "gridcolor": "white",
            "linecolor": "white",
            "ticks": ""
           },
           "bgcolor": "#E5ECF6",
           "radialaxis": {
            "gridcolor": "white",
            "linecolor": "white",
            "ticks": ""
           }
          },
          "scene": {
           "xaxis": {
            "backgroundcolor": "#E5ECF6",
            "gridcolor": "white",
            "gridwidth": 2,
            "linecolor": "white",
            "showbackground": true,
            "ticks": "",
            "zerolinecolor": "white"
           },
           "yaxis": {
            "backgroundcolor": "#E5ECF6",
            "gridcolor": "white",
            "gridwidth": 2,
            "linecolor": "white",
            "showbackground": true,
            "ticks": "",
            "zerolinecolor": "white"
           },
           "zaxis": {
            "backgroundcolor": "#E5ECF6",
            "gridcolor": "white",
            "gridwidth": 2,
            "linecolor": "white",
            "showbackground": true,
            "ticks": "",
            "zerolinecolor": "white"
           }
          },
          "shapedefaults": {
           "line": {
            "color": "#2a3f5f"
           }
          },
          "ternary": {
           "aaxis": {
            "gridcolor": "white",
            "linecolor": "white",
            "ticks": ""
           },
           "baxis": {
            "gridcolor": "white",
            "linecolor": "white",
            "ticks": ""
           },
           "bgcolor": "#E5ECF6",
           "caxis": {
            "gridcolor": "white",
            "linecolor": "white",
            "ticks": ""
           }
          },
          "title": {
           "x": 0.05
          },
          "xaxis": {
           "automargin": true,
           "gridcolor": "white",
           "linecolor": "white",
           "ticks": "",
           "title": {
            "standoff": 15
           },
           "zerolinecolor": "white",
           "zerolinewidth": 2
          },
          "yaxis": {
           "automargin": true,
           "gridcolor": "white",
           "linecolor": "white",
           "ticks": "",
           "title": {
            "standoff": 15
           },
           "zerolinecolor": "white",
           "zerolinewidth": 2
          }
         }
        },
        "width": 800
       }
      },
      "text/html": [
       "<div>                            <div id=\"7efee119-4378-4c80-b505-3c9c6fc9d48e\" class=\"plotly-graph-div\" style=\"height:480px; width:800px;\"></div>            <script type=\"text/javascript\">                require([\"plotly\"], function(Plotly) {                    window.PLOTLYENV=window.PLOTLYENV || {};                                    if (document.getElementById(\"7efee119-4378-4c80-b505-3c9c6fc9d48e\")) {                    Plotly.newPlot(                        \"7efee119-4378-4c80-b505-3c9c6fc9d48e\",                        [{\"colorscale\":[[0.0,\"#440154\"],[0.1111111111111111,\"#482878\"],[0.2222222222222222,\"#3e4989\"],[0.3333333333333333,\"#31688e\"],[0.4444444444444444,\"#26828e\"],[0.5555555555555556,\"#1f9e89\"],[0.6666666666666666,\"#35b779\"],[0.7777777777777778,\"#6ece58\"],[0.8888888888888888,\"#b5de2b\"],[1.0,\"#fde725\"]],\"x\":[-20.0,-18.974358974358974,-17.94871794871795,-16.923076923076923,-15.897435897435898,-14.871794871794872,-13.846153846153847,-12.820512820512821,-11.794871794871796,-10.76923076923077,-9.743589743589745,-8.717948717948719,-7.692307692307693,-6.666666666666668,-5.641025641025642,-4.615384615384617,-3.589743589743591,-2.5641025641025657,-1.53846153846154,-0.5128205128205146,0.512820512820511,1.5384615384615365,2.564102564102562,3.5897435897435876,4.615384615384613,5.641025641025639,6.666666666666664,7.69230769230769,8.717948717948715,9.743589743589741,10.769230769230766,11.794871794871792,12.820512820512818,13.84615384615384,14.871794871794869,15.897435897435898,16.92307692307692,17.948717948717942,18.97435897435897,20.0],\"y\":[-20.0,-18.974358974358974,-17.94871794871795,-16.923076923076923,-15.897435897435898,-14.871794871794872,-13.846153846153847,-12.820512820512821,-11.794871794871796,-10.76923076923077,-9.743589743589745,-8.717948717948719,-7.692307692307693,-6.666666666666668,-5.641025641025642,-4.615384615384617,-3.589743589743591,-2.5641025641025657,-1.53846153846154,-0.5128205128205146,0.512820512820511,1.5384615384615365,2.564102564102562,3.5897435897435876,4.615384615384613,5.641025641025639,6.666666666666664,7.69230769230769,8.717948717948715,9.743589743589741,10.769230769230766,11.794871794871792,12.820512820512818,13.84615384615384,14.871794871794869,15.897435897435898,16.92307692307692,17.948717948717942,18.97435897435897,20.0],\"z\":[[0.5,0.5,0.5,0.5,0.5,0.5,0.5,0.5,0.5,0.5,0.5,0.5,0.5,0.5,0.5,0.5,0.5,0.5,0.5,0.5,0.5,0.5,0.5,0.5,0.5,0.5,0.515625,0.53125,0.5625,0.5625,0.59375,0.609375,0.625,0.65625,0.671875,0.6875,0.703125,0.703125,0.703125,0.734375],[0.5,0.5,0.5,0.5,0.5,0.5,0.5,0.5,0.5,0.5,0.5,0.5,0.5,0.5,0.5,0.5,0.5,0.5,0.5,0.5,0.5,0.5,0.5,0.5,0.5,0.5,0.515625,0.53125,0.5625,0.5625,0.59375,0.609375,0.625,0.65625,0.6875,0.703125,0.703125,0.703125,0.703125,0.6875],[0.5,0.5,0.5,0.5,0.5,0.5,0.5,0.5,0.5,0.5,0.5,0.5,0.5,0.5,0.5,0.5,0.5,0.5,0.5,0.5,0.5,0.5,0.5,0.5,0.5,0.5,0.515625,0.53125,0.5625,0.578125,0.59375,0.625,0.640625,0.671875,0.6875,0.703125,0.703125,0.703125,0.6875,0.671875],[0.5,0.5,0.5,0.5,0.5,0.5,0.5,0.5,0.5,0.5,0.5,0.5,0.5,0.5,0.5,0.5,0.5,0.5,0.5,0.5,0.5,0.5,0.5,0.5,0.5,0.5,0.515625,0.53125,0.5625,0.578125,0.609375,0.625,0.640625,0.671875,0.703125,0.703125,0.703125,0.6875,0.671875,0.671875],[0.5,0.5,0.5,0.5,0.5,0.5,0.5,0.5,0.5,0.5,0.5,0.5,0.5,0.5,0.5,0.5,0.5,0.5,0.5,0.5,0.5,0.5,0.5,0.5,0.5,0.5,0.515625,0.53125,0.5625,0.578125,0.609375,0.625,0.65625,0.671875,0.703125,0.703125,0.6875,0.671875,0.671875,0.65625],[0.5,0.5,0.5,0.5,0.5,0.5,0.5,0.5,0.5,0.5,0.5,0.5,0.5,0.5,0.5,0.5,0.5,0.5,0.5,0.5,0.5,0.5,0.5,0.5,0.5,0.5,0.515625,0.53125,0.5625,0.578125,0.609375,0.640625,0.65625,0.6875,0.703125,0.6875,0.671875,0.65625,0.65625,0.640625],[0.5,0.5,0.5,0.5,0.5,0.5,0.5,0.5,0.5,0.5,0.5,0.5,0.5,0.5,0.5,0.5,0.5,0.5,0.5,0.5,0.5,0.5,0.5,0.5,0.5,0.5,0.515625,0.53125,0.5625,0.59375,0.609375,0.65625,0.65625,0.703125,0.65625,0.640625,0.640625,0.640625,0.640625,0.625],[0.5,0.5,0.5,0.5,0.5,0.5,0.5,0.5,0.5,0.5,0.5,0.5,0.5,0.5,0.5,0.5,0.5,0.5,0.5,0.5,0.5,0.5,0.5,0.5,0.5,0.5,0.515625,0.546875,0.5625,0.59375,0.625,0.65625,0.65625,0.640625,0.640625,0.640625,0.640625,0.625,0.625,0.609375],[0.5,0.5,0.5,0.5,0.5,0.5,0.5,0.5,0.5,0.5,0.5,0.5,0.5,0.5,0.5,0.5,0.5,0.5,0.5,0.5,0.5,0.5,0.5,0.5,0.5,0.5,0.515625,0.546875,0.578125,0.59375,0.640625,0.65625,0.65625,0.640625,0.640625,0.625,0.625,0.625,0.609375,0.609375],[0.5,0.5,0.5,0.5,0.5,0.5,0.5,0.5,0.5,0.5,0.5,0.5,0.5,0.5,0.5,0.5,0.5,0.5,0.5,0.5,0.5,0.5,0.5,0.5,0.5,0.5,0.515625,0.546875,0.578125,0.59375,0.65625,0.640625,0.625,0.625,0.609375,0.609375,0.609375,0.59375,0.59375,0.59375],[0.5,0.5,0.5,0.5,0.5,0.5,0.5,0.5,0.5,0.5,0.5,0.5,0.5,0.5,0.5,0.5,0.5,0.5,0.5,0.5,0.5,0.5,0.5,0.5,0.5,0.5,0.515625,0.546875,0.59375,0.59375,0.59375,0.59375,0.59375,0.59375,0.578125,0.578125,0.578125,0.578125,0.5625,0.5625],[0.5,0.5,0.5,0.5,0.5,0.5,0.5,0.5,0.5,0.5,0.5,0.5,0.5,0.5,0.5,0.5,0.5,0.5,0.5,0.5,0.5,0.5,0.5,0.5,0.5,0.5,0.515625,0.546875,0.59375,0.59375,0.578125,0.578125,0.5625,0.5625,0.5625,0.5625,0.5625,0.5625,0.5625,0.5625],[0.5,0.5,0.5,0.5,0.5,0.5,0.5,0.5,0.5,0.5,0.5,0.5,0.5,0.5,0.5,0.5,0.5,0.5,0.5,0.5,0.5,0.5,0.5,0.5,0.5,0.5,0.515625,0.546875,0.546875,0.546875,0.546875,0.546875,0.546875,0.546875,0.53125,0.53125,0.53125,0.53125,0.53125,0.53125],[0.5,0.5,0.5,0.5,0.5,0.5,0.5,0.5,0.5,0.5,0.5,0.5,0.5,0.5,0.5,0.5,0.5,0.5,0.5,0.5,0.5,0.5,0.5,0.5,0.5,0.5,0.515625,0.53125,0.53125,0.53125,0.53125,0.53125,0.53125,0.53125,0.53125,0.53125,0.53125,0.53125,0.53125,0.53125],[0.5,0.5,0.5,0.5,0.5,0.5,0.5,0.5,0.5,0.5,0.5,0.5,0.5,0.5,0.5,0.5,0.5,0.5,0.5,0.5,0.5,0.5,0.5,0.5,0.5,0.5,0.5,0.5,0.5,0.5,0.5,0.5,0.5,0.5,0.5,0.5,0.5,0.5,0.5,0.5],[0.5,0.5,0.5,0.5,0.5,0.5,0.5,0.5,0.5,0.5,0.5,0.5,0.5,0.5,0.5,0.5,0.5,0.5,0.5,0.5,0.5,0.5,0.5,0.5,0.5,0.5,0.5,0.5,0.5,0.5,0.5,0.5,0.5,0.5,0.5,0.5,0.5,0.5,0.5,0.5],[0.5,0.5,0.5,0.5,0.5,0.5,0.5,0.5,0.5,0.5,0.5,0.5,0.5,0.5,0.5,0.5,0.5,0.5,0.5,0.5,0.5,0.5,0.5,0.5,0.5,0.5,0.5,0.5,0.5,0.5,0.5,0.5,0.5,0.5,0.5,0.5,0.5,0.5,0.5,0.5],[0.5,0.5,0.5,0.5,0.5,0.5,0.5,0.5,0.5,0.5,0.5,0.5,0.5,0.5,0.5,0.5,0.5,0.5,0.5,0.5,0.5,0.5,0.5,0.5,0.5,0.5,0.5,0.5,0.5,0.5,0.5,0.5,0.5,0.5,0.5,0.5,0.5,0.5,0.5,0.5],[0.5,0.5,0.5,0.5,0.5,0.5,0.5,0.5,0.5,0.5,0.5,0.5,0.5,0.5,0.5,0.5,0.5,0.5,0.5,0.5,0.5,0.5,0.5,0.5,0.5,0.5,0.5,0.5,0.5,0.5,0.5,0.5,0.5,0.5,0.5,0.5,0.5,0.5,0.5,0.5],[0.5,0.5,0.5,0.5,0.5,0.5,0.5,0.5,0.5,0.5,0.5,0.5,0.5,0.5,0.5,0.5,0.5,0.5,0.5,0.5,0.5,0.5,0.5,0.5,0.5,0.5,0.5,0.5,0.5,0.5,0.5,0.5,0.5,0.5,0.5,0.5,0.5,0.5,0.5,0.5],[0.453125,0.4375,0.453125,0.4375,0.453125,0.4375,0.4375,0.4375,0.4375,0.4375,0.4375,0.4375,0.4375,0.4375,0.4375,0.4375,0.4375,0.4375,0.40625,0.265625,0.25,0.40625,0.4375,0.4375,0.4375,0.4375,0.4375,0.4375,0.4375,0.4375,0.4375,0.4375,0.4375,0.4375,0.453125,0.4375,0.453125,0.4375,0.453125,0.4375],[0.4375,0.4375,0.4375,0.4375,0.4375,0.4375,0.4375,0.4375,0.4375,0.4375,0.4375,0.4375,0.4375,0.4375,0.421875,0.40625,0.375,0.34375,0.25,0.078125,0.078125,0.25,0.34375,0.375,0.40625,0.421875,0.4375,0.4375,0.4375,0.4375,0.4375,0.4375,0.4375,0.4375,0.4375,0.4375,0.4375,0.4375,0.4375,0.4375],[0.4375,0.4375,0.4375,0.4375,0.4375,0.4375,0.4375,0.4375,0.4375,0.4375,0.421875,0.40625,0.40625,0.390625,0.375,0.34375,0.3125,0.25,0.140625,0.046875,0.046875,0.15625,0.25,0.3125,0.34375,0.375,0.390625,0.40625,0.40625,0.421875,0.4375,0.4375,0.4375,0.4375,0.4375,0.4375,0.4375,0.4375,0.4375,0.4375],[0.4375,0.4375,0.4375,0.4375,0.4375,0.4375,0.421875,0.421875,0.40625,0.40625,0.390625,0.375,0.375,0.34375,0.328125,0.296875,0.25,0.171875,0.109375,0.03125,0.03125,0.109375,0.171875,0.25,0.296875,0.328125,0.34375,0.375,0.375,0.390625,0.40625,0.40625,0.421875,0.421875,0.4375,0.4375,0.4375,0.4375,0.4375,0.4375],[0.4375,0.4375,0.421875,0.421875,0.421875,0.40625,0.40625,0.390625,0.390625,0.375,0.375,0.34375,0.34375,0.3125,0.28125,0.25,0.1875,0.125,0.078125,0.015625,0.0,0.078125,0.140625,0.1875,0.25,0.28125,0.3125,0.34375,0.34375,0.375,0.375,0.390625,0.390625,0.40625,0.40625,0.421875,0.421875,0.421875,0.4375,0.4375],[0.421875,0.40625,0.40625,0.40625,0.390625,0.390625,0.375,0.375,0.375,0.34375,0.34375,0.328125,0.3125,0.265625,0.25,0.1875,0.15625,0.09375,0.0625,0.0,0.0,0.0625,0.09375,0.15625,0.1875,0.25,0.265625,0.3125,0.328125,0.34375,0.359375,0.375,0.375,0.390625,0.390625,0.390625,0.40625,0.40625,0.40625,0.421875],[0.40625,0.390625,0.390625,0.390625,0.375,0.375,0.375,0.34375,0.34375,0.328125,0.3125,0.296875,0.265625,0.25,0.1875,0.15625,0.125,0.078125,0.046875,0.0,0.0,0.046875,0.09375,0.125,0.171875,0.21875,0.25,0.28125,0.3125,0.328125,0.34375,0.34375,0.375,0.375,0.375,0.390625,0.390625,0.390625,0.40625,0.421875],[0.390625,0.375,0.375,0.375,0.375,0.34375,0.34375,0.34375,0.328125,0.3125,0.296875,0.25,0.25,0.1875,0.1875,0.140625,0.109375,0.078125,0.046875,0.0,0.0,0.046875,0.078125,0.109375,0.15625,0.1875,0.25,0.265625,0.296875,0.3125,0.328125,0.34375,0.359375,0.359375,0.359375,0.375,0.390625,0.390625,0.390625,0.40625],[0.375,0.375,0.375,0.34375,0.34375,0.34375,0.328125,0.3125,0.3125,0.28125,0.25,0.25,0.1875,0.1875,0.140625,0.125,0.09375,0.0625,0.03125,0.0,0.0,0.03125,0.078125,0.109375,0.15625,0.171875,0.21875,0.265625,0.296875,0.296875,0.328125,0.34375,0.34375,0.359375,0.375,0.375,0.390625,0.390625,0.390625,0.40625],[0.375,0.34375,0.34375,0.34375,0.328125,0.328125,0.3125,0.296875,0.28125,0.25,0.25,0.1875,0.1875,0.15625,0.140625,0.09375,0.078125,0.0625,0.015625,0.0,0.0,0.015625,0.0625,0.109375,0.15625,0.203125,0.234375,0.28125,0.28125,0.296875,0.34375,0.34375,0.359375,0.359375,0.375,0.375,0.375,0.375,0.390625,0.40625],[0.34375,0.34375,0.34375,0.328125,0.3125,0.3125,0.296875,0.265625,0.25,0.25,0.1875,0.1875,0.171875,0.140625,0.125,0.09375,0.078125,0.046875,0.015625,0.0,0.0,0.03125,0.0625,0.109375,0.15625,0.1875,0.234375,0.265625,0.296875,0.3125,0.34375,0.34375,0.34375,0.359375,0.375,0.375,0.375,0.375,0.390625,0.40625],[0.34375,0.328125,0.328125,0.3125,0.3125,0.296875,0.265625,0.25,0.25,0.1875,0.1875,0.171875,0.15625,0.125,0.109375,0.078125,0.0625,0.046875,0.0,0.0,0.0,0.0625,0.109375,0.140625,0.171875,0.21875,0.25,0.28125,0.3125,0.328125,0.34375,0.34375,0.34375,0.359375,0.375,0.375,0.390625,0.390625,0.390625,0.40625],[0.328125,0.328125,0.3125,0.296875,0.28125,0.265625,0.25,0.25,0.1875,0.1875,0.1875,0.15625,0.140625,0.125,0.09375,0.078125,0.0625,0.046875,0.0,0.0,0.0625,0.09375,0.140625,0.15625,0.203125,0.234375,0.25,0.296875,0.3125,0.328125,0.34375,0.34375,0.34375,0.375,0.390625,0.390625,0.390625,0.390625,0.390625,0.40625],[0.3125,0.3125,0.296875,0.28125,0.25,0.25,0.25,0.1875,0.1875,0.1875,0.171875,0.140625,0.125,0.09375,0.09375,0.078125,0.0625,0.046875,0.015625,0.046875,0.125,0.125,0.171875,0.1875,0.234375,0.25,0.296875,0.3125,0.328125,0.34375,0.359375,0.359375,0.375,0.40625,0.40625,0.40625,0.40625,0.40625,0.40625,0.421875],[0.3125,0.296875,0.28125,0.25,0.25,0.25,0.1875,0.1875,0.1875,0.171875,0.140625,0.125,0.125,0.09375,0.078125,0.0625,0.046875,0.03125,0.046875,0.125,0.125,0.140625,0.171875,0.203125,0.234375,0.265625,0.296875,0.3125,0.34375,0.34375,0.375,0.375,0.390625,0.40625,0.40625,0.40625,0.40625,0.40625,0.40625,0.421875],[0.296875,0.265625,0.25,0.25,0.25,0.203125,0.1875,0.1875,0.1875,0.15625,0.140625,0.125,0.125,0.09375,0.078125,0.0625,0.046875,0.0625,0.078125,0.125,0.125,0.15625,0.1875,0.21875,0.25,0.265625,0.296875,0.3125,0.359375,0.359375,0.375,0.375,0.390625,0.40625,0.40625,0.40625,0.40625,0.40625,0.40625,0.421875],[0.265625,0.25,0.25,0.25,0.1875,0.1875,0.1875,0.1875,0.15625,0.140625,0.125,0.125,0.09375,0.078125,0.078125,0.0625,0.046875,0.078125,0.109375,0.125,0.125,0.171875,0.203125,0.234375,0.25,0.265625,0.3125,0.328125,0.359375,0.359375,0.375,0.390625,0.390625,0.40625,0.40625,0.40625,0.40625,0.40625,0.40625,0.421875],[0.25,0.25,0.25,0.1875,0.1875,0.1875,0.1875,0.171875,0.15625,0.140625,0.125,0.09375,0.09375,0.078125,0.078125,0.0625,0.0625,0.09375,0.125,0.125,0.125,0.203125,0.21875,0.234375,0.28125,0.296875,0.3125,0.34375,0.359375,0.359375,0.375,0.390625,0.390625,0.40625,0.40625,0.40625,0.40625,0.40625,0.40625,0.421875],[0.25,0.25,0.1875,0.1875,0.1875,0.1875,0.171875,0.15625,0.140625,0.125,0.125,0.09375,0.09375,0.078125,0.0625,0.0625,0.078125,0.109375,0.125,0.125,0.171875,0.21875,0.234375,0.265625,0.28125,0.296875,0.3125,0.34375,0.359375,0.359375,0.390625,0.390625,0.390625,0.40625,0.40625,0.40625,0.40625,0.40625,0.40625,0.421875],[0.25,0.203125,0.1875,0.1875,0.1875,0.171875,0.15625,0.140625,0.140625,0.125,0.125,0.09375,0.09375,0.09375,0.078125,0.09375,0.109375,0.140625,0.140625,0.140625,0.25,0.25,0.25,0.28125,0.296875,0.3125,0.328125,0.359375,0.375,0.375,0.40625,0.40625,0.40625,0.421875,0.421875,0.421875,0.421875,0.421875,0.421875,0.453125]],\"type\":\"surface\"}],                        {\"template\":{\"data\":{\"histogram2dcontour\":[{\"type\":\"histogram2dcontour\",\"colorbar\":{\"outlinewidth\":0,\"ticks\":\"\"},\"colorscale\":[[0.0,\"#0d0887\"],[0.1111111111111111,\"#46039f\"],[0.2222222222222222,\"#7201a8\"],[0.3333333333333333,\"#9c179e\"],[0.4444444444444444,\"#bd3786\"],[0.5555555555555556,\"#d8576b\"],[0.6666666666666666,\"#ed7953\"],[0.7777777777777778,\"#fb9f3a\"],[0.8888888888888888,\"#fdca26\"],[1.0,\"#f0f921\"]]}],\"choropleth\":[{\"type\":\"choropleth\",\"colorbar\":{\"outlinewidth\":0,\"ticks\":\"\"}}],\"histogram2d\":[{\"type\":\"histogram2d\",\"colorbar\":{\"outlinewidth\":0,\"ticks\":\"\"},\"colorscale\":[[0.0,\"#0d0887\"],[0.1111111111111111,\"#46039f\"],[0.2222222222222222,\"#7201a8\"],[0.3333333333333333,\"#9c179e\"],[0.4444444444444444,\"#bd3786\"],[0.5555555555555556,\"#d8576b\"],[0.6666666666666666,\"#ed7953\"],[0.7777777777777778,\"#fb9f3a\"],[0.8888888888888888,\"#fdca26\"],[1.0,\"#f0f921\"]]}],\"heatmap\":[{\"type\":\"heatmap\",\"colorbar\":{\"outlinewidth\":0,\"ticks\":\"\"},\"colorscale\":[[0.0,\"#0d0887\"],[0.1111111111111111,\"#46039f\"],[0.2222222222222222,\"#7201a8\"],[0.3333333333333333,\"#9c179e\"],[0.4444444444444444,\"#bd3786\"],[0.5555555555555556,\"#d8576b\"],[0.6666666666666666,\"#ed7953\"],[0.7777777777777778,\"#fb9f3a\"],[0.8888888888888888,\"#fdca26\"],[1.0,\"#f0f921\"]]}],\"heatmapgl\":[{\"type\":\"heatmapgl\",\"colorbar\":{\"outlinewidth\":0,\"ticks\":\"\"},\"colorscale\":[[0.0,\"#0d0887\"],[0.1111111111111111,\"#46039f\"],[0.2222222222222222,\"#7201a8\"],[0.3333333333333333,\"#9c179e\"],[0.4444444444444444,\"#bd3786\"],[0.5555555555555556,\"#d8576b\"],[0.6666666666666666,\"#ed7953\"],[0.7777777777777778,\"#fb9f3a\"],[0.8888888888888888,\"#fdca26\"],[1.0,\"#f0f921\"]]}],\"contourcarpet\":[{\"type\":\"contourcarpet\",\"colorbar\":{\"outlinewidth\":0,\"ticks\":\"\"}}],\"contour\":[{\"type\":\"contour\",\"colorbar\":{\"outlinewidth\":0,\"ticks\":\"\"},\"colorscale\":[[0.0,\"#0d0887\"],[0.1111111111111111,\"#46039f\"],[0.2222222222222222,\"#7201a8\"],[0.3333333333333333,\"#9c179e\"],[0.4444444444444444,\"#bd3786\"],[0.5555555555555556,\"#d8576b\"],[0.6666666666666666,\"#ed7953\"],[0.7777777777777778,\"#fb9f3a\"],[0.8888888888888888,\"#fdca26\"],[1.0,\"#f0f921\"]]}],\"surface\":[{\"type\":\"surface\",\"colorbar\":{\"outlinewidth\":0,\"ticks\":\"\"},\"colorscale\":[[0.0,\"#0d0887\"],[0.1111111111111111,\"#46039f\"],[0.2222222222222222,\"#7201a8\"],[0.3333333333333333,\"#9c179e\"],[0.4444444444444444,\"#bd3786\"],[0.5555555555555556,\"#d8576b\"],[0.6666666666666666,\"#ed7953\"],[0.7777777777777778,\"#fb9f3a\"],[0.8888888888888888,\"#fdca26\"],[1.0,\"#f0f921\"]]}],\"mesh3d\":[{\"type\":\"mesh3d\",\"colorbar\":{\"outlinewidth\":0,\"ticks\":\"\"}}],\"scatter\":[{\"fillpattern\":{\"fillmode\":\"overlay\",\"size\":10,\"solidity\":0.2},\"type\":\"scatter\"}],\"parcoords\":[{\"type\":\"parcoords\",\"line\":{\"colorbar\":{\"outlinewidth\":0,\"ticks\":\"\"}}}],\"scatterpolargl\":[{\"type\":\"scatterpolargl\",\"marker\":{\"colorbar\":{\"outlinewidth\":0,\"ticks\":\"\"}}}],\"bar\":[{\"error_x\":{\"color\":\"#2a3f5f\"},\"error_y\":{\"color\":\"#2a3f5f\"},\"marker\":{\"line\":{\"color\":\"#E5ECF6\",\"width\":0.5},\"pattern\":{\"fillmode\":\"overlay\",\"size\":10,\"solidity\":0.2}},\"type\":\"bar\"}],\"scattergeo\":[{\"type\":\"scattergeo\",\"marker\":{\"colorbar\":{\"outlinewidth\":0,\"ticks\":\"\"}}}],\"scatterpolar\":[{\"type\":\"scatterpolar\",\"marker\":{\"colorbar\":{\"outlinewidth\":0,\"ticks\":\"\"}}}],\"histogram\":[{\"marker\":{\"pattern\":{\"fillmode\":\"overlay\",\"size\":10,\"solidity\":0.2}},\"type\":\"histogram\"}],\"scattergl\":[{\"type\":\"scattergl\",\"marker\":{\"colorbar\":{\"outlinewidth\":0,\"ticks\":\"\"}}}],\"scatter3d\":[{\"type\":\"scatter3d\",\"line\":{\"colorbar\":{\"outlinewidth\":0,\"ticks\":\"\"}},\"marker\":{\"colorbar\":{\"outlinewidth\":0,\"ticks\":\"\"}}}],\"scattermapbox\":[{\"type\":\"scattermapbox\",\"marker\":{\"colorbar\":{\"outlinewidth\":0,\"ticks\":\"\"}}}],\"scatterternary\":[{\"type\":\"scatterternary\",\"marker\":{\"colorbar\":{\"outlinewidth\":0,\"ticks\":\"\"}}}],\"scattercarpet\":[{\"type\":\"scattercarpet\",\"marker\":{\"colorbar\":{\"outlinewidth\":0,\"ticks\":\"\"}}}],\"carpet\":[{\"aaxis\":{\"endlinecolor\":\"#2a3f5f\",\"gridcolor\":\"white\",\"linecolor\":\"white\",\"minorgridcolor\":\"white\",\"startlinecolor\":\"#2a3f5f\"},\"baxis\":{\"endlinecolor\":\"#2a3f5f\",\"gridcolor\":\"white\",\"linecolor\":\"white\",\"minorgridcolor\":\"white\",\"startlinecolor\":\"#2a3f5f\"},\"type\":\"carpet\"}],\"table\":[{\"cells\":{\"fill\":{\"color\":\"#EBF0F8\"},\"line\":{\"color\":\"white\"}},\"header\":{\"fill\":{\"color\":\"#C8D4E3\"},\"line\":{\"color\":\"white\"}},\"type\":\"table\"}],\"barpolar\":[{\"marker\":{\"line\":{\"color\":\"#E5ECF6\",\"width\":0.5},\"pattern\":{\"fillmode\":\"overlay\",\"size\":10,\"solidity\":0.2}},\"type\":\"barpolar\"}],\"pie\":[{\"automargin\":true,\"type\":\"pie\"}]},\"layout\":{\"autotypenumbers\":\"strict\",\"colorway\":[\"#636efa\",\"#EF553B\",\"#00cc96\",\"#ab63fa\",\"#FFA15A\",\"#19d3f3\",\"#FF6692\",\"#B6E880\",\"#FF97FF\",\"#FECB52\"],\"font\":{\"color\":\"#2a3f5f\"},\"hovermode\":\"closest\",\"hoverlabel\":{\"align\":\"left\"},\"paper_bgcolor\":\"white\",\"plot_bgcolor\":\"#E5ECF6\",\"polar\":{\"bgcolor\":\"#E5ECF6\",\"angularaxis\":{\"gridcolor\":\"white\",\"linecolor\":\"white\",\"ticks\":\"\"},\"radialaxis\":{\"gridcolor\":\"white\",\"linecolor\":\"white\",\"ticks\":\"\"}},\"ternary\":{\"bgcolor\":\"#E5ECF6\",\"aaxis\":{\"gridcolor\":\"white\",\"linecolor\":\"white\",\"ticks\":\"\"},\"baxis\":{\"gridcolor\":\"white\",\"linecolor\":\"white\",\"ticks\":\"\"},\"caxis\":{\"gridcolor\":\"white\",\"linecolor\":\"white\",\"ticks\":\"\"}},\"coloraxis\":{\"colorbar\":{\"outlinewidth\":0,\"ticks\":\"\"}},\"colorscale\":{\"sequential\":[[0.0,\"#0d0887\"],[0.1111111111111111,\"#46039f\"],[0.2222222222222222,\"#7201a8\"],[0.3333333333333333,\"#9c179e\"],[0.4444444444444444,\"#bd3786\"],[0.5555555555555556,\"#d8576b\"],[0.6666666666666666,\"#ed7953\"],[0.7777777777777778,\"#fb9f3a\"],[0.8888888888888888,\"#fdca26\"],[1.0,\"#f0f921\"]],\"sequentialminus\":[[0.0,\"#0d0887\"],[0.1111111111111111,\"#46039f\"],[0.2222222222222222,\"#7201a8\"],[0.3333333333333333,\"#9c179e\"],[0.4444444444444444,\"#bd3786\"],[0.5555555555555556,\"#d8576b\"],[0.6666666666666666,\"#ed7953\"],[0.7777777777777778,\"#fb9f3a\"],[0.8888888888888888,\"#fdca26\"],[1.0,\"#f0f921\"]],\"diverging\":[[0,\"#8e0152\"],[0.1,\"#c51b7d\"],[0.2,\"#de77ae\"],[0.3,\"#f1b6da\"],[0.4,\"#fde0ef\"],[0.5,\"#f7f7f7\"],[0.6,\"#e6f5d0\"],[0.7,\"#b8e186\"],[0.8,\"#7fbc41\"],[0.9,\"#4d9221\"],[1,\"#276419\"]]},\"xaxis\":{\"gridcolor\":\"white\",\"linecolor\":\"white\",\"ticks\":\"\",\"title\":{\"standoff\":15},\"zerolinecolor\":\"white\",\"automargin\":true,\"zerolinewidth\":2},\"yaxis\":{\"gridcolor\":\"white\",\"linecolor\":\"white\",\"ticks\":\"\",\"title\":{\"standoff\":15},\"zerolinecolor\":\"white\",\"automargin\":true,\"zerolinewidth\":2},\"scene\":{\"xaxis\":{\"backgroundcolor\":\"#E5ECF6\",\"gridcolor\":\"white\",\"linecolor\":\"white\",\"showbackground\":true,\"ticks\":\"\",\"zerolinecolor\":\"white\",\"gridwidth\":2},\"yaxis\":{\"backgroundcolor\":\"#E5ECF6\",\"gridcolor\":\"white\",\"linecolor\":\"white\",\"showbackground\":true,\"ticks\":\"\",\"zerolinecolor\":\"white\",\"gridwidth\":2},\"zaxis\":{\"backgroundcolor\":\"#E5ECF6\",\"gridcolor\":\"white\",\"linecolor\":\"white\",\"showbackground\":true,\"ticks\":\"\",\"zerolinecolor\":\"white\",\"gridwidth\":2}},\"shapedefaults\":{\"line\":{\"color\":\"#2a3f5f\"}},\"annotationdefaults\":{\"arrowcolor\":\"#2a3f5f\",\"arrowhead\":0,\"arrowwidth\":1},\"geo\":{\"bgcolor\":\"white\",\"landcolor\":\"#E5ECF6\",\"subunitcolor\":\"white\",\"showland\":true,\"showlakes\":true,\"lakecolor\":\"white\"},\"title\":{\"x\":0.05},\"mapbox\":{\"style\":\"light\"}}},\"margin\":{\"r\":20,\"b\":10,\"l\":10,\"t\":10},\"scene\":{\"xaxis\":{\"title\":{\"text\":\"weight-1\"}},\"yaxis\":{\"title\":{\"text\":\"weight-2\"}},\"zaxis\":{\"title\":{\"text\":\"error rate\"}}},\"width\":800,\"height\":480},                        {\"responsive\": true}                    ).then(function(){\n",
       "                            \n",
       "var gd = document.getElementById('7efee119-4378-4c80-b505-3c9c6fc9d48e');\n",
       "var x = new MutationObserver(function (mutations, observer) {{\n",
       "        var display = window.getComputedStyle(gd).display;\n",
       "        if (!display || display === 'none') {{\n",
       "            console.log([gd, 'removed!']);\n",
       "            Plotly.purge(gd);\n",
       "            observer.disconnect();\n",
       "        }}\n",
       "}});\n",
       "\n",
       "// Listen for the removal of the full notebook cells\n",
       "var notebookContainer = gd.closest('#notebook-container');\n",
       "if (notebookContainer) {{\n",
       "    x.observe(notebookContainer, {childList: true});\n",
       "}}\n",
       "\n",
       "// Listen for the clearing of the current output cell\n",
       "var outputEl = gd.closest('.output');\n",
       "if (outputEl) {{\n",
       "    x.observe(outputEl, {childList: true});\n",
       "}}\n",
       "\n",
       "                        })                };                });            </script>        </div>"
      ]
     },
     "metadata": {},
     "output_type": "display_data"
    }
   ],
   "source": [
    "import plotly.graph_objects as go\n",
    "f1 = go.Figure(data=[go.Surface( x=weight1, y=weight2, z=errors, colorscale='Viridis')])\n",
    "f1.update_layout(scene = dict(\n",
    "                    xaxis_title='weight-1',\n",
    "                    yaxis_title='weight-2',\n",
    "                    zaxis_title='error rate'),\n",
    "                    width=800,\n",
    "                    height=480,\n",
    "                    margin=dict(r=20, b=10, l=10, t=10))\n",
    "f1.show()"
   ]
  },
  {
   "cell_type": "code",
   "execution_count": 76,
   "id": "ab98b1e4-16b6-437f-b727-ee82a22ec72b",
   "metadata": {},
   "outputs": [
    {
     "name": "stdout",
     "output_type": "stream",
     "text": [
      "Scale = Jet\n"
     ]
    },
    {
     "data": {
      "application/vnd.plotly.v1+json": {
       "config": {
        "plotlyServerURL": "https://plot.ly"
       },
       "data": [
        {
         "colorbar": {
          "title": {
           "text": "\"Minimum Error\" Bias"
          }
         },
         "colorscale": [
          [
           0,
           "rgb(0,0,131)"
          ],
          [
           0.2,
           "rgb(0,60,170)"
          ],
          [
           0.4,
           "rgb(5,255,255)"
          ],
          [
           0.6,
           "rgb(255,255,0)"
          ],
          [
           0.8,
           "rgb(250,0,0)"
          ],
          [
           1,
           "rgb(128,0,0)"
          ]
         ],
         "surfacecolor": [
          [
           -4.444444444444443,
           -4.444444444444443,
           -4.444444444444443,
           -4.444444444444443,
           -4.444444444444443,
           -22.22222222222222,
           -40,
           -40,
           -40,
           31.111111111111114
          ],
          [
           -4.444444444444443,
           -4.444444444444443,
           -4.444444444444443,
           -4.444444444444443,
           -4.444444444444443,
           -22.22222222222222,
           -40,
           -40,
           40,
           40
          ],
          [
           -4.444444444444443,
           -4.444444444444443,
           -4.444444444444443,
           -4.444444444444443,
           -4.444444444444443,
           -22.22222222222222,
           -40,
           40,
           40,
           40
          ],
          [
           -4.444444444444443,
           -4.444444444444443,
           -4.444444444444443,
           -4.444444444444443,
           -4.444444444444443,
           -22.22222222222222,
           40,
           40,
           40,
           40
          ],
          [
           -4.444444444444443,
           -4.444444444444443,
           -4.444444444444443,
           -4.444444444444443,
           40,
           40,
           40,
           40,
           40,
           40
          ],
          [
           31.111111111111114,
           22.22222222222223,
           4.444444444444443,
           22.22222222222223,
           4.444444444444443,
           -13.333333333333332,
           -13.333333333333332,
           -31.11111111111111,
           -22.22222222222222,
           -4.444444444444443
          ],
          [
           13.333333333333336,
           22.22222222222223,
           40,
           4.444444444444443,
           -13.333333333333332,
           -31.11111111111111,
           -40,
           -40,
           -40,
           -22.22222222222222
          ],
          [
           4.444444444444443,
           22.22222222222223,
           4.444444444444443,
           -13.333333333333332,
           -31.11111111111111,
           -40,
           -40,
           -40,
           -40,
           -40
          ],
          [
           31.111111111111114,
           13.333333333333336,
           -22.22222222222222,
           -22.22222222222222,
           -40,
           -40,
           -40,
           -40,
           -40,
           -40
          ],
          [
           13.333333333333336,
           -22.22222222222222,
           -22.22222222222222,
           -31.11111111111111,
           -40,
           -40,
           -40,
           -40,
           -40,
           -22.22222222222222
          ]
         ],
         "type": "surface",
         "x": [
          -20,
          -15.555555555555555,
          -11.11111111111111,
          -6.666666666666666,
          -2.2222222222222214,
          2.2222222222222214,
          6.666666666666668,
          11.111111111111114,
          15.555555555555557,
          20
         ],
         "y": [
          -20,
          -15.555555555555555,
          -11.11111111111111,
          -6.666666666666666,
          -2.2222222222222214,
          2.2222222222222214,
          6.666666666666668,
          11.111111111111114,
          15.555555555555557,
          20
         ],
         "z": [
          [
           0.5,
           0.5,
           0.5,
           0.5,
           0.5,
           0.5,
           0.53125,
           0.59375,
           0.6875,
           0.734375
          ],
          [
           0.5,
           0.5,
           0.5,
           0.5,
           0.5,
           0.5,
           0.53125,
           0.625,
           0.703125,
           0.65625
          ],
          [
           0.5,
           0.5,
           0.5,
           0.5,
           0.5,
           0.5,
           0.53125,
           0.65625,
           0.625,
           0.59375
          ],
          [
           0.5,
           0.5,
           0.5,
           0.5,
           0.5,
           0.5,
           0.546875,
           0.53125,
           0.53125,
           0.53125
          ],
          [
           0.5,
           0.5,
           0.5,
           0.5,
           0.5,
           0.5,
           0.5,
           0.5,
           0.5,
           0.5
          ],
          [
           0.453125,
           0.4375,
           0.4375,
           0.421875,
           0.328125,
           0.25,
           0.4375,
           0.4375,
           0.453125,
           0.46875
          ],
          [
           0.40625,
           0.375,
           0.34375,
           0.25,
           0.09375,
           0.078125,
           0.265625,
           0.359375,
           0.375,
           0.421875
          ],
          [
           0.34375,
           0.3125,
           0.25,
           0.15625,
           0.046875,
           0.078125,
           0.265625,
           0.34375,
           0.375,
           0.40625
          ],
          [
           0.296875,
           0.25,
           0.171875,
           0.109375,
           0.0625,
           0.1875,
           0.3125,
           0.375,
           0.40625,
           0.421875
          ],
          [
           0.25,
           0.1875,
           0.125,
           0.109375,
           0.140625,
           0.25,
           0.359375,
           0.40625,
           0.421875,
           0.453125
          ]
         ]
        }
       ],
       "layout": {
        "dragmode": "zoom",
        "height": 480,
        "margin": {
         "b": 10,
         "l": 10,
         "r": 20,
         "t": 10
        },
        "scene": {
         "aspectmode": "auto",
         "aspectratio": {
          "x": 1,
          "y": 1,
          "z": 1
         },
         "camera": {
          "center": {
           "x": 0.13956508327145947,
           "y": 0.0738288983826786,
           "z": -0.20299094027476175
          },
          "eye": {
           "x": -1.4827505340661338,
           "y": 1.3261384633787228,
           "z": 0.5028436798952192
          },
          "projection": {
           "type": "perspective"
          },
          "up": {
           "x": 0,
           "y": 0,
           "z": 1
          }
         },
         "dragmode": "turntable",
         "xaxis": {
          "title": {
           "text": "weight-1"
          },
          "type": "linear"
         },
         "yaxis": {
          "title": {
           "text": "weight-2"
          },
          "type": "linear"
         },
         "zaxis": {
          "title": {
           "text": "error rate"
          },
          "type": "linear"
         }
        },
        "template": {
         "data": {
          "bar": [
           {
            "error_x": {
             "color": "#2a3f5f"
            },
            "error_y": {
             "color": "#2a3f5f"
            },
            "marker": {
             "line": {
              "color": "#E5ECF6",
              "width": 0.5
             },
             "pattern": {
              "fillmode": "overlay",
              "size": 10,
              "solidity": 0.2
             }
            },
            "type": "bar"
           }
          ],
          "barpolar": [
           {
            "marker": {
             "line": {
              "color": "#E5ECF6",
              "width": 0.5
             },
             "pattern": {
              "fillmode": "overlay",
              "size": 10,
              "solidity": 0.2
             }
            },
            "type": "barpolar"
           }
          ],
          "carpet": [
           {
            "aaxis": {
             "endlinecolor": "#2a3f5f",
             "gridcolor": "white",
             "linecolor": "white",
             "minorgridcolor": "white",
             "startlinecolor": "#2a3f5f"
            },
            "baxis": {
             "endlinecolor": "#2a3f5f",
             "gridcolor": "white",
             "linecolor": "white",
             "minorgridcolor": "white",
             "startlinecolor": "#2a3f5f"
            },
            "type": "carpet"
           }
          ],
          "choropleth": [
           {
            "colorbar": {
             "outlinewidth": 0,
             "ticks": ""
            },
            "type": "choropleth"
           }
          ],
          "contour": [
           {
            "colorbar": {
             "outlinewidth": 0,
             "ticks": ""
            },
            "colorscale": [
             [
              0,
              "#0d0887"
             ],
             [
              0.1111111111111111,
              "#46039f"
             ],
             [
              0.2222222222222222,
              "#7201a8"
             ],
             [
              0.3333333333333333,
              "#9c179e"
             ],
             [
              0.4444444444444444,
              "#bd3786"
             ],
             [
              0.5555555555555556,
              "#d8576b"
             ],
             [
              0.6666666666666666,
              "#ed7953"
             ],
             [
              0.7777777777777778,
              "#fb9f3a"
             ],
             [
              0.8888888888888888,
              "#fdca26"
             ],
             [
              1,
              "#f0f921"
             ]
            ],
            "type": "contour"
           }
          ],
          "contourcarpet": [
           {
            "colorbar": {
             "outlinewidth": 0,
             "ticks": ""
            },
            "type": "contourcarpet"
           }
          ],
          "heatmap": [
           {
            "colorbar": {
             "outlinewidth": 0,
             "ticks": ""
            },
            "colorscale": [
             [
              0,
              "#0d0887"
             ],
             [
              0.1111111111111111,
              "#46039f"
             ],
             [
              0.2222222222222222,
              "#7201a8"
             ],
             [
              0.3333333333333333,
              "#9c179e"
             ],
             [
              0.4444444444444444,
              "#bd3786"
             ],
             [
              0.5555555555555556,
              "#d8576b"
             ],
             [
              0.6666666666666666,
              "#ed7953"
             ],
             [
              0.7777777777777778,
              "#fb9f3a"
             ],
             [
              0.8888888888888888,
              "#fdca26"
             ],
             [
              1,
              "#f0f921"
             ]
            ],
            "type": "heatmap"
           }
          ],
          "heatmapgl": [
           {
            "colorbar": {
             "outlinewidth": 0,
             "ticks": ""
            },
            "colorscale": [
             [
              0,
              "#0d0887"
             ],
             [
              0.1111111111111111,
              "#46039f"
             ],
             [
              0.2222222222222222,
              "#7201a8"
             ],
             [
              0.3333333333333333,
              "#9c179e"
             ],
             [
              0.4444444444444444,
              "#bd3786"
             ],
             [
              0.5555555555555556,
              "#d8576b"
             ],
             [
              0.6666666666666666,
              "#ed7953"
             ],
             [
              0.7777777777777778,
              "#fb9f3a"
             ],
             [
              0.8888888888888888,
              "#fdca26"
             ],
             [
              1,
              "#f0f921"
             ]
            ],
            "type": "heatmapgl"
           }
          ],
          "histogram": [
           {
            "marker": {
             "pattern": {
              "fillmode": "overlay",
              "size": 10,
              "solidity": 0.2
             }
            },
            "type": "histogram"
           }
          ],
          "histogram2d": [
           {
            "colorbar": {
             "outlinewidth": 0,
             "ticks": ""
            },
            "colorscale": [
             [
              0,
              "#0d0887"
             ],
             [
              0.1111111111111111,
              "#46039f"
             ],
             [
              0.2222222222222222,
              "#7201a8"
             ],
             [
              0.3333333333333333,
              "#9c179e"
             ],
             [
              0.4444444444444444,
              "#bd3786"
             ],
             [
              0.5555555555555556,
              "#d8576b"
             ],
             [
              0.6666666666666666,
              "#ed7953"
             ],
             [
              0.7777777777777778,
              "#fb9f3a"
             ],
             [
              0.8888888888888888,
              "#fdca26"
             ],
             [
              1,
              "#f0f921"
             ]
            ],
            "type": "histogram2d"
           }
          ],
          "histogram2dcontour": [
           {
            "colorbar": {
             "outlinewidth": 0,
             "ticks": ""
            },
            "colorscale": [
             [
              0,
              "#0d0887"
             ],
             [
              0.1111111111111111,
              "#46039f"
             ],
             [
              0.2222222222222222,
              "#7201a8"
             ],
             [
              0.3333333333333333,
              "#9c179e"
             ],
             [
              0.4444444444444444,
              "#bd3786"
             ],
             [
              0.5555555555555556,
              "#d8576b"
             ],
             [
              0.6666666666666666,
              "#ed7953"
             ],
             [
              0.7777777777777778,
              "#fb9f3a"
             ],
             [
              0.8888888888888888,
              "#fdca26"
             ],
             [
              1,
              "#f0f921"
             ]
            ],
            "type": "histogram2dcontour"
           }
          ],
          "mesh3d": [
           {
            "colorbar": {
             "outlinewidth": 0,
             "ticks": ""
            },
            "type": "mesh3d"
           }
          ],
          "parcoords": [
           {
            "line": {
             "colorbar": {
              "outlinewidth": 0,
              "ticks": ""
             }
            },
            "type": "parcoords"
           }
          ],
          "pie": [
           {
            "automargin": true,
            "type": "pie"
           }
          ],
          "scatter": [
           {
            "fillpattern": {
             "fillmode": "overlay",
             "size": 10,
             "solidity": 0.2
            },
            "type": "scatter"
           }
          ],
          "scatter3d": [
           {
            "line": {
             "colorbar": {
              "outlinewidth": 0,
              "ticks": ""
             }
            },
            "marker": {
             "colorbar": {
              "outlinewidth": 0,
              "ticks": ""
             }
            },
            "type": "scatter3d"
           }
          ],
          "scattercarpet": [
           {
            "marker": {
             "colorbar": {
              "outlinewidth": 0,
              "ticks": ""
             }
            },
            "type": "scattercarpet"
           }
          ],
          "scattergeo": [
           {
            "marker": {
             "colorbar": {
              "outlinewidth": 0,
              "ticks": ""
             }
            },
            "type": "scattergeo"
           }
          ],
          "scattergl": [
           {
            "marker": {
             "colorbar": {
              "outlinewidth": 0,
              "ticks": ""
             }
            },
            "type": "scattergl"
           }
          ],
          "scattermapbox": [
           {
            "marker": {
             "colorbar": {
              "outlinewidth": 0,
              "ticks": ""
             }
            },
            "type": "scattermapbox"
           }
          ],
          "scatterpolar": [
           {
            "marker": {
             "colorbar": {
              "outlinewidth": 0,
              "ticks": ""
             }
            },
            "type": "scatterpolar"
           }
          ],
          "scatterpolargl": [
           {
            "marker": {
             "colorbar": {
              "outlinewidth": 0,
              "ticks": ""
             }
            },
            "type": "scatterpolargl"
           }
          ],
          "scatterternary": [
           {
            "marker": {
             "colorbar": {
              "outlinewidth": 0,
              "ticks": ""
             }
            },
            "type": "scatterternary"
           }
          ],
          "surface": [
           {
            "colorbar": {
             "outlinewidth": 0,
             "ticks": ""
            },
            "colorscale": [
             [
              0,
              "#0d0887"
             ],
             [
              0.1111111111111111,
              "#46039f"
             ],
             [
              0.2222222222222222,
              "#7201a8"
             ],
             [
              0.3333333333333333,
              "#9c179e"
             ],
             [
              0.4444444444444444,
              "#bd3786"
             ],
             [
              0.5555555555555556,
              "#d8576b"
             ],
             [
              0.6666666666666666,
              "#ed7953"
             ],
             [
              0.7777777777777778,
              "#fb9f3a"
             ],
             [
              0.8888888888888888,
              "#fdca26"
             ],
             [
              1,
              "#f0f921"
             ]
            ],
            "type": "surface"
           }
          ],
          "table": [
           {
            "cells": {
             "fill": {
              "color": "#EBF0F8"
             },
             "line": {
              "color": "white"
             }
            },
            "header": {
             "fill": {
              "color": "#C8D4E3"
             },
             "line": {
              "color": "white"
             }
            },
            "type": "table"
           }
          ]
         },
         "layout": {
          "annotationdefaults": {
           "arrowcolor": "#2a3f5f",
           "arrowhead": 0,
           "arrowwidth": 1
          },
          "autotypenumbers": "strict",
          "coloraxis": {
           "colorbar": {
            "outlinewidth": 0,
            "ticks": ""
           }
          },
          "colorscale": {
           "diverging": [
            [
             0,
             "#8e0152"
            ],
            [
             0.1,
             "#c51b7d"
            ],
            [
             0.2,
             "#de77ae"
            ],
            [
             0.3,
             "#f1b6da"
            ],
            [
             0.4,
             "#fde0ef"
            ],
            [
             0.5,
             "#f7f7f7"
            ],
            [
             0.6,
             "#e6f5d0"
            ],
            [
             0.7,
             "#b8e186"
            ],
            [
             0.8,
             "#7fbc41"
            ],
            [
             0.9,
             "#4d9221"
            ],
            [
             1,
             "#276419"
            ]
           ],
           "sequential": [
            [
             0,
             "#0d0887"
            ],
            [
             0.1111111111111111,
             "#46039f"
            ],
            [
             0.2222222222222222,
             "#7201a8"
            ],
            [
             0.3333333333333333,
             "#9c179e"
            ],
            [
             0.4444444444444444,
             "#bd3786"
            ],
            [
             0.5555555555555556,
             "#d8576b"
            ],
            [
             0.6666666666666666,
             "#ed7953"
            ],
            [
             0.7777777777777778,
             "#fb9f3a"
            ],
            [
             0.8888888888888888,
             "#fdca26"
            ],
            [
             1,
             "#f0f921"
            ]
           ],
           "sequentialminus": [
            [
             0,
             "#0d0887"
            ],
            [
             0.1111111111111111,
             "#46039f"
            ],
            [
             0.2222222222222222,
             "#7201a8"
            ],
            [
             0.3333333333333333,
             "#9c179e"
            ],
            [
             0.4444444444444444,
             "#bd3786"
            ],
            [
             0.5555555555555556,
             "#d8576b"
            ],
            [
             0.6666666666666666,
             "#ed7953"
            ],
            [
             0.7777777777777778,
             "#fb9f3a"
            ],
            [
             0.8888888888888888,
             "#fdca26"
            ],
            [
             1,
             "#f0f921"
            ]
           ]
          },
          "colorway": [
           "#636efa",
           "#EF553B",
           "#00cc96",
           "#ab63fa",
           "#FFA15A",
           "#19d3f3",
           "#FF6692",
           "#B6E880",
           "#FF97FF",
           "#FECB52"
          ],
          "font": {
           "color": "#2a3f5f"
          },
          "geo": {
           "bgcolor": "white",
           "lakecolor": "white",
           "landcolor": "#E5ECF6",
           "showlakes": true,
           "showland": true,
           "subunitcolor": "white"
          },
          "hoverlabel": {
           "align": "left"
          },
          "hovermode": "closest",
          "mapbox": {
           "style": "light"
          },
          "paper_bgcolor": "white",
          "plot_bgcolor": "#E5ECF6",
          "polar": {
           "angularaxis": {
            "gridcolor": "white",
            "linecolor": "white",
            "ticks": ""
           },
           "bgcolor": "#E5ECF6",
           "radialaxis": {
            "gridcolor": "white",
            "linecolor": "white",
            "ticks": ""
           }
          },
          "scene": {
           "xaxis": {
            "backgroundcolor": "#E5ECF6",
            "gridcolor": "white",
            "gridwidth": 2,
            "linecolor": "white",
            "showbackground": true,
            "ticks": "",
            "zerolinecolor": "white"
           },
           "yaxis": {
            "backgroundcolor": "#E5ECF6",
            "gridcolor": "white",
            "gridwidth": 2,
            "linecolor": "white",
            "showbackground": true,
            "ticks": "",
            "zerolinecolor": "white"
           },
           "zaxis": {
            "backgroundcolor": "#E5ECF6",
            "gridcolor": "white",
            "gridwidth": 2,
            "linecolor": "white",
            "showbackground": true,
            "ticks": "",
            "zerolinecolor": "white"
           }
          },
          "shapedefaults": {
           "line": {
            "color": "#2a3f5f"
           }
          },
          "ternary": {
           "aaxis": {
            "gridcolor": "white",
            "linecolor": "white",
            "ticks": ""
           },
           "baxis": {
            "gridcolor": "white",
            "linecolor": "white",
            "ticks": ""
           },
           "bgcolor": "#E5ECF6",
           "caxis": {
            "gridcolor": "white",
            "linecolor": "white",
            "ticks": ""
           }
          },
          "title": {
           "x": 0.05
          },
          "xaxis": {
           "automargin": true,
           "gridcolor": "white",
           "linecolor": "white",
           "ticks": "",
           "title": {
            "standoff": 15
           },
           "zerolinecolor": "white",
           "zerolinewidth": 2
          },
          "yaxis": {
           "automargin": true,
           "gridcolor": "white",
           "linecolor": "white",
           "ticks": "",
           "title": {
            "standoff": 15
           },
           "zerolinecolor": "white",
           "zerolinewidth": 2
          }
         }
        },
        "width": 800
       }
      },
      "text/html": [
       "<div>                            <div id=\"821c3f89-3c45-422c-8f16-1bf36a9bfd5f\" class=\"plotly-graph-div\" style=\"height:480px; width:800px;\"></div>            <script type=\"text/javascript\">                require([\"plotly\"], function(Plotly) {                    window.PLOTLYENV=window.PLOTLYENV || {};                                    if (document.getElementById(\"821c3f89-3c45-422c-8f16-1bf36a9bfd5f\")) {                    Plotly.newPlot(                        \"821c3f89-3c45-422c-8f16-1bf36a9bfd5f\",                        [{\"colorbar\":{\"title\":{\"text\":\"\\\"Minimum Error\\\" Bias\"}},\"colorscale\":[[0.0,\"rgb(0,0,131)\"],[0.2,\"rgb(0,60,170)\"],[0.4,\"rgb(5,255,255)\"],[0.6,\"rgb(255,255,0)\"],[0.8,\"rgb(250,0,0)\"],[1.0,\"rgb(128,0,0)\"]],\"surfacecolor\":[[-4.444444444444443,-4.444444444444443,-4.444444444444443,-4.444444444444443,-4.444444444444443,-22.22222222222222,-40.0,-40.0,-40.0,31.111111111111114],[-4.444444444444443,-4.444444444444443,-4.444444444444443,-4.444444444444443,-4.444444444444443,-22.22222222222222,-40.0,-40.0,40.0,40.0],[-4.444444444444443,-4.444444444444443,-4.444444444444443,-4.444444444444443,-4.444444444444443,-22.22222222222222,-40.0,40.0,40.0,40.0],[-4.444444444444443,-4.444444444444443,-4.444444444444443,-4.444444444444443,-4.444444444444443,-22.22222222222222,40.0,40.0,40.0,40.0],[-4.444444444444443,-4.444444444444443,-4.444444444444443,-4.444444444444443,40.0,40.0,40.0,40.0,40.0,40.0],[31.111111111111114,22.22222222222223,4.444444444444443,22.22222222222223,4.444444444444443,-13.333333333333332,-13.333333333333332,-31.11111111111111,-22.22222222222222,-4.444444444444443],[13.333333333333336,22.22222222222223,40.0,4.444444444444443,-13.333333333333332,-31.11111111111111,-40.0,-40.0,-40.0,-22.22222222222222],[4.444444444444443,22.22222222222223,4.444444444444443,-13.333333333333332,-31.11111111111111,-40.0,-40.0,-40.0,-40.0,-40.0],[31.111111111111114,13.333333333333336,-22.22222222222222,-22.22222222222222,-40.0,-40.0,-40.0,-40.0,-40.0,-40.0],[13.333333333333336,-22.22222222222222,-22.22222222222222,-31.11111111111111,-40.0,-40.0,-40.0,-40.0,-40.0,-22.22222222222222]],\"x\":[-20.0,-15.555555555555555,-11.11111111111111,-6.666666666666666,-2.2222222222222214,2.2222222222222214,6.666666666666668,11.111111111111114,15.555555555555557,20.0],\"y\":[-20.0,-15.555555555555555,-11.11111111111111,-6.666666666666666,-2.2222222222222214,2.2222222222222214,6.666666666666668,11.111111111111114,15.555555555555557,20.0],\"z\":[[0.5,0.5,0.5,0.5,0.5,0.5,0.53125,0.59375,0.6875,0.734375],[0.5,0.5,0.5,0.5,0.5,0.5,0.53125,0.625,0.703125,0.65625],[0.5,0.5,0.5,0.5,0.5,0.5,0.53125,0.65625,0.625,0.59375],[0.5,0.5,0.5,0.5,0.5,0.5,0.546875,0.53125,0.53125,0.53125],[0.5,0.5,0.5,0.5,0.5,0.5,0.5,0.5,0.5,0.5],[0.453125,0.4375,0.4375,0.421875,0.328125,0.25,0.4375,0.4375,0.453125,0.46875],[0.40625,0.375,0.34375,0.25,0.09375,0.078125,0.265625,0.359375,0.375,0.421875],[0.34375,0.3125,0.25,0.15625,0.046875,0.078125,0.265625,0.34375,0.375,0.40625],[0.296875,0.25,0.171875,0.109375,0.0625,0.1875,0.3125,0.375,0.40625,0.421875],[0.25,0.1875,0.125,0.109375,0.140625,0.25,0.359375,0.40625,0.421875,0.453125]],\"type\":\"surface\"}],                        {\"template\":{\"data\":{\"histogram2dcontour\":[{\"type\":\"histogram2dcontour\",\"colorbar\":{\"outlinewidth\":0,\"ticks\":\"\"},\"colorscale\":[[0.0,\"#0d0887\"],[0.1111111111111111,\"#46039f\"],[0.2222222222222222,\"#7201a8\"],[0.3333333333333333,\"#9c179e\"],[0.4444444444444444,\"#bd3786\"],[0.5555555555555556,\"#d8576b\"],[0.6666666666666666,\"#ed7953\"],[0.7777777777777778,\"#fb9f3a\"],[0.8888888888888888,\"#fdca26\"],[1.0,\"#f0f921\"]]}],\"choropleth\":[{\"type\":\"choropleth\",\"colorbar\":{\"outlinewidth\":0,\"ticks\":\"\"}}],\"histogram2d\":[{\"type\":\"histogram2d\",\"colorbar\":{\"outlinewidth\":0,\"ticks\":\"\"},\"colorscale\":[[0.0,\"#0d0887\"],[0.1111111111111111,\"#46039f\"],[0.2222222222222222,\"#7201a8\"],[0.3333333333333333,\"#9c179e\"],[0.4444444444444444,\"#bd3786\"],[0.5555555555555556,\"#d8576b\"],[0.6666666666666666,\"#ed7953\"],[0.7777777777777778,\"#fb9f3a\"],[0.8888888888888888,\"#fdca26\"],[1.0,\"#f0f921\"]]}],\"heatmap\":[{\"type\":\"heatmap\",\"colorbar\":{\"outlinewidth\":0,\"ticks\":\"\"},\"colorscale\":[[0.0,\"#0d0887\"],[0.1111111111111111,\"#46039f\"],[0.2222222222222222,\"#7201a8\"],[0.3333333333333333,\"#9c179e\"],[0.4444444444444444,\"#bd3786\"],[0.5555555555555556,\"#d8576b\"],[0.6666666666666666,\"#ed7953\"],[0.7777777777777778,\"#fb9f3a\"],[0.8888888888888888,\"#fdca26\"],[1.0,\"#f0f921\"]]}],\"heatmapgl\":[{\"type\":\"heatmapgl\",\"colorbar\":{\"outlinewidth\":0,\"ticks\":\"\"},\"colorscale\":[[0.0,\"#0d0887\"],[0.1111111111111111,\"#46039f\"],[0.2222222222222222,\"#7201a8\"],[0.3333333333333333,\"#9c179e\"],[0.4444444444444444,\"#bd3786\"],[0.5555555555555556,\"#d8576b\"],[0.6666666666666666,\"#ed7953\"],[0.7777777777777778,\"#fb9f3a\"],[0.8888888888888888,\"#fdca26\"],[1.0,\"#f0f921\"]]}],\"contourcarpet\":[{\"type\":\"contourcarpet\",\"colorbar\":{\"outlinewidth\":0,\"ticks\":\"\"}}],\"contour\":[{\"type\":\"contour\",\"colorbar\":{\"outlinewidth\":0,\"ticks\":\"\"},\"colorscale\":[[0.0,\"#0d0887\"],[0.1111111111111111,\"#46039f\"],[0.2222222222222222,\"#7201a8\"],[0.3333333333333333,\"#9c179e\"],[0.4444444444444444,\"#bd3786\"],[0.5555555555555556,\"#d8576b\"],[0.6666666666666666,\"#ed7953\"],[0.7777777777777778,\"#fb9f3a\"],[0.8888888888888888,\"#fdca26\"],[1.0,\"#f0f921\"]]}],\"surface\":[{\"type\":\"surface\",\"colorbar\":{\"outlinewidth\":0,\"ticks\":\"\"},\"colorscale\":[[0.0,\"#0d0887\"],[0.1111111111111111,\"#46039f\"],[0.2222222222222222,\"#7201a8\"],[0.3333333333333333,\"#9c179e\"],[0.4444444444444444,\"#bd3786\"],[0.5555555555555556,\"#d8576b\"],[0.6666666666666666,\"#ed7953\"],[0.7777777777777778,\"#fb9f3a\"],[0.8888888888888888,\"#fdca26\"],[1.0,\"#f0f921\"]]}],\"mesh3d\":[{\"type\":\"mesh3d\",\"colorbar\":{\"outlinewidth\":0,\"ticks\":\"\"}}],\"scatter\":[{\"fillpattern\":{\"fillmode\":\"overlay\",\"size\":10,\"solidity\":0.2},\"type\":\"scatter\"}],\"parcoords\":[{\"type\":\"parcoords\",\"line\":{\"colorbar\":{\"outlinewidth\":0,\"ticks\":\"\"}}}],\"scatterpolargl\":[{\"type\":\"scatterpolargl\",\"marker\":{\"colorbar\":{\"outlinewidth\":0,\"ticks\":\"\"}}}],\"bar\":[{\"error_x\":{\"color\":\"#2a3f5f\"},\"error_y\":{\"color\":\"#2a3f5f\"},\"marker\":{\"line\":{\"color\":\"#E5ECF6\",\"width\":0.5},\"pattern\":{\"fillmode\":\"overlay\",\"size\":10,\"solidity\":0.2}},\"type\":\"bar\"}],\"scattergeo\":[{\"type\":\"scattergeo\",\"marker\":{\"colorbar\":{\"outlinewidth\":0,\"ticks\":\"\"}}}],\"scatterpolar\":[{\"type\":\"scatterpolar\",\"marker\":{\"colorbar\":{\"outlinewidth\":0,\"ticks\":\"\"}}}],\"histogram\":[{\"marker\":{\"pattern\":{\"fillmode\":\"overlay\",\"size\":10,\"solidity\":0.2}},\"type\":\"histogram\"}],\"scattergl\":[{\"type\":\"scattergl\",\"marker\":{\"colorbar\":{\"outlinewidth\":0,\"ticks\":\"\"}}}],\"scatter3d\":[{\"type\":\"scatter3d\",\"line\":{\"colorbar\":{\"outlinewidth\":0,\"ticks\":\"\"}},\"marker\":{\"colorbar\":{\"outlinewidth\":0,\"ticks\":\"\"}}}],\"scattermapbox\":[{\"type\":\"scattermapbox\",\"marker\":{\"colorbar\":{\"outlinewidth\":0,\"ticks\":\"\"}}}],\"scatterternary\":[{\"type\":\"scatterternary\",\"marker\":{\"colorbar\":{\"outlinewidth\":0,\"ticks\":\"\"}}}],\"scattercarpet\":[{\"type\":\"scattercarpet\",\"marker\":{\"colorbar\":{\"outlinewidth\":0,\"ticks\":\"\"}}}],\"carpet\":[{\"aaxis\":{\"endlinecolor\":\"#2a3f5f\",\"gridcolor\":\"white\",\"linecolor\":\"white\",\"minorgridcolor\":\"white\",\"startlinecolor\":\"#2a3f5f\"},\"baxis\":{\"endlinecolor\":\"#2a3f5f\",\"gridcolor\":\"white\",\"linecolor\":\"white\",\"minorgridcolor\":\"white\",\"startlinecolor\":\"#2a3f5f\"},\"type\":\"carpet\"}],\"table\":[{\"cells\":{\"fill\":{\"color\":\"#EBF0F8\"},\"line\":{\"color\":\"white\"}},\"header\":{\"fill\":{\"color\":\"#C8D4E3\"},\"line\":{\"color\":\"white\"}},\"type\":\"table\"}],\"barpolar\":[{\"marker\":{\"line\":{\"color\":\"#E5ECF6\",\"width\":0.5},\"pattern\":{\"fillmode\":\"overlay\",\"size\":10,\"solidity\":0.2}},\"type\":\"barpolar\"}],\"pie\":[{\"automargin\":true,\"type\":\"pie\"}]},\"layout\":{\"autotypenumbers\":\"strict\",\"colorway\":[\"#636efa\",\"#EF553B\",\"#00cc96\",\"#ab63fa\",\"#FFA15A\",\"#19d3f3\",\"#FF6692\",\"#B6E880\",\"#FF97FF\",\"#FECB52\"],\"font\":{\"color\":\"#2a3f5f\"},\"hovermode\":\"closest\",\"hoverlabel\":{\"align\":\"left\"},\"paper_bgcolor\":\"white\",\"plot_bgcolor\":\"#E5ECF6\",\"polar\":{\"bgcolor\":\"#E5ECF6\",\"angularaxis\":{\"gridcolor\":\"white\",\"linecolor\":\"white\",\"ticks\":\"\"},\"radialaxis\":{\"gridcolor\":\"white\",\"linecolor\":\"white\",\"ticks\":\"\"}},\"ternary\":{\"bgcolor\":\"#E5ECF6\",\"aaxis\":{\"gridcolor\":\"white\",\"linecolor\":\"white\",\"ticks\":\"\"},\"baxis\":{\"gridcolor\":\"white\",\"linecolor\":\"white\",\"ticks\":\"\"},\"caxis\":{\"gridcolor\":\"white\",\"linecolor\":\"white\",\"ticks\":\"\"}},\"coloraxis\":{\"colorbar\":{\"outlinewidth\":0,\"ticks\":\"\"}},\"colorscale\":{\"sequential\":[[0.0,\"#0d0887\"],[0.1111111111111111,\"#46039f\"],[0.2222222222222222,\"#7201a8\"],[0.3333333333333333,\"#9c179e\"],[0.4444444444444444,\"#bd3786\"],[0.5555555555555556,\"#d8576b\"],[0.6666666666666666,\"#ed7953\"],[0.7777777777777778,\"#fb9f3a\"],[0.8888888888888888,\"#fdca26\"],[1.0,\"#f0f921\"]],\"sequentialminus\":[[0.0,\"#0d0887\"],[0.1111111111111111,\"#46039f\"],[0.2222222222222222,\"#7201a8\"],[0.3333333333333333,\"#9c179e\"],[0.4444444444444444,\"#bd3786\"],[0.5555555555555556,\"#d8576b\"],[0.6666666666666666,\"#ed7953\"],[0.7777777777777778,\"#fb9f3a\"],[0.8888888888888888,\"#fdca26\"],[1.0,\"#f0f921\"]],\"diverging\":[[0,\"#8e0152\"],[0.1,\"#c51b7d\"],[0.2,\"#de77ae\"],[0.3,\"#f1b6da\"],[0.4,\"#fde0ef\"],[0.5,\"#f7f7f7\"],[0.6,\"#e6f5d0\"],[0.7,\"#b8e186\"],[0.8,\"#7fbc41\"],[0.9,\"#4d9221\"],[1,\"#276419\"]]},\"xaxis\":{\"gridcolor\":\"white\",\"linecolor\":\"white\",\"ticks\":\"\",\"title\":{\"standoff\":15},\"zerolinecolor\":\"white\",\"automargin\":true,\"zerolinewidth\":2},\"yaxis\":{\"gridcolor\":\"white\",\"linecolor\":\"white\",\"ticks\":\"\",\"title\":{\"standoff\":15},\"zerolinecolor\":\"white\",\"automargin\":true,\"zerolinewidth\":2},\"scene\":{\"xaxis\":{\"backgroundcolor\":\"#E5ECF6\",\"gridcolor\":\"white\",\"linecolor\":\"white\",\"showbackground\":true,\"ticks\":\"\",\"zerolinecolor\":\"white\",\"gridwidth\":2},\"yaxis\":{\"backgroundcolor\":\"#E5ECF6\",\"gridcolor\":\"white\",\"linecolor\":\"white\",\"showbackground\":true,\"ticks\":\"\",\"zerolinecolor\":\"white\",\"gridwidth\":2},\"zaxis\":{\"backgroundcolor\":\"#E5ECF6\",\"gridcolor\":\"white\",\"linecolor\":\"white\",\"showbackground\":true,\"ticks\":\"\",\"zerolinecolor\":\"white\",\"gridwidth\":2}},\"shapedefaults\":{\"line\":{\"color\":\"#2a3f5f\"}},\"annotationdefaults\":{\"arrowcolor\":\"#2a3f5f\",\"arrowhead\":0,\"arrowwidth\":1},\"geo\":{\"bgcolor\":\"white\",\"landcolor\":\"#E5ECF6\",\"subunitcolor\":\"white\",\"showland\":true,\"showlakes\":true,\"lakecolor\":\"white\"},\"title\":{\"x\":0.05},\"mapbox\":{\"style\":\"light\"}}},\"margin\":{\"r\":20,\"b\":10,\"l\":10,\"t\":10},\"scene\":{\"xaxis\":{\"title\":{\"text\":\"weight-1\"}},\"yaxis\":{\"title\":{\"text\":\"weight-2\"}},\"zaxis\":{\"title\":{\"text\":\"error rate\"}}},\"width\":800,\"height\":480},                        {\"responsive\": true}                    ).then(function(){\n",
       "                            \n",
       "var gd = document.getElementById('821c3f89-3c45-422c-8f16-1bf36a9bfd5f');\n",
       "var x = new MutationObserver(function (mutations, observer) {{\n",
       "        var display = window.getComputedStyle(gd).display;\n",
       "        if (!display || display === 'none') {{\n",
       "            console.log([gd, 'removed!']);\n",
       "            Plotly.purge(gd);\n",
       "            observer.disconnect();\n",
       "        }}\n",
       "}});\n",
       "\n",
       "// Listen for the removal of the full notebook cells\n",
       "var notebookContainer = gd.closest('#notebook-container');\n",
       "if (notebookContainer) {{\n",
       "    x.observe(notebookContainer, {childList: true});\n",
       "}}\n",
       "\n",
       "// Listen for the clearing of the current output cell\n",
       "var outputEl = gd.closest('.output');\n",
       "if (outputEl) {{\n",
       "    x.observe(outputEl, {childList: true});\n",
       "}}\n",
       "\n",
       "                        })                };                });            </script>        </div>"
      ]
     },
     "metadata": {},
     "output_type": "display_data"
    }
   ],
   "source": [
    "import plotly.graph_objects as go\n",
    "#scales = ['Blackbody','Bluered','Blues','Earth','Electric','Greens','Greys','Hot','Jet','Picnic','Portland','Rainbow','RdBu','Reds','Viridis','YlGnBu','YlOrRd']\n",
    "scales=['Jet']\n",
    "for scale in scales:\n",
    "    print(f\"Scale = {scale}\")\n",
    "    fig = go.Figure(data=[go.Surface( \n",
    "        x=weight1, \n",
    "        y=weight2, \n",
    "        z=errors, \n",
    "        surfacecolor = biases, \n",
    "        colorscale=scale,\n",
    "        colorbar={\"title\": '\"Minimum Error\" Bias'}\n",
    "    )])\n",
    "    fig.update_layout(scene = dict(\n",
    "                        xaxis_title='weight-1',\n",
    "                        yaxis_title='weight-2',\n",
    "                        zaxis_title='error rate'\n",
    "                        ),\n",
    "                        width=800,\n",
    "                        height=480,                      \n",
    "                        margin=dict(r=20, b=10, l=10, t=10))\n",
    "    fig.show()"
   ]
  },
  {
   "cell_type": "code",
   "execution_count": null,
   "id": "87703aa7-684d-4849-8a3b-da81e665c18d",
   "metadata": {},
   "outputs": [],
   "source": []
  },
  {
   "cell_type": "code",
   "execution_count": null,
   "id": "574e807c-491e-4501-92a4-a9aa31a3662c",
   "metadata": {},
   "outputs": [],
   "source": []
  }
 ],
 "metadata": {
  "kernelspec": {
   "display_name": "Python 3 (ipykernel)",
   "language": "python",
   "name": "python3"
  },
  "language_info": {
   "codemirror_mode": {
    "name": "ipython",
    "version": 3
   },
   "file_extension": ".py",
   "mimetype": "text/x-python",
   "name": "python",
   "nbconvert_exporter": "python",
   "pygments_lexer": "ipython3",
   "version": "3.10.4"
  }
 },
 "nbformat": 4,
 "nbformat_minor": 5
}
