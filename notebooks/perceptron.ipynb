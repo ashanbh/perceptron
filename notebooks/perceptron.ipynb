{
 "cells": [
  {
   "cell_type": "markdown",
   "id": "5a3675fd-f0d8-460b-84be-a63f2e0ca962",
   "metadata": {},
   "source": [
    "## Overview\n",
    "In this notebook, we will implement a simple perceptron with 2 inputs and train it on an 8x8 card. \n",
    "*  The perceptron will try and predict a horizontal boundary for a single card. \n",
    "*  We will then try to train it poorly\n",
    "    * first by giving it very few interations\n",
    "    * and then by making the data noisy, and hence not linearly separable  \n",
    "\n",
    "## The Data\n",
    "* Each card is generated as a 8x8 matrix. \n",
    "* At some random horizontal offset (in the card below its `y>5`), the card will only output positive values.\n",
    "* Positive output is shows in green, negative in red.\n",
    "* The card, in essence, is horizontally partitioned between positive and negative regions.\n",
    "* The perceptron should be able to learn this boundary.\n",
    "\n",
    "<img src=\"../static/h1.png\" alt=\"Card\" style=\"width: 200px;\">\n",
    "\n",
    "### Input Vector\n",
    "For training purposes, the inputs are stored as a one dimensional array X, of 64 elements. \n",
    "* Inputs are the `(x,y)` co-ordinates of the card. Hence, in a range of `(0,0)` to `(7,7)`.\n",
    "* Green corresponds to inputs that must produce a positive output, red to negative. \n",
    "\n",
    "E.g. here the inputs will be represented as\n",
    "\n",
    "``` python\n",
    "    X =  [[0,0],[0,1],[0, 2] .. [0, 7],[1, 0],[1, 1] .. [7, 7,]]\n",
    "```\n",
    "\n",
    "### Output Vector\n",
    "The outputs are correspondingly stored in a one dimensional array Y, of 64 elements.\n",
    "* Every value is `1` or `-1`\n",
    "* Every 8 elements represent a vertical column in the card,\n",
    "\n",
    "![Serialized Output](../static/serialized-y.png)\n",
    "\n",
    "``` python\n",
    "   \n",
    "\n",
    "#(x,y): (0,0)   (0,1)   (0,2)   (0,3)   (0,4)   (0,5)   (0,6)   (0,7)        \n",
    "    Y = [\n",
    "        -1,     -1,     -1,     -1,     -1,     -1,     1,      1, \n",
    "        \n",
    "       ...\n",
    "       \n",
    "        -1,     -1,     -1,     -1,     -1,     -1,     1,      1,         \n",
    "    ]\n",
    "#(x,y): (7,0)   (7,1)   (7,2)   (7,3)   (7,4)   (7,5)   (7,6)   (7,7)    \n",
    "```\n"
   ]
  },
  {
   "cell_type": "code",
   "execution_count": 186,
   "id": "6fd9d019-0a73-4329-ad1f-5508717b8305",
   "metadata": {},
   "outputs": [],
   "source": [
    "import numpy as np\n",
    "import copy\n",
    "from matplotlib import pyplot as plt\n",
    "import random\n",
    "%matplotlib inline"
   ]
  },
  {
   "cell_type": "code",
   "execution_count": 187,
   "id": "b441a55e-5d4c-4571-a350-5f6a272864cd",
   "metadata": {},
   "outputs": [],
   "source": [
    "\n",
    "#generate a training card with a rectangular section marked positive \n",
    "def training_card(size=8, horizontal_partition = True, vertical_partition = True):\n",
    "    X = np.zeros((size*size,2))\n",
    "    Y = np.zeros([X.shape[0]])\n",
    "    \n",
    "    s = 0\n",
    "    t_y = random.uniform(size/4,3*size/4) if horizontal_partition else -1\n",
    "    t_x = random.uniform(0,size) if vertical_partition else -1  \n",
    "    print(\"card_t:\",t_x,t_y)\n",
    "    for i in range (0,size):    \n",
    "        for j in range (0,size):\n",
    "            X[s]=[i,j] \n",
    "            Y[s]= 1 if (j> t_y and i>t_x) else -1\n",
    "            s+=1\n",
    "    return (X,Y)            \n",
    "\n",
    "def draw_card(X,Y):\n",
    "    plt.figure(figsize=(2,2))\n",
    "    for i, x in enumerate(X):\n",
    "        if Y[i] > 0:\n",
    "            plt.scatter(x[0], x[1], s=100, marker='s', color='green',linewidths=2)\n",
    "        # Plot the positive samples\n",
    "        else:\n",
    "            plt.scatter(x[0], x[1], s=100, marker='s', color='red', linewidths=2)\n",
    "        "
   ]
  },
  {
   "cell_type": "markdown",
   "id": "4540c111-4ea7-4f79-97df-61a60ffd03a7",
   "metadata": {},
   "source": [
    "#### Perceptron Algorithm\n",
    "\n",
    "$$ \n",
    "    z = \\sum_{i=1}^n x_i w_i + b \n",
    "$$\n",
    "\n",
    "$$ \n",
    "    output = \\begin{cases}\n",
    "        1 & \\text{if }\\ z > T \\text{\\, where T is some threshold }\n",
    "        \\\\-1 & \\text{otherwise}\n",
    "        \\end{cases}\n",
    "$$\n",
    "#### Learning \n",
    "We adjust the weight to reduce the error\n",
    "$$\n",
    "    \\text{if } y*a \\leq 0 \\text{ then }\n",
    "    \\bigg|\\begin{multline}\n",
    "    \\begin{aligned}\n",
    "    w_i &= w_i + y x_i \\text{ for i  = 1,2,3,..,n} \\\\\n",
    "    b &= b + y\n",
    "    \\end{aligned}\n",
    "    \\end{multline}\n",
    "$$\n",
    "\n"
   ]
  },
  {
   "cell_type": "code",
   "execution_count": 188,
   "id": "b4414ff3-3470-4ae0-9a49-6ab3ad7a2a68",
   "metadata": {},
   "outputs": [
    {
     "name": "stdout",
     "output_type": "stream",
     "text": [
      "card_t: -1 3.252144803197865\n"
     ]
    },
    {
     "data": {
      "image/png": "[encoded data removed]",
      "text/plain": [
       "<Figure size 200x200 with 1 Axes>"
      ]
     },
     "metadata": {},
     "output_type": "display_data"
    },
    {
     "name": "stdout",
     "output_type": "stream",
     "text": [
      "CONVERGENCE! Perceptron converged in  (epoch:18)\n",
      "Weights => [-1. 15.], bias=-47.0\n",
      "----------------------------------------\n",
      "\n"
     ]
    }
   ],
   "source": [
    "import sys, site\n",
    "sys.path.insert(0,\"..\") \n",
    "from perceptron import perceptron as tron\n",
    "import importlib\n",
    "importlib.reload(tron)\n",
    "\n",
    "\n",
    "#generate a cards and train to detect horizontal partitions \n",
    "weights = np.zeros(2)\n",
    "bias = 0\n",
    "(X,Y) = training_card(vertical_partition=False)\n",
    "draw_card(X,Y)\n",
    "plt.show()\n",
    "(weights,bias, convergence) = tron.perceptron(X,Y,weights, bias,epochs=50)\n",
    "\n",
    "def debug_training_weights(weights, bias, convergence):\n",
    "    ##\n",
    "    # Try changing the number of epochs. Lower epochs are usually better. \n",
    "    ##\n",
    "    if convergence:\n",
    "        print(f\"CONVERGENCE! Perceptron converged in  (epoch:{convergence})\")\n",
    "    else: \n",
    "        print(f\"Perceptron failed to converge\")\n",
    "    print(f\"Weights => {weights}, bias={bias}\\n{'-'*40}\\n\")\n",
    "\n",
    "debug_training_weights(weights, bias, convergence)\n"
   ]
  },
  {
   "cell_type": "markdown",
   "id": "2c1a0b7e-edcc-4c99-afb3-f990ada42068",
   "metadata": {},
   "source": [
    "## How well trained is the perceptron?\n",
    "If the perceptron converged above, the prediction errors below should be ZERO. However, some training sets may not converge in 50 epochs. \n",
    "In practice it takes a lot fewer than 50 iterations.\n"
   ]
  },
  {
   "cell_type": "code",
   "execution_count": 189,
   "id": "698c320f-4abc-4769-85fe-525d4f8f4a79",
   "metadata": {},
   "outputs": [
    {
     "name": "stdout",
     "output_type": "stream",
     "text": [
      "Prediction Errors:0\n"
     ]
    },
    {
     "data": {
      "text/plain": [
       "0"
      ]
     },
     "execution_count": 189,
     "metadata": {},
     "output_type": "execute_result"
    }
   ],
   "source": [
    "#now check how many prediction errors the perceptron has\n",
    "def debug_function(x,y,a):\n",
    "    if (a * y) <= 0 :\n",
    "        print(f\"x={x}, y={y}, a={a}\", \"\\x1b[31mMismatch\\x1b[0m\" )\n",
    "\n",
    "#Predict and print info about mismatches. \n",
    "tron.predict_only(X,Y,weights, bias,debug_function)\n"
   ]
  },
  {
   "cell_type": "markdown",
   "id": "d3028d7b-5975-496d-9611-07fe7e6faba0",
   "metadata": {},
   "source": [
    "# Not enough training - poorly trained perceptron\n",
    "Lets train the perceptron to perform poorly. We shall give it very few epochs. (We could also introduce noise in the data, by randomly  reversing outputs )\n"
   ]
  },
  {
   "cell_type": "code",
   "execution_count": 190,
   "id": "deb22c47-e188-4dfd-834e-c49963eb048b",
   "metadata": {},
   "outputs": [
    {
     "name": "stdout",
     "output_type": "stream",
     "text": [
      "card_t: -1 5.668356750529905\n"
     ]
    },
    {
     "data": {
      "image/png": "[encoded data removed]",
      "text/plain": [
       "<Figure size 200x200 with 1 Axes>"
      ]
     },
     "metadata": {},
     "output_type": "display_data"
    },
    {
     "name": "stdout",
     "output_type": "stream",
     "text": [
      "Perceptron failed to converge\n",
      "Weights => [-6. 22.], bias=-23.0\n",
      "----------------------------------------\n",
      "\n",
      "x=[0. 2.], y=-1.0, a=21.0 \u001b[31mMismatch\u001b[0m\n",
      "x=[0. 3.], y=-1.0, a=43.0 \u001b[31mMismatch\u001b[0m\n",
      "x=[0. 4.], y=-1.0, a=65.0 \u001b[31mMismatch\u001b[0m\n",
      "x=[0. 5.], y=-1.0, a=87.0 \u001b[31mMismatch\u001b[0m\n",
      "x=[1. 2.], y=-1.0, a=15.0 \u001b[31mMismatch\u001b[0m\n",
      "x=[1. 3.], y=-1.0, a=37.0 \u001b[31mMismatch\u001b[0m\n",
      "x=[1. 4.], y=-1.0, a=59.0 \u001b[31mMismatch\u001b[0m\n",
      "x=[1. 5.], y=-1.0, a=81.0 \u001b[31mMismatch\u001b[0m\n",
      "x=[2. 2.], y=-1.0, a=9.0 \u001b[31mMismatch\u001b[0m\n",
      "x=[2. 3.], y=-1.0, a=31.0 \u001b[31mMismatch\u001b[0m\n",
      "x=[2. 4.], y=-1.0, a=53.0 \u001b[31mMismatch\u001b[0m\n",
      "x=[2. 5.], y=-1.0, a=75.0 \u001b[31mMismatch\u001b[0m\n",
      "x=[3. 2.], y=-1.0, a=3.0 \u001b[31mMismatch\u001b[0m\n",
      "x=[3. 3.], y=-1.0, a=25.0 \u001b[31mMismatch\u001b[0m\n",
      "x=[3. 4.], y=-1.0, a=47.0 \u001b[31mMismatch\u001b[0m\n",
      "x=[3. 5.], y=-1.0, a=69.0 \u001b[31mMismatch\u001b[0m\n",
      "x=[4. 3.], y=-1.0, a=19.0 \u001b[31mMismatch\u001b[0m\n",
      "x=[4. 4.], y=-1.0, a=41.0 \u001b[31mMismatch\u001b[0m\n",
      "x=[4. 5.], y=-1.0, a=63.0 \u001b[31mMismatch\u001b[0m\n",
      "x=[5. 3.], y=-1.0, a=13.0 \u001b[31mMismatch\u001b[0m\n",
      "x=[5. 4.], y=-1.0, a=35.0 \u001b[31mMismatch\u001b[0m\n",
      "x=[5. 5.], y=-1.0, a=57.0 \u001b[31mMismatch\u001b[0m\n",
      "x=[6. 3.], y=-1.0, a=7.0 \u001b[31mMismatch\u001b[0m\n",
      "x=[6. 4.], y=-1.0, a=29.0 \u001b[31mMismatch\u001b[0m\n",
      "x=[6. 5.], y=-1.0, a=51.0 \u001b[31mMismatch\u001b[0m\n",
      "x=[7. 3.], y=-1.0, a=1.0 \u001b[31mMismatch\u001b[0m\n",
      "x=[7. 4.], y=-1.0, a=23.0 \u001b[31mMismatch\u001b[0m\n",
      "x=[7. 5.], y=-1.0, a=45.0 \u001b[31mMismatch\u001b[0m\n",
      "Prediction Errors:28\n"
     ]
    },
    {
     "data": {
      "text/plain": [
       "28"
      ]
     },
     "execution_count": 190,
     "metadata": {},
     "output_type": "execute_result"
    }
   ],
   "source": [
    "#generate card\n",
    "(X,Y) = training_card(vertical_partition=False)\n",
    "draw_card(X,Y)\n",
    "plt.show()\n",
    "\n",
    "##\n",
    "# train the data with very few iterations ..say 5\n",
    "# this could still converge, but chances are low\n",
    "##\n",
    "(weights,bias, convergence) = tron.perceptron(X,Y,np.zeros(2), 0,epochs=5)\n",
    "debug_training_weights(weights, bias, convergence)\n",
    "\n",
    "#Predict and print info about mismatches. \n",
    "tron.predict_only(X,Y,weights, bias,debug_function)\n"
   ]
  },
  {
   "cell_type": "markdown",
   "id": "877b6d43-5f91-486e-95b8-61f5c4b0508d",
   "metadata": {},
   "source": [
    "# Noisy Data - poorly trained perceptron\n",
    "Lets train the perceptron to perform poorly. We shall give it very few epochs. (We could also introduce noise in the data, by randomly  reversing outputs )\n"
   ]
  },
  {
   "cell_type": "code",
   "execution_count": 191,
   "id": "cfeaa9c6-0320-41b8-bf30-1f312966dcbe",
   "metadata": {},
   "outputs": [
    {
     "name": "stdout",
     "output_type": "stream",
     "text": [
      "card_t: -1 3.531559755998139\n"
     ]
    },
    {
     "data": {
      "image/png": "[encoded data removed]",
      "text/plain": [
       "<Figure size 200x200 with 1 Axes>"
      ]
     },
     "metadata": {},
     "output_type": "display_data"
    },
    {
     "name": "stdout",
     "output_type": "stream",
     "text": [
      "CONVERGENCE! Perceptron converged in  (epoch:9)\n",
      "Weights => [-1. 14.], bias=-25.0\n",
      "----------------------------------------\n",
      "\n",
      "x=[0. 2.], y=-1.0, a=3.0 \u001b[31mMismatch\u001b[0m\n",
      "x=[0. 3.], y=-1.0, a=17.0 \u001b[31mMismatch\u001b[0m\n",
      "x=[1. 2.], y=-1.0, a=2.0 \u001b[31mMismatch\u001b[0m\n",
      "x=[1. 3.], y=-1.0, a=16.0 \u001b[31mMismatch\u001b[0m\n",
      "x=[2. 2.], y=-1.0, a=1.0 \u001b[31mMismatch\u001b[0m\n",
      "x=[2. 4.], y=-1.0, a=29.0 \u001b[31mMismatch\u001b[0m\n",
      "x=[3. 1.], y=1.0, a=-14.0 \u001b[31mMismatch\u001b[0m\n",
      "x=[3. 2.], y=-1.0, a=0.0 \u001b[31mMismatch\u001b[0m\n",
      "x=[3. 3.], y=-1.0, a=14.0 \u001b[31mMismatch\u001b[0m\n",
      "x=[4. 1.], y=1.0, a=-15.0 \u001b[31mMismatch\u001b[0m\n",
      "x=[4. 3.], y=-1.0, a=13.0 \u001b[31mMismatch\u001b[0m\n",
      "x=[5. 3.], y=-1.0, a=12.0 \u001b[31mMismatch\u001b[0m\n",
      "x=[6. 3.], y=-1.0, a=11.0 \u001b[31mMismatch\u001b[0m\n",
      "x=[6. 5.], y=-1.0, a=39.0 \u001b[31mMismatch\u001b[0m\n",
      "Prediction Errors:14\n"
     ]
    },
    {
     "data": {
      "text/plain": [
       "14"
      ]
     },
     "execution_count": 191,
     "metadata": {},
     "output_type": "execute_result"
    }
   ],
   "source": [
    "#generate card\n",
    "(X,Y) = training_card(vertical_partition=False)\n",
    "\n",
    "##\n",
    "# Make the data noisy by reversing about 20% of the training set. \n",
    "for i,y in enumerate(Y):\n",
    "        Y[i] = -Y[i] if not round(random.uniform(0,5)) else Y[i]\n",
    "draw_card(X,Y)\n",
    "plt.show()\n",
    "\n",
    "##\n",
    "# give it a good 50 epochs. \n",
    "# data is not likely to be linearly seprable, so there should be some amount of error\n",
    "##\n",
    "(weights,bias, convergence) = tron.perceptron(X,Y,np.zeros(2), 0,epochs=50)\n",
    "debug_training_weights(weights, bias, convergence)\n",
    "\n",
    "#Predict and print info about mismatches. \n",
    "tron.predict_only(X,Y,weights, bias,debug_function)\n"
   ]
  },
  {
   "cell_type": "code",
   "execution_count": null,
   "id": "fd422bfc-3382-47c0-be8a-9afdc5bd9485",
   "metadata": {},
   "outputs": [],
   "source": []
  },
  {
   "cell_type": "code",
   "execution_count": null,
   "id": "9aac16ec-daf6-4dfa-97d6-cbba1f5091b9",
   "metadata": {},
   "outputs": [],
   "source": []
  },
  {
   "cell_type": "code",
   "execution_count": null,
   "id": "8b84cb45-353a-4a25-9928-52e51d85503c",
   "metadata": {},
   "outputs": [],
   "source": []
  }
 ],
 "metadata": {
  "kernelspec": {
   "display_name": "Python 3 (ipykernel)",
   "language": "python",
   "name": "python3"
  },
  "language_info": {
   "codemirror_mode": {
    "name": "ipython",
    "version": 3
   },
   "file_extension": ".py",
   "mimetype": "text/x-python",
   "name": "python",
   "nbconvert_exporter": "python",
   "pygments_lexer": "ipython3",
   "version": "3.10.4"
  }
 },
 "nbformat": 4,
 "nbformat_minor": 5
}
