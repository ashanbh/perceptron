{
 "cells": [
  {
   "cell_type": "code",
   "execution_count": 1,
   "id": "6fd9d019-0a73-4329-ad1f-5508717b8305",
   "metadata": {},
   "outputs": [
    {
     "name": "stderr",
     "output_type": "stream",
     "text": [
      "Matplotlib is building the font cache; this may take a moment.\n"
     ]
    }
   ],
   "source": [
    "import numpy as np\n",
    "import copy\n",
    "import numpy as np\n",
    "from matplotlib import pyplot as plt\n",
    "import random\n",
    "%matplotlib inline"
   ]
  },
  {
   "cell_type": "code",
   "execution_count": 211,
   "id": "b441a55e-5d4c-4571-a350-5f6a272864cd",
   "metadata": {},
   "outputs": [],
   "source": [
    "\n",
    "#generate a training card with a rectangular section marked positive \n",
    "def training_card(size=8, horizontal_partition = True, vertical_partition = True):\n",
    "    X = np.zeros((size*size,2))\n",
    "    Y = np.zeros([X.shape[0]])\n",
    "    \n",
    "    s = 0\n",
    "    t_y = random.uniform(size/4,3*size/4) if horizontal_partition else -1\n",
    "    t_x = random.uniform(0,size) if vertical_partition else -1  \n",
    "    print(\"card_t:\",t_x,t_y)\n",
    "    for i in range (0,size):    \n",
    "        for j in range (0,size):\n",
    "            X[s]=[i,j] \n",
    "            Y[s]= 1 if (j> t_y and i>t_x) else -1\n",
    "            s+=1\n",
    "    return (X,Y)            \n",
    "\n",
    "def draw_card(X,Y):\n",
    "    plt.figure(figsize=(0.5,0.5))\n",
    "    for i, x in enumerate(X):\n",
    "        if Y[i] > 0:\n",
    "            plt.scatter(x[0], x[1], s=50, marker='s', color='green',linewidths=2)\n",
    "        # Plot the positive samples\n",
    "        else:\n",
    "            plt.scatter(x[0], x[1], s=50, marker='s', color='red', linewidths=2)\n",
    "        "
   ]
  },
  {
   "cell_type": "code",
   "execution_count": 212,
   "id": "98884b93-fb64-4ed8-9410-ef11769c2546",
   "metadata": {},
   "outputs": [],
   "source": []
  },
  {
   "cell_type": "code",
   "execution_count": 213,
   "id": "117aa8d9-5fce-4c28-a0c7-c7c712d30910",
   "metadata": {},
   "outputs": [
    {
     "name": "stdout",
     "output_type": "stream",
     "text": [
      "card_t: -1 5.09769242807052\n"
     ]
    },
    {
     "data": {
      "image/png": "[encoded data removed]",
      "text/plain": [
       "<Figure size 50x50 with 1 Axes>"
      ]
     },
     "metadata": {},
     "output_type": "display_data"
    },
    {
     "name": "stdout",
     "output_type": "stream",
     "text": [
      "Prediction Errors:64\n",
      "Weights => [ 0. 11.], bias=-60.0\n",
      "----------------------------------------\n",
      "\n",
      "card_t: -1 4.024596663145864\n"
     ]
    },
    {
     "data": {
      "image/png": "[encoded data removed]",
      "text/plain": [
       "<Figure size 50x50 with 1 Axes>"
      ]
     },
     "metadata": {},
     "output_type": "display_data"
    },
    {
     "name": "stdout",
     "output_type": "stream",
     "text": [
      "Prediction Errors:8\n",
      "CONVERGENCE (epoch:2)\n",
      "Weights => [ 0. 14.], bias=-62.0\n",
      "----------------------------------------\n",
      "\n",
      "card_t: -1 4.466487162257724\n"
     ]
    },
    {
     "data": {
      "image/png": "[encoded data removed]",
      "text/plain": [
       "<Figure size 50x50 with 1 Axes>"
      ]
     },
     "metadata": {},
     "output_type": "display_data"
    },
    {
     "name": "stdout",
     "output_type": "stream",
     "text": [
      "Prediction Errors:0\n",
      "CONVERGENCE (epoch:0)\n",
      "Weights => [ 0. 14.], bias=-62.0\n",
      "----------------------------------------\n",
      "\n",
      "card_t: -1 4.2051306737319685\n"
     ]
    },
    {
     "data": {
      "image/png": "[encoded data removed]",
      "text/plain": [
       "<Figure size 50x50 with 1 Axes>"
      ]
     },
     "metadata": {},
     "output_type": "display_data"
    },
    {
     "name": "stdout",
     "output_type": "stream",
     "text": [
      "Prediction Errors:0\n",
      "CONVERGENCE (epoch:0)\n",
      "Weights => [ 0. 14.], bias=-62.0\n",
      "----------------------------------------\n",
      "\n",
      "card_t: -1 4.915180558454138\n"
     ]
    },
    {
     "data": {
      "image/png": "[encoded data removed]",
      "text/plain": [
       "<Figure size 50x50 with 1 Axes>"
      ]
     },
     "metadata": {},
     "output_type": "display_data"
    },
    {
     "name": "stdout",
     "output_type": "stream",
     "text": [
      "Prediction Errors:0\n",
      "CONVERGENCE (epoch:0)\n",
      "Weights => [ 0. 14.], bias=-62.0\n",
      "----------------------------------------\n",
      "\n",
      "card_t: -1 2.531142379350493\n"
     ]
    },
    {
     "data": {
      "image/png": "[encoded data removed]",
      "text/plain": [
       "<Figure size 50x50 with 1 Axes>"
      ]
     },
     "metadata": {},
     "output_type": "display_data"
    },
    {
     "name": "stdout",
     "output_type": "stream",
     "text": [
      "Prediction Errors:16\n",
      "CONVERGENCE (epoch:2)\n",
      "Weights => [ 1. 23.], bias=-59.0\n",
      "----------------------------------------\n",
      "\n",
      "card_t: -1 2.9736082853005783\n"
     ]
    },
    {
     "data": {
      "image/png": "[encoded data removed]",
      "text/plain": [
       "<Figure size 50x50 with 1 Axes>"
      ]
     },
     "metadata": {},
     "output_type": "display_data"
    },
    {
     "name": "stdout",
     "output_type": "stream",
     "text": [
      "Prediction Errors:0\n",
      "CONVERGENCE (epoch:0)\n",
      "Weights => [ 1. 23.], bias=-59.0\n",
      "----------------------------------------\n",
      "\n",
      "card_t: -1 2.6373346471911883\n"
     ]
    },
    {
     "data": {
      "image/png": "[encoded data removed]",
      "text/plain": [
       "<Figure size 50x50 with 1 Axes>"
      ]
     },
     "metadata": {},
     "output_type": "display_data"
    },
    {
     "name": "stdout",
     "output_type": "stream",
     "text": [
      "Prediction Errors:0\n",
      "CONVERGENCE (epoch:0)\n",
      "Weights => [ 1. 23.], bias=-59.0\n",
      "----------------------------------------\n",
      "\n",
      "card_t: -1 4.25402028057705\n"
     ]
    },
    {
     "data": {
      "image/png": "[encoded data removed]",
      "text/plain": [
       "<Figure size 50x50 with 1 Axes>"
      ]
     },
     "metadata": {},
     "output_type": "display_data"
    },
    {
     "name": "stdout",
     "output_type": "stream",
     "text": [
      "Prediction Errors:16\n",
      "CONVERGENCE (epoch:3)\n",
      "Weights => [-1. 15.], bias=-65.0\n",
      "----------------------------------------\n",
      "\n",
      "card_t: -1 5.757488788847172\n"
     ]
    },
    {
     "data": {
      "image/png": "[encoded data removed]",
      "text/plain": [
       "<Figure size 50x50 with 1 Axes>"
      ]
     },
     "metadata": {},
     "output_type": "display_data"
    },
    {
     "name": "stdout",
     "output_type": "stream",
     "text": [
      "Prediction Errors:8\n",
      "Weights => [ 4. 22.], bias=-95.0\n",
      "----------------------------------------\n",
      "\n"
     ]
    }
   ],
   "source": [
    "#generate 10 cards and train to detect horizontal partitions \n",
    "\n",
    "weights = np.zeros(len(X[0]))\n",
    "bias = 0\n",
    "for c in range (0,10):\n",
    "    (X,Y) = training_card(vertical_partition=False)\n",
    "    draw_card(X,Y)\n",
    "    plt.show()\n",
    "    (weights,bias) = perceptron(X,Y,weights, bias, predict=True)\n",
    "    print(f\"Weights => {weights}, bias={bias}\\n{'-'*40}\\n\")\n",
    "    \n"
   ]
  },
  {
   "cell_type": "code",
   "execution_count": null,
   "id": "eb3b571b-bef5-4b13-86b9-4b86411a602d",
   "metadata": {},
   "outputs": [],
   "source": []
  },
  {
   "cell_type": "code",
   "execution_count": null,
   "id": "b4414ff3-3470-4ae0-9a49-6ab3ad7a2a68",
   "metadata": {},
   "outputs": [],
   "source": []
  }
 ],
 "metadata": {
  "kernelspec": {
   "display_name": "Python 3 (ipykernel)",
   "language": "python",
   "name": "python3"
  },
  "language_info": {
   "codemirror_mode": {
    "name": "ipython",
    "version": 3
   },
   "file_extension": ".py",
   "mimetype": "text/x-python",
   "name": "python",
   "nbconvert_exporter": "python",
   "pygments_lexer": "ipython3",
   "version": "3.10.4"
  }
 },
 "nbformat": 4,
 "nbformat_minor": 5
}
