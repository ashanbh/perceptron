{
 "cells": [
  {
   "cell_type": "markdown",
   "id": "5a3675fd-f0d8-460b-84be-a63f2e0ca962",
   "metadata": {},
   "source": [
    "## Overview\n",
    "In this notebook, we will implement a simple perceptron with 2 inputs and train it on an 8x8 card. \n",
    "*  The perceptron will try and predict a horizontal boundary for a single card. \n",
    "*  We will then train the perceptron on a deck of cards. We will re-use the trained weights from the previous trainings.\n",
    "    * This should test how the perceptron behaves when it sees completely new cards.\n",
    "    * The errors *should* reduce as the percerptron sees more cards and the weights get better over time. \n",
    "\n",
    "## The Data\n",
    "* Each card is generated as a 8x8 matrix. \n",
    "* At some random horizontal offset (in the card above its 'y>5'), the card will only output positive values.\n",
    "* Green corresponds to inputs that must produce a positive output, red to negative. \n",
    "* The card, in essence, is horizontally partitioned between positive and negative regions.\n",
    "* The perceptron should be able to learn this boundary.\n",
    "\n",
    "<img src=\"../static/h1.png\" alt=\"Card\" style=\"width: 200px;\">\n",
    "\n",
    "### Input Vector\n",
    "For training purposes, the inputs are stored as a one dimensional array X, of 64 elements. \n",
    "* Inputs are the `(x,y)` co-ordinates of the card. Hence, in a range of `(0,0)` to `(7,7)`.\n",
    "* Green corresponds to inputs that must produce a positive output, red to negative. \n",
    "\n",
    "E.g. here the inputs will be represented as\n",
    "\n",
    "``` python\n",
    "X =  [ \n",
    "        [0,0],\n",
    "        [0. 1.]\n",
    "        [0. 2.]\n",
    "        ..\n",
    "        [0. 7.]\n",
    "        [1. 0.]\n",
    "        [1. 1.]\n",
    "        ..\n",
    "        [7. 7.]\n",
    "    ]\n",
    "```\n",
    "\n",
    "### Output Vector\n",
    "The outputs are correspondingly stored in a one dimensional array Y, of 64 elements.\n",
    "* Every value is `1` or `-1`\n",
    "* Every 8 elements represent a vertical column in the card,\n",
    "\n",
    "![Serialized Output](../static/serialized-y.png)\n",
    "\n",
    "``` python\n",
    "   \n",
    "\n",
    "#(x,y): (0,0)   (0,1)   (0,2)   (0,3)   (0,4)   (0,5)   (0,6)   (0,7)        \n",
    "    Y = [\n",
    "        -1,     -1,     -1,     -1,     -1,     -1,     1,      1, \n",
    "        \n",
    "       ...\n",
    "       \n",
    "        -1,     -1,     -1,     -1,     -1,     -1,     1,      1,         \n",
    "    ]\n",
    "#(x,y): (7,0)   (7,1)   (7,2)   (7,3)   (7,4)   (7,5)   (7,6)   (7,7)    \n",
    "```\n"
   ]
  },
  {
   "cell_type": "code",
   "execution_count": 144,
   "id": "6fd9d019-0a73-4329-ad1f-5508717b8305",
   "metadata": {},
   "outputs": [],
   "source": [
    "import numpy as np\n",
    "import copy\n",
    "from matplotlib import pyplot as plt\n",
    "import random\n",
    "%matplotlib inline"
   ]
  },
  {
   "cell_type": "code",
   "execution_count": 146,
   "id": "b441a55e-5d4c-4571-a350-5f6a272864cd",
   "metadata": {},
   "outputs": [],
   "source": [
    "\n",
    "#generate a training card with a rectangular section marked positive \n",
    "def training_card(size=8, horizontal_partition = True, vertical_partition = True):\n",
    "    X = np.zeros((size*size,2))\n",
    "    Y = np.zeros([X.shape[0]])\n",
    "    \n",
    "    s = 0\n",
    "    t_y = random.uniform(size/4,3*size/4) if horizontal_partition else -1\n",
    "    t_x = random.uniform(0,size) if vertical_partition else -1  \n",
    "    print(\"card_t:\",t_x,t_y)\n",
    "    for i in range (0,size):    \n",
    "        for j in range (0,size):\n",
    "            X[s]=[i,j] \n",
    "            Y[s]= 1 if (j> t_y and i>t_x) else -1\n",
    "            s+=1\n",
    "    return (X,Y)            \n",
    "\n",
    "def draw_card(X,Y):\n",
    "    plt.figure(figsize=(2,2))\n",
    "    for i, x in enumerate(X):\n",
    "        if Y[i] > 0:\n",
    "            plt.scatter(x[0], x[1], s=100, marker='s', color='green',linewidths=2)\n",
    "        # Plot the positive samples\n",
    "        else:\n",
    "            plt.scatter(x[0], x[1], s=100, marker='s', color='red', linewidths=2)\n",
    "        "
   ]
  },
  {
   "cell_type": "markdown",
   "id": "4540c111-4ea7-4f79-97df-61a60ffd03a7",
   "metadata": {},
   "source": [
    "#### Perceptron Algorithm\n",
    "\n",
    "$$ \n",
    "    z = \\sum_{i=1}^n x_i w_i + b \n",
    "$$\n",
    "\n",
    "$$ \n",
    "    output = \\begin{cases}\n",
    "        1 & \\text{if }\\ z > T \\text{\\, where T is some threshold }\n",
    "        \\\\-1 & \\text{otherwise}\n",
    "        \\end{cases}\n",
    "$$\n",
    "#### Learning \n",
    "We adjust the weight to reduce the error\n",
    "$$\n",
    "    \\text{if } y*a \\leq 0 \\text{ then }\n",
    "    \\bigg|\\begin{multline}\n",
    "    \\begin{aligned}\n",
    "    w_i &= w_i + y x_i \\text{ for i  = 1,2,3,..,n} \\\\\n",
    "    b &= b + y\n",
    "    \\end{aligned}\n",
    "    \\end{multline}\n",
    "$$\n",
    "\n"
   ]
  },
  {
   "cell_type": "code",
   "execution_count": 147,
   "id": "b4414ff3-3470-4ae0-9a49-6ab3ad7a2a68",
   "metadata": {},
   "outputs": [
    {
     "name": "stdout",
     "output_type": "stream",
     "text": [
      "card_t: -1 5.85102875470215\n"
     ]
    },
    {
     "data": {
      "image/png": "[encoded data removed]",
      "text/plain": [
       "<Figure size 200x200 with 1 Axes>"
      ]
     },
     "metadata": {},
     "output_type": "display_data"
    },
    {
     "name": "stdout",
     "output_type": "stream",
     "text": [
      "CONVERGENCE! Perceptron converged in  (epoch:21)\n",
      "Weights => [ 0. 11.], bias=-60.0\n",
      "----------------------------------------\n",
      "\n"
     ]
    }
   ],
   "source": [
    "import sys, site\n",
    "sys.path.insert(0,\"..\") \n",
    "from perceptron import perceptron as tron\n",
    "import importlib\n",
    "importlib.reload(tron)\n",
    "\n",
    "\n",
    "#generate a cards and train to detect horizontal partitions \n",
    "weights = np.zeros(2)\n",
    "bias = 0\n",
    "(X,Y) = training_card(vertical_partition=False)\n",
    "draw_card(X,Y)\n",
    "plt.show()\n",
    "(weights,bias, convergence) = tron.perceptron(X,Y,weights, bias,epochs=50)\n",
    "\n",
    "##\n",
    "# Try changing the number of epochs. Lower epochs are usually better. \n",
    "##\n",
    "if convergence:\n",
    "    print(f\"CONVERGENCE! Perceptron converged in  (epoch:{convergence})\")\n",
    "else: \n",
    "    print(f\"Perceptron failed to converge\")\n",
    "\n",
    "print(f\"Weights => {weights}, bias={bias}\\n{'-'*40}\\n\")    \n"
   ]
  },
  {
   "cell_type": "markdown",
   "id": "2c1a0b7e-edcc-4c99-afb3-f990ada42068",
   "metadata": {},
   "source": [
    "## How well trained is the perceptron?\n",
    "If the perceptron converged above, the prediction errors below should be ZERO. However, some training sets may not converge in 50 epochs. \n",
    "In practice it takes a lot fewer than 50 iterations.\n"
   ]
  },
  {
   "cell_type": "code",
   "execution_count": 148,
   "id": "698c320f-4abc-4769-85fe-525d4f8f4a79",
   "metadata": {},
   "outputs": [
    {
     "name": "stdout",
     "output_type": "stream",
     "text": [
      "x=[0. 0.], y=-1.0, a=-60.0 OK\n",
      "x=[0. 1.], y=-1.0, a=-49.0 OK\n",
      "x=[0. 2.], y=-1.0, a=-38.0 OK\n",
      "x=[0. 3.], y=-1.0, a=-27.0 OK\n",
      "x=[0. 4.], y=-1.0, a=-16.0 OK\n",
      "x=[0. 5.], y=-1.0, a=-5.0 OK\n",
      "x=[0. 6.], y=1.0, a=6.0 OK\n",
      "x=[0. 7.], y=1.0, a=17.0 OK\n",
      "x=[1. 0.], y=-1.0, a=-60.0 OK\n",
      "x=[1. 1.], y=-1.0, a=-49.0 OK\n",
      "x=[1. 2.], y=-1.0, a=-38.0 OK\n",
      "x=[1. 3.], y=-1.0, a=-27.0 OK\n",
      "x=[1. 4.], y=-1.0, a=-16.0 OK\n",
      "x=[1. 5.], y=-1.0, a=-5.0 OK\n",
      "x=[1. 6.], y=1.0, a=6.0 OK\n",
      "x=[1. 7.], y=1.0, a=17.0 OK\n",
      "x=[2. 0.], y=-1.0, a=-60.0 OK\n",
      "x=[2. 1.], y=-1.0, a=-49.0 OK\n",
      "x=[2. 2.], y=-1.0, a=-38.0 OK\n",
      "x=[2. 3.], y=-1.0, a=-27.0 OK\n",
      "x=[2. 4.], y=-1.0, a=-16.0 OK\n",
      "x=[2. 5.], y=-1.0, a=-5.0 OK\n",
      "x=[2. 6.], y=1.0, a=6.0 OK\n",
      "x=[2. 7.], y=1.0, a=17.0 OK\n",
      "x=[3. 0.], y=-1.0, a=-60.0 OK\n",
      "x=[3. 1.], y=-1.0, a=-49.0 OK\n",
      "x=[3. 2.], y=-1.0, a=-38.0 OK\n",
      "x=[3. 3.], y=-1.0, a=-27.0 OK\n",
      "x=[3. 4.], y=-1.0, a=-16.0 OK\n",
      "x=[3. 5.], y=-1.0, a=-5.0 OK\n",
      "x=[3. 6.], y=1.0, a=6.0 OK\n",
      "x=[3. 7.], y=1.0, a=17.0 OK\n",
      "x=[4. 0.], y=-1.0, a=-60.0 OK\n",
      "x=[4. 1.], y=-1.0, a=-49.0 OK\n",
      "x=[4. 2.], y=-1.0, a=-38.0 OK\n",
      "x=[4. 3.], y=-1.0, a=-27.0 OK\n",
      "x=[4. 4.], y=-1.0, a=-16.0 OK\n",
      "x=[4. 5.], y=-1.0, a=-5.0 OK\n",
      "x=[4. 6.], y=1.0, a=6.0 OK\n",
      "x=[4. 7.], y=1.0, a=17.0 OK\n",
      "x=[5. 0.], y=-1.0, a=-60.0 OK\n",
      "x=[5. 1.], y=-1.0, a=-49.0 OK\n",
      "x=[5. 2.], y=-1.0, a=-38.0 OK\n",
      "x=[5. 3.], y=-1.0, a=-27.0 OK\n",
      "x=[5. 4.], y=-1.0, a=-16.0 OK\n",
      "x=[5. 5.], y=-1.0, a=-5.0 OK\n",
      "x=[5. 6.], y=1.0, a=6.0 OK\n",
      "x=[5. 7.], y=1.0, a=17.0 OK\n",
      "x=[6. 0.], y=-1.0, a=-60.0 OK\n",
      "x=[6. 1.], y=-1.0, a=-49.0 OK\n",
      "x=[6. 2.], y=-1.0, a=-38.0 OK\n",
      "x=[6. 3.], y=-1.0, a=-27.0 OK\n",
      "x=[6. 4.], y=-1.0, a=-16.0 OK\n",
      "x=[6. 5.], y=-1.0, a=-5.0 OK\n",
      "x=[6. 6.], y=1.0, a=6.0 OK\n",
      "x=[6. 7.], y=1.0, a=17.0 OK\n",
      "x=[7. 0.], y=-1.0, a=-60.0 OK\n",
      "x=[7. 1.], y=-1.0, a=-49.0 OK\n",
      "x=[7. 2.], y=-1.0, a=-38.0 OK\n",
      "x=[7. 3.], y=-1.0, a=-27.0 OK\n",
      "x=[7. 4.], y=-1.0, a=-16.0 OK\n",
      "x=[7. 5.], y=-1.0, a=-5.0 OK\n",
      "x=[7. 6.], y=1.0, a=6.0 OK\n",
      "x=[7. 7.], y=1.0, a=17.0 OK\n",
      "Prediction Errors:0\n"
     ]
    },
    {
     "data": {
      "text/plain": [
       "0"
      ]
     },
     "execution_count": 148,
     "metadata": {},
     "output_type": "execute_result"
    }
   ],
   "source": [
    "\n",
    "#now check how many prediction errors the perceptron has\n",
    "def debug_function(x,y,a):\n",
    "    print(f\"x={x}, y={y}, a={a}\", \"\\x1b[31mMismatch\\x1b[0m\" if (a * y) <= 0 else \"OK\")\n",
    "tron.predict_only(X,Y,weights, bias,debug_function)\n"
   ]
  },
  {
   "cell_type": "markdown",
   "id": "d3028d7b-5975-496d-9611-07fe7e6faba0",
   "metadata": {},
   "source": [
    "# Poorly trained perceptron\n",
    "Lets train the perceptron to perform poorly be training it very little. You should see some prediction errors\n"
   ]
  },
  {
   "cell_type": "code",
   "execution_count": 93,
   "id": "0c2bad83-b60d-4383-a613-3f81585f92bc",
   "metadata": {},
   "outputs": [
    {
     "data": {
      "text/html": [
       "<img src=\"https://mermaid.ink/img/CmZsb3djaGFydCBMUgogICAgc3ViZ3JhcGggSW5wdXRzWyJJbnB1dHMiXQogICAgICAgIEExWyIkJCB4XzEkJCJdCiAgICAgICAgQTJbIiQkIHhfMiQkIl0KICAgICAgICBBRE9UWyIuLiJdCiAgICAgICAgQU5bIiQkIHhfbiQkIl0KICAgIGVuZAogICAgc3ViZ3JhcGggc3ViR3JhcGgxWyJXZWlnaHRzIl0KICAgICAgICB3MSgoIiQkIHdfMSAkJCIpKQogICAgICAgIHcyKCgiJCQgd18yICQkIikpCiAgICAgICAgd0RPVFsiLi4iXQogICAgICAgIHdOKCgiJCQgd19uICQkIikpCiAgICBlbmQKICAgIEN7IiQkIHogPSBcc3VtX3tpPTF9Xm4geF9pIHdfaSArIGIgJCQifQogICAgeVsib3V0cHV0Il0KICAgIHN0ZXBbIiQkXHBoaSh6KSBcdGV4dHtcICdzdGVwIGZ1bmN0aW9uJ30kJCJdCgogICAgJSUgQ29tbWVudHMgYWZ0ZXIgZG91YmxlIHBlcmNlbnQgc2lnbnMKICAgIEExIC0tPiB3MSAKICAgIHcxLS0+IEMKICAgIEEyIC0tPiB3MgogICAgdzIgLS0+IEMKICAgIEFET1QgLS0+IHdET1QKICAgIHdET1QgLS0+IEMKICAgIEFOIC0tPiB3TgogICAgd04gLS0+IEMKICAgIEMgLS0+IHN0ZXAKICAgIHN0ZXAgPT0+IHkK\"/>"
      ],
      "text/plain": [
       "<IPython.core.display.Image object>"
      ]
     },
     "metadata": {},
     "output_type": "display_data"
    }
   ],
   "source": [
    "#Perceptron algorithm Diagram \n",
    "\n",
    "from mm_include import mermaid\n",
    "mm(\"\"\"\n",
    "flowchart LR\n",
    "    subgraph Inputs[\"Inputs\"]\n",
    "        A1[\"$$ x_1$$\"]\n",
    "        A2[\"$$ x_2$$\"]\n",
    "        ADOT[\"..\"]\n",
    "        AN[\"$$ x_n$$\"]\n",
    "    end\n",
    "    subgraph subGraph1[\"Weights\"]\n",
    "        w1((\"$$ w_1 $$\"))\n",
    "        w2((\"$$ w_2 $$\"))\n",
    "        wDOT[\"..\"]\n",
    "        wN((\"$$ w_n $$\"))\n",
    "    end\n",
    "    C{\"$$ z = \\sum_{i=1}^n x_i w_i + b $$\"}\n",
    "    y[\"output\"]\n",
    "    step[\"$$\\phi(z) \\\\text{\\ 'step function'}$$\"]\n",
    "\n",
    "    %% Comments after double percent signs\n",
    "    A1 --> w1 \n",
    "    w1--> C\n",
    "    A2 --> w2\n",
    "    w2 --> C\n",
    "    ADOT --> wDOT\n",
    "    wDOT --> C\n",
    "    AN --> wN\n",
    "    wN --> C\n",
    "    C --> step\n",
    "    step ==> y\n",
    "\"\"\")"
   ]
  }
 ],
 "metadata": {
  "kernelspec": {
   "display_name": "Python 3 (ipykernel)",
   "language": "python",
   "name": "python3"
  },
  "language_info": {
   "codemirror_mode": {
    "name": "ipython",
    "version": 3
   },
   "file_extension": ".py",
   "mimetype": "text/x-python",
   "name": "python",
   "nbconvert_exporter": "python",
   "pygments_lexer": "ipython3",
   "version": "3.10.4"
  }
 },
 "nbformat": 4,
 "nbformat_minor": 5
}
