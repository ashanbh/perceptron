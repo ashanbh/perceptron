{
 "cells": [
  {
   "cell_type": "markdown",
   "id": "8dd60b0e-2e2d-42e2-a611-3cc660328baa",
   "metadata": {},
   "source": [
    "## Overview\n",
    "This notebook is a continuation of the simple peceptron\n",
    "*  We will <mark>increase the number of inputs from 2 to 64</mark>.\n",
    "*  So that <mark>each input is learning on a specific pixel</mark> in the card\n",
    "*  We will train the perceptron on a deck of cards.\n",
    "*  Some of the cards are vertically partitioned. Some are horizontally partitioned.\n",
    "*  Perceptron should be <mark>learn to distinguish between horizontal and vertical cards</mark>. \n",
    "\n",
    "## The Data\n",
    "* Each card is generated as a 8x8 matrix. \n",
    "* At some random horizontal offset, or vertical offset, the card will only output positive values.\n",
    "* Positive output is shows in green, negative in red.\n",
    "\n",
    "<img src=\"../static/h1.png\" alt=\"Card\" style=\"width: 200px;\">\n",
    "\n",
    "## The Deck\n",
    "We generate multiple cards to create a deck of cards. \n",
    "\n",
    "<img src=\"../static/h1.png\" alt=\"Card\" style=\"width: 150px;\"><img src=\"../static/h2.png\" alt=\"Card\" style=\"width: 150px;\">\n",
    "<img src=\"../static/v1.png\" alt=\"Card\" style=\"width: 150px;\"><img src=\"../static/v2.png\" alt=\"Card\" style=\"width: 150px;\">\n",
    "\n",
    "### Input Vector\n",
    "For training purposes, the inputs are stored as an array of N cards. \n",
    "* Each card has 64 values - that are fed to the 64 inputs in the perceptron\n",
    "* I.e. Each card is a 64-element array with values of 1 or -1.\n",
    "\n",
    "E.g. here the input will be represented as\n",
    "\n",
    "``` python\n",
    "    X = [card_0, .., card_N]\n",
    "    #each card is an array of 63 elements\n",
    "    card_i =  [-1,1,-1..,-1]\n",
    "```\n",
    "\n",
    "![Input X contains N cards - each card looks like this.](../static/serialized-y.png)\n",
    "\n",
    "### Output Vector\n",
    "The outputs are correspondingly stored in a one dimensional array of N elements (representing N cards)\n",
    "* Every value is `1` or `-1`\n",
    "* `1` = Horizontal layout\n",
    "*  `-1` = vertical layout \n",
    "\n",
    "``` python      \n",
    "    Y = [ -1,     1,     1,     -1,   .... 1]             \n",
    "```\n"
   ]
  },
  {
   "cell_type": "code",
   "execution_count": 1,
   "id": "bca1a2e3-1851-47e4-9568-aebb37698038",
   "metadata": {},
   "outputs": [],
   "source": [
    "import numpy as np\n",
    "import copy\n",
    "import numpy as np\n",
    "from matplotlib import pyplot as plt\n",
    "import random\n",
    "%matplotlib inline"
   ]
  },
  {
   "cell_type": "markdown",
   "id": "957e1d56-0d68-436e-a940-f89bdf212b7f",
   "metadata": {},
   "source": [
    "## Generate a deck of cards.\n",
    "    * Some cards will be horizontal, some vertical\n",
    "    * Furthermore the horizontal and vertical boundaries will be randomly between 10% and 90% of the length of the card"
   ]
  },
  {
   "cell_type": "code",
   "execution_count": 2,
   "id": "b441a55e-5d4c-4571-a350-5f6a272864cd",
   "metadata": {},
   "outputs": [],
   "source": [
    "#generate a training card with a rectangular section marked positive \n",
    "def training_card(size=8, horizontal_partition = True, vertical_partition = True):\n",
    "    #horizontal cards are positive, vertical cards are negative \n",
    "    horizontal_partition = bool(round(random.uniform(0,1)))\n",
    "    vertical_partition = not horizontal_partition\n",
    "    y = 1 if horizontal_partition else -1\n",
    "    Y = np.zeros(size*size)    \n",
    "    s = 0\n",
    "    t_y = random.uniform(size/10,9*size/10) if horizontal_partition else -1\n",
    "    t_x = random.uniform(size/10,9*size/10) if vertical_partition else -1  \n",
    "    for i in range (0,size):    \n",
    "        for j in range (0,size):\n",
    "            Y[s]= 1 if (j> t_y and i>t_x) else -1\n",
    "            s+=1\n",
    "    return (Y,y)            \n",
    "        "
   ]
  },
  {
   "cell_type": "code",
   "execution_count": 7,
   "id": "4a9db5cb-7fbd-462f-8243-cffe9ba570b9",
   "metadata": {},
   "outputs": [],
   "source": [
    "##\n",
    "## debug and printing functions\n",
    "##\n",
    "\n",
    "def draw_card(Y,size=8):\n",
    "    plt.figure(figsize=(1,1))   \n",
    "    s =0\n",
    "    for i in range (0,size):    \n",
    "        for j in range (0,size):\n",
    "            # Plot the positive samples            \n",
    "            if Y[s] > 0:\n",
    "                plt.scatter(i, j, s=50, marker='s', color='green',linewidths=2)\n",
    "            # Plot the negative samples\n",
    "            else:\n",
    "                plt.scatter(i, j, s=50, marker='s', color='red', linewidths=2)\n",
    "            s += 1     \n",
    "    plt.show()\n",
    "\n",
    "# print training weights\n",
    "def debug_training_weights(weights, bias, convergence):\n",
    "    ##\n",
    "    # Try changing the number of epochs. Lower epochs are usually better. \n",
    "    ##\n",
    "    if convergence:\n",
    "        print(f\"CONVERGENCE! Perceptron converged in  (epoch:{convergence})\\n\")\n",
    "    else: \n",
    "        print(f\"Perceptron failed to converge\\n\")\n",
    "    #print(f\"Weights => {weights}, bias={bias}\\n{'-'*40}\\n\\n\")\n",
    "\n",
    "def debug_function(x,y,a):\n",
    "    #if (a * y) <= 0:\n",
    "        draw_card(x)\n",
    "        print(f\"Actual={'Horizontal' if y>0 else 'Vertical'} ({y}), Predicted={'Horizontal' if a>0 else 'Vertical'}({a})\", \"\\x1b[31mMismatch\\x1b[0m\" if (a * y) <= 0 else \"OK\")\n",
    "\n"
   ]
  },
  {
   "cell_type": "markdown",
   "id": "3cfff446-00c0-4b53-b4e0-c2ac3ab82151",
   "metadata": {},
   "source": [
    "#### Perceptron Algorithm\n",
    "\n",
    "$$ \n",
    "    z = \\sum_{i=1}^n x_i w_i + b \n",
    "$$\n",
    "\n",
    "$$ \n",
    "    output = \\begin{cases}\n",
    "        1 & \\text{if }\\ z > T \\text{\\, where T is some threshold }\n",
    "        \\\\-1 & \\text{otherwise}\n",
    "        \\end{cases}\n",
    "$$\n",
    "#### Learning \n",
    "We adjust the weight to reduce the error\n",
    "$$\n",
    "    \\text{if } y*a \\leq 0 \\text{ then }\n",
    "    \\bigg|\\begin{multline}\n",
    "    \\begin{aligned}\n",
    "    w_i &= w_i + y x_i \\text{ for i  = 1,2,3,..,n} \\\\\n",
    "    b &= b + y\n",
    "    \\end{aligned}\n",
    "    \\end{multline}\n",
    "$$"
   ]
  },
  {
   "cell_type": "code",
   "execution_count": 8,
   "id": "71deb6b3-074e-46f9-9688-e5ad40ad73a9",
   "metadata": {},
   "outputs": [
    {
     "name": "stdout",
     "output_type": "stream",
     "text": [
      "CONVERGENCE! Perceptron converged in  (epoch:2)\n",
      "\n"
     ]
    },
    {
     "data": {
      "image/png": "[encoded data removed]",
      "text/plain": [
       "<Figure size 100x100 with 1 Axes>"
      ]
     },
     "metadata": {},
     "output_type": "display_data"
    },
    {
     "name": "stdout",
     "output_type": "stream",
     "text": [
      "Actual=Vertical (-1), Predicted=Vertical(-49.0) OK\n"
     ]
    },
    {
     "data": {
      "image/png": "[encoded data removed]",
      "text/plain": [
       "<Figure size 100x100 with 1 Axes>"
      ]
     },
     "metadata": {},
     "output_type": "display_data"
    },
    {
     "name": "stdout",
     "output_type": "stream",
     "text": [
      "Actual=Vertical (-1), Predicted=Vertical(-49.0) OK\n"
     ]
    },
    {
     "data": {
      "image/png": "[encoded data removed]",
      "text/plain": [
       "<Figure size 100x100 with 1 Axes>"
      ]
     },
     "metadata": {},
     "output_type": "display_data"
    },
    {
     "name": "stdout",
     "output_type": "stream",
     "text": [
      "Actual=Vertical (-1), Predicted=Vertical(-49.0) OK\n",
      "Prediction Errors:0\n",
      "CONVERGENCE! Perceptron converged in  (epoch:1)\n",
      "\n"
     ]
    },
    {
     "data": {
      "image/png": "[encoded data removed]",
      "text/plain": [
       "<Figure size 100x100 with 1 Axes>"
      ]
     },
     "metadata": {},
     "output_type": "display_data"
    },
    {
     "name": "stdout",
     "output_type": "stream",
     "text": [
      "Actual=Vertical (-1), Predicted=Vertical(-49.0) OK\n"
     ]
    },
    {
     "data": {
      "image/png": "[encoded data removed]",
      "text/plain": [
       "<Figure size 100x100 with 1 Axes>"
      ]
     },
     "metadata": {},
     "output_type": "display_data"
    },
    {
     "name": "stdout",
     "output_type": "stream",
     "text": [
      "Actual=Horizontal (1), Predicted=Horizontal(39.0) OK\n"
     ]
    },
    {
     "data": {
      "image/png": "[encoded data removed]",
      "text/plain": [
       "<Figure size 100x100 with 1 Axes>"
      ]
     },
     "metadata": {},
     "output_type": "display_data"
    },
    {
     "name": "stdout",
     "output_type": "stream",
     "text": [
      "Actual=Horizontal (1), Predicted=Horizontal(63.0) OK\n",
      "Prediction Errors:0\n",
      "CONVERGENCE! Perceptron converged in  (epoch:1)\n",
      "\n"
     ]
    },
    {
     "data": {
      "image/png": "[encoded data removed]",
      "text/plain": [
       "<Figure size 100x100 with 1 Axes>"
      ]
     },
     "metadata": {},
     "output_type": "display_data"
    },
    {
     "name": "stdout",
     "output_type": "stream",
     "text": [
      "Actual=Horizontal (1), Predicted=Horizontal(39.0) OK\n"
     ]
    },
    {
     "data": {
      "image/png": "[encoded data removed]",
      "text/plain": [
       "<Figure size 100x100 with 1 Axes>"
      ]
     },
     "metadata": {},
     "output_type": "display_data"
    },
    {
     "name": "stdout",
     "output_type": "stream",
     "text": [
      "Actual=Horizontal (1), Predicted=Horizontal(3.0) OK\n"
     ]
    },
    {
     "data": {
      "image/png": "[encoded data removed]",
      "text/plain": [
       "<Figure size 100x100 with 1 Axes>"
      ]
     },
     "metadata": {},
     "output_type": "display_data"
    },
    {
     "name": "stdout",
     "output_type": "stream",
     "text": [
      "Actual=Vertical (-1), Predicted=Vertical(-49.0) OK\n",
      "Prediction Errors:0\n",
      "CONVERGENCE! Perceptron converged in  (epoch:1)\n",
      "\n"
     ]
    },
    {
     "data": {
      "image/png": "[encoded data removed]",
      "text/plain": [
       "<Figure size 100x100 with 1 Axes>"
      ]
     },
     "metadata": {},
     "output_type": "display_data"
    },
    {
     "name": "stdout",
     "output_type": "stream",
     "text": [
      "Actual=Vertical (-1), Predicted=Vertical(-49.0) OK\n"
     ]
    },
    {
     "data": {
      "image/png": "[encoded data removed]",
      "text/plain": [
       "<Figure size 100x100 with 1 Axes>"
      ]
     },
     "metadata": {},
     "output_type": "display_data"
    },
    {
     "name": "stdout",
     "output_type": "stream",
     "text": [
      "Actual=Horizontal (1), Predicted=Horizontal(43.0) OK\n"
     ]
    },
    {
     "data": {
      "image/png": "[encoded data removed]",
      "text/plain": [
       "<Figure size 100x100 with 1 Axes>"
      ]
     },
     "metadata": {},
     "output_type": "display_data"
    },
    {
     "name": "stdout",
     "output_type": "stream",
     "text": [
      "Actual=Horizontal (1), Predicted=Horizontal(3.0) OK\n",
      "Prediction Errors:0\n",
      "CONVERGENCE! Perceptron converged in  (epoch:1)\n",
      "\n"
     ]
    },
    {
     "data": {
      "image/png": "[encoded data removed]",
      "text/plain": [
       "<Figure size 100x100 with 1 Axes>"
      ]
     },
     "metadata": {},
     "output_type": "display_data"
    },
    {
     "name": "stdout",
     "output_type": "stream",
     "text": [
      "Actual=Horizontal (1), Predicted=Horizontal(27.0) OK\n"
     ]
    },
    {
     "data": {
      "image/png": "[encoded data removed]",
      "text/plain": [
       "<Figure size 100x100 with 1 Axes>"
      ]
     },
     "metadata": {},
     "output_type": "display_data"
    },
    {
     "name": "stdout",
     "output_type": "stream",
     "text": [
      "Actual=Horizontal (1), Predicted=Horizontal(3.0) OK\n"
     ]
    },
    {
     "data": {
      "image/png": "[encoded data removed]",
      "text/plain": [
       "<Figure size 100x100 with 1 Axes>"
      ]
     },
     "metadata": {},
     "output_type": "display_data"
    },
    {
     "name": "stdout",
     "output_type": "stream",
     "text": [
      "Actual=Horizontal (1), Predicted=Horizontal(23.0) OK\n",
      "Prediction Errors:0\n",
      "CONVERGENCE! Perceptron converged in  (epoch:1)\n",
      "\n"
     ]
    },
    {
     "data": {
      "image/png": "[encoded data removed]",
      "text/plain": [
       "<Figure size 100x100 with 1 Axes>"
      ]
     },
     "metadata": {},
     "output_type": "display_data"
    },
    {
     "name": "stdout",
     "output_type": "stream",
     "text": [
      "Actual=Horizontal (1), Predicted=Horizontal(23.0) OK\n"
     ]
    },
    {
     "data": {
      "image/png": "[encoded data removed]",
      "text/plain": [
       "<Figure size 100x100 with 1 Axes>"
      ]
     },
     "metadata": {},
     "output_type": "display_data"
    },
    {
     "name": "stdout",
     "output_type": "stream",
     "text": [
      "Actual=Horizontal (1), Predicted=Horizontal(51.0) OK\n"
     ]
    },
    {
     "data": {
      "image/png": "[encoded data removed]",
      "text/plain": [
       "<Figure size 100x100 with 1 Axes>"
      ]
     },
     "metadata": {},
     "output_type": "display_data"
    },
    {
     "name": "stdout",
     "output_type": "stream",
     "text": [
      "Actual=Horizontal (1), Predicted=Horizontal(23.0) OK\n",
      "Prediction Errors:0\n",
      "CONVERGENCE! Perceptron converged in  (epoch:1)\n",
      "\n"
     ]
    },
    {
     "data": {
      "image/png": "[encoded data removed]",
      "text/plain": [
       "<Figure size 100x100 with 1 Axes>"
      ]
     },
     "metadata": {},
     "output_type": "display_data"
    },
    {
     "name": "stdout",
     "output_type": "stream",
     "text": [
      "Actual=Horizontal (1), Predicted=Horizontal(3.0) OK\n"
     ]
    },
    {
     "data": {
      "image/png": "[encoded data removed]",
      "text/plain": [
       "<Figure size 100x100 with 1 Axes>"
      ]
     },
     "metadata": {},
     "output_type": "display_data"
    },
    {
     "name": "stdout",
     "output_type": "stream",
     "text": [
      "Actual=Horizontal (1), Predicted=Horizontal(23.0) OK\n"
     ]
    },
    {
     "data": {
      "image/png": "[encoded data removed]",
      "text/plain": [
       "<Figure size 100x100 with 1 Axes>"
      ]
     },
     "metadata": {},
     "output_type": "display_data"
    },
    {
     "name": "stdout",
     "output_type": "stream",
     "text": [
      "Actual=Vertical (-1), Predicted=Vertical(-49.0) OK\n",
      "Prediction Errors:0\n",
      "CONVERGENCE! Perceptron converged in  (epoch:1)\n",
      "\n"
     ]
    },
    {
     "data": {
      "image/png": "[encoded data removed]",
      "text/plain": [
       "<Figure size 100x100 with 1 Axes>"
      ]
     },
     "metadata": {},
     "output_type": "display_data"
    },
    {
     "name": "stdout",
     "output_type": "stream",
     "text": [
      "Actual=Horizontal (1), Predicted=Horizontal(63.0) OK\n"
     ]
    },
    {
     "data": {
      "image/png": "[encoded data removed]",
      "text/plain": [
       "<Figure size 100x100 with 1 Axes>"
      ]
     },
     "metadata": {},
     "output_type": "display_data"
    },
    {
     "name": "stdout",
     "output_type": "stream",
     "text": [
      "Actual=Vertical (-1), Predicted=Vertical(-49.0) OK\n"
     ]
    },
    {
     "data": {
      "image/png": "[encoded data removed]",
      "text/plain": [
       "<Figure size 100x100 with 1 Axes>"
      ]
     },
     "metadata": {},
     "output_type": "display_data"
    },
    {
     "name": "stdout",
     "output_type": "stream",
     "text": [
      "Actual=Horizontal (1), Predicted=Horizontal(3.0) OK\n",
      "Prediction Errors:0\n",
      "CONVERGENCE! Perceptron converged in  (epoch:1)\n",
      "\n"
     ]
    },
    {
     "data": {
      "image/png": "[encoded data removed]",
      "text/plain": [
       "<Figure size 100x100 with 1 Axes>"
      ]
     },
     "metadata": {},
     "output_type": "display_data"
    },
    {
     "name": "stdout",
     "output_type": "stream",
     "text": [
      "Actual=Vertical (-1), Predicted=Vertical(-49.0) OK\n"
     ]
    },
    {
     "data": {
      "image/png": "[encoded data removed]",
      "text/plain": [
       "<Figure size 100x100 with 1 Axes>"
      ]
     },
     "metadata": {},
     "output_type": "display_data"
    },
    {
     "name": "stdout",
     "output_type": "stream",
     "text": [
      "Actual=Horizontal (1), Predicted=Horizontal(63.0) OK\n"
     ]
    },
    {
     "data": {
      "image/png": "[encoded data removed]",
      "text/plain": [
       "<Figure size 100x100 with 1 Axes>"
      ]
     },
     "metadata": {},
     "output_type": "display_data"
    },
    {
     "name": "stdout",
     "output_type": "stream",
     "text": [
      "Actual=Horizontal (1), Predicted=Horizontal(63.0) OK\n",
      "Prediction Errors:0\n",
      "CONVERGENCE! Perceptron converged in  (epoch:1)\n",
      "\n"
     ]
    },
    {
     "data": {
      "image/png": "[encoded data removed]",
      "text/plain": [
       "<Figure size 100x100 with 1 Axes>"
      ]
     },
     "metadata": {},
     "output_type": "display_data"
    },
    {
     "name": "stdout",
     "output_type": "stream",
     "text": [
      "Actual=Vertical (-1), Predicted=Vertical(-49.0) OK\n"
     ]
    },
    {
     "data": {
      "image/png": "[encoded data removed]",
      "text/plain": [
       "<Figure size 100x100 with 1 Axes>"
      ]
     },
     "metadata": {},
     "output_type": "display_data"
    },
    {
     "name": "stdout",
     "output_type": "stream",
     "text": [
      "Actual=Vertical (-1), Predicted=Vertical(-49.0) OK\n"
     ]
    },
    {
     "data": {
      "image/png": "[encoded data removed]",
      "text/plain": [
       "<Figure size 100x100 with 1 Axes>"
      ]
     },
     "metadata": {},
     "output_type": "display_data"
    },
    {
     "name": "stdout",
     "output_type": "stream",
     "text": [
      "Actual=Horizontal (1), Predicted=Horizontal(63.0) OK\n",
      "Prediction Errors:0\n",
      "CONVERGENCE! Perceptron converged in  (epoch:1)\n",
      "\n"
     ]
    },
    {
     "data": {
      "image/png": "[encoded data removed]",
      "text/plain": [
       "<Figure size 100x100 with 1 Axes>"
      ]
     },
     "metadata": {},
     "output_type": "display_data"
    },
    {
     "name": "stdout",
     "output_type": "stream",
     "text": [
      "Actual=Horizontal (1), Predicted=Vertical(-17.0) \u001b[31mMismatch\u001b[0m\n"
     ]
    },
    {
     "data": {
      "image/png": "[encoded data removed]",
      "text/plain": [
       "<Figure size 100x100 with 1 Axes>"
      ]
     },
     "metadata": {},
     "output_type": "display_data"
    },
    {
     "name": "stdout",
     "output_type": "stream",
     "text": [
      "Actual=Vertical (-1), Predicted=Vertical(-49.0) OK\n"
     ]
    },
    {
     "data": {
      "image/png": "[encoded data removed]",
      "text/plain": [
       "<Figure size 100x100 with 1 Axes>"
      ]
     },
     "metadata": {},
     "output_type": "display_data"
    },
    {
     "name": "stdout",
     "output_type": "stream",
     "text": [
      "Actual=Vertical (-1), Predicted=Vertical(-49.0) OK\n",
      "Prediction Errors:1\n",
      "CONVERGENCE! Perceptron converged in  (epoch:3)\n",
      "\n"
     ]
    },
    {
     "data": {
      "image/png": "[encoded data removed]",
      "text/plain": [
       "<Figure size 100x100 with 1 Axes>"
      ]
     },
     "metadata": {},
     "output_type": "display_data"
    },
    {
     "name": "stdout",
     "output_type": "stream",
     "text": [
      "Actual=Vertical (-1), Predicted=Vertical(-32.0) OK\n"
     ]
    },
    {
     "data": {
      "image/png": "[encoded data removed]",
      "text/plain": [
       "<Figure size 100x100 with 1 Axes>"
      ]
     },
     "metadata": {},
     "output_type": "display_data"
    },
    {
     "name": "stdout",
     "output_type": "stream",
     "text": [
      "Actual=Vertical (-1), Predicted=Vertical(-16.0) OK\n"
     ]
    },
    {
     "data": {
      "image/png": "[encoded data removed]",
      "text/plain": [
       "<Figure size 100x100 with 1 Axes>"
      ]
     },
     "metadata": {},
     "output_type": "display_data"
    },
    {
     "name": "stdout",
     "output_type": "stream",
     "text": [
      "Actual=Vertical (-1), Predicted=Vertical(-48.0) OK\n",
      "Prediction Errors:0\n",
      "CONVERGENCE! Perceptron converged in  (epoch:1)\n",
      "\n"
     ]
    },
    {
     "data": {
      "image/png": "[encoded data removed]",
      "text/plain": [
       "<Figure size 100x100 with 1 Axes>"
      ]
     },
     "metadata": {},
     "output_type": "display_data"
    },
    {
     "name": "stdout",
     "output_type": "stream",
     "text": [
      "Actual=Horizontal (1), Predicted=Horizontal(64.0) OK\n"
     ]
    },
    {
     "data": {
      "image/png": "[encoded data removed]",
      "text/plain": [
       "<Figure size 100x100 with 1 Axes>"
      ]
     },
     "metadata": {},
     "output_type": "display_data"
    },
    {
     "name": "stdout",
     "output_type": "stream",
     "text": [
      "Actual=Vertical (-1), Predicted=Vertical(-32.0) OK\n"
     ]
    },
    {
     "data": {
      "image/png": "[encoded data removed]",
      "text/plain": [
       "<Figure size 100x100 with 1 Axes>"
      ]
     },
     "metadata": {},
     "output_type": "display_data"
    },
    {
     "name": "stdout",
     "output_type": "stream",
     "text": [
      "Actual=Vertical (-1), Predicted=Vertical(-32.0) OK\n",
      "Prediction Errors:0\n",
      "CONVERGENCE! Perceptron converged in  (epoch:1)\n",
      "\n"
     ]
    },
    {
     "data": {
      "image/png": "[encoded data removed]",
      "text/plain": [
       "<Figure size 100x100 with 1 Axes>"
      ]
     },
     "metadata": {},
     "output_type": "display_data"
    },
    {
     "name": "stdout",
     "output_type": "stream",
     "text": [
      "Actual=Vertical (-1), Predicted=Vertical(-96.0) OK\n"
     ]
    },
    {
     "data": {
      "image/png": "[encoded data removed]",
      "text/plain": [
       "<Figure size 100x100 with 1 Axes>"
      ]
     },
     "metadata": {},
     "output_type": "display_data"
    },
    {
     "name": "stdout",
     "output_type": "stream",
     "text": [
      "Actual=Horizontal (1), Predicted=Vertical(0.0) \u001b[31mMismatch\u001b[0m\n"
     ]
    },
    {
     "data": {
      "image/png": "[encoded data removed]",
      "text/plain": [
       "<Figure size 100x100 with 1 Axes>"
      ]
     },
     "metadata": {},
     "output_type": "display_data"
    },
    {
     "name": "stdout",
     "output_type": "stream",
     "text": [
      "Actual=Vertical (-1), Predicted=Vertical(-32.0) OK\n",
      "Prediction Errors:1\n",
      "CONVERGENCE! Perceptron converged in  (epoch:2)\n",
      "\n"
     ]
    },
    {
     "data": {
      "image/png": "[encoded data removed]",
      "text/plain": [
       "<Figure size 100x100 with 1 Axes>"
      ]
     },
     "metadata": {},
     "output_type": "display_data"
    },
    {
     "name": "stdout",
     "output_type": "stream",
     "text": [
      "Actual=Horizontal (1), Predicted=Horizontal(81.0) OK\n"
     ]
    },
    {
     "data": {
      "image/png": "[encoded data removed]",
      "text/plain": [
       "<Figure size 100x100 with 1 Axes>"
      ]
     },
     "metadata": {},
     "output_type": "display_data"
    },
    {
     "name": "stdout",
     "output_type": "stream",
     "text": [
      "Actual=Vertical (-1), Predicted=Vertical(-47.0) OK\n"
     ]
    },
    {
     "data": {
      "image/png": "[encoded data removed]",
      "text/plain": [
       "<Figure size 100x100 with 1 Axes>"
      ]
     },
     "metadata": {},
     "output_type": "display_data"
    },
    {
     "name": "stdout",
     "output_type": "stream",
     "text": [
      "Actual=Horizontal (1), Predicted=Horizontal(97.0) OK\n",
      "Prediction Errors:0\n",
      "CONVERGENCE! Perceptron converged in  (epoch:1)\n",
      "\n"
     ]
    },
    {
     "data": {
      "image/png": "[encoded data removed]",
      "text/plain": [
       "<Figure size 100x100 with 1 Axes>"
      ]
     },
     "metadata": {},
     "output_type": "display_data"
    },
    {
     "name": "stdout",
     "output_type": "stream",
     "text": [
      "Actual=Horizontal (1), Predicted=Horizontal(49.0) OK\n"
     ]
    },
    {
     "data": {
      "image/png": "[encoded data removed]",
      "text/plain": [
       "<Figure size 100x100 with 1 Axes>"
      ]
     },
     "metadata": {},
     "output_type": "display_data"
    },
    {
     "name": "stdout",
     "output_type": "stream",
     "text": [
      "Actual=Horizontal (1), Predicted=Horizontal(81.0) OK\n"
     ]
    },
    {
     "data": {
      "image/png": "[encoded data removed]",
      "text/plain": [
       "<Figure size 100x100 with 1 Axes>"
      ]
     },
     "metadata": {},
     "output_type": "display_data"
    },
    {
     "name": "stdout",
     "output_type": "stream",
     "text": [
      "Actual=Vertical (-1), Predicted=Vertical(-55.0) OK\n",
      "Prediction Errors:0\n",
      "CONVERGENCE! Perceptron converged in  (epoch:1)\n",
      "\n"
     ]
    },
    {
     "data": {
      "image/png": "[encoded data removed]",
      "text/plain": [
       "<Figure size 100x100 with 1 Axes>"
      ]
     },
     "metadata": {},
     "output_type": "display_data"
    },
    {
     "name": "stdout",
     "output_type": "stream",
     "text": [
      "Actual=Horizontal (1), Predicted=Horizontal(81.0) OK\n"
     ]
    },
    {
     "data": {
      "image/png": "[encoded data removed]",
      "text/plain": [
       "<Figure size 100x100 with 1 Axes>"
      ]
     },
     "metadata": {},
     "output_type": "display_data"
    },
    {
     "name": "stdout",
     "output_type": "stream",
     "text": [
      "Actual=Horizontal (1), Predicted=Horizontal(65.0) OK\n"
     ]
    },
    {
     "data": {
      "image/png": "[encoded data removed]",
      "text/plain": [
       "<Figure size 100x100 with 1 Axes>"
      ]
     },
     "metadata": {},
     "output_type": "display_data"
    },
    {
     "name": "stdout",
     "output_type": "stream",
     "text": [
      "Actual=Vertical (-1), Predicted=Vertical(-55.0) OK\n",
      "Prediction Errors:0\n",
      "CONVERGENCE! Perceptron converged in  (epoch:1)\n",
      "\n"
     ]
    },
    {
     "data": {
      "image/png": "[encoded data removed]",
      "text/plain": [
       "<Figure size 100x100 with 1 Axes>"
      ]
     },
     "metadata": {},
     "output_type": "display_data"
    },
    {
     "name": "stdout",
     "output_type": "stream",
     "text": [
      "Actual=Vertical (-1), Predicted=Vertical(-71.0) OK\n"
     ]
    },
    {
     "data": {
      "image/png": "[encoded data removed]",
      "text/plain": [
       "<Figure size 100x100 with 1 Axes>"
      ]
     },
     "metadata": {},
     "output_type": "display_data"
    },
    {
     "name": "stdout",
     "output_type": "stream",
     "text": [
      "Actual=Vertical (-1), Predicted=Vertical(-55.0) OK\n"
     ]
    },
    {
     "data": {
      "image/png": "[encoded data removed]",
      "text/plain": [
       "<Figure size 100x100 with 1 Axes>"
      ]
     },
     "metadata": {},
     "output_type": "display_data"
    },
    {
     "name": "stdout",
     "output_type": "stream",
     "text": [
      "Actual=Vertical (-1), Predicted=Vertical(-47.0) OK\n",
      "Prediction Errors:0\n",
      "CONVERGENCE! Perceptron converged in  (epoch:1)\n",
      "\n"
     ]
    },
    {
     "data": {
      "image/png": "[encoded data removed]",
      "text/plain": [
       "<Figure size 100x100 with 1 Axes>"
      ]
     },
     "metadata": {},
     "output_type": "display_data"
    },
    {
     "name": "stdout",
     "output_type": "stream",
     "text": [
      "Actual=Vertical (-1), Predicted=Vertical(-47.0) OK\n"
     ]
    },
    {
     "data": {
      "image/png": "[encoded data removed]",
      "text/plain": [
       "<Figure size 100x100 with 1 Axes>"
      ]
     },
     "metadata": {},
     "output_type": "display_data"
    },
    {
     "name": "stdout",
     "output_type": "stream",
     "text": [
      "Actual=Horizontal (1), Predicted=Horizontal(49.0) OK\n"
     ]
    },
    {
     "data": {
      "image/png": "[encoded data removed]",
      "text/plain": [
       "<Figure size 100x100 with 1 Axes>"
      ]
     },
     "metadata": {},
     "output_type": "display_data"
    },
    {
     "name": "stdout",
     "output_type": "stream",
     "text": [
      "Actual=Horizontal (1), Predicted=Horizontal(49.0) OK\n",
      "Prediction Errors:0\n",
      "CONVERGENCE! Perceptron converged in  (epoch:1)\n",
      "\n"
     ]
    }
   ],
   "source": [
    "import sys, site\n",
    "sys.path.insert(0,\"..\") \n",
    "from perceptron import perceptron as tron\n",
    "\n",
    "\n",
    "#generate 10 cards and train to detect horizontal partitions     \n",
    "size = 8\n",
    "num_cards = 3\n",
    "num_decks = 20\n",
    "\n",
    "#initialize weights\n",
    "weights = []\n",
    "bias = None\n",
    "prediction_errors=[1]\n",
    "\n",
    "for decks in range (0,num_decks):\n",
    "    #store a new deck of cards in X and Y\n",
    "    X_64 = []\n",
    "    Y_64= []\n",
    "    for c in range (0,num_cards):\n",
    "        (X,y) = training_card(size=size)      \n",
    "        #print(f\"X={X},\\nY={y}\")\n",
    "        #draw_card(X)\n",
    "        X_64.append(X)\n",
    "        Y_64.append(y)\n",
    "\n",
    "    if not len(weights):\n",
    "        #init\n",
    "        weights = np.zeros(size*size)\n",
    "        bias = 0\n",
    "    else:\n",
    "        #use the previous weights to predict this deck. How well did you do?\n",
    "        p = tron.predict_only(X_64,Y_64,weights, bias,debug_function=debug_function )\n",
    "        prediction_errors.append(p/num_cards)\n",
    "\n",
    "    (weights,bias,convergence) = tron.perceptron(X_64,Y_64, weights, bias, epochs=50)\n",
    "    debug_training_weights(weights, bias, convergence)     \n"
   ]
  },
  {
   "cell_type": "code",
   "execution_count": 5,
   "id": "eb3b571b-bef5-4b13-86b9-4b86411a602d",
   "metadata": {},
   "outputs": [
    {
     "data": {
      "text/html": [
       "<img src=\"https://mermaid.ink/img/CiB4eWNoYXJ0LWJldGEKICAgIHRpdGxlICJQZXJjZXB0cm9uIEVycm9yIFJhdGUiCiAgICB4LWF4aXMgIk51bWJlciBvZiBEZWNrcyIgWzEsIDIsIDMsIDQsIDUsIDYsIDcsIDgsIDksIDEwLCAxMSwgMTIsIDEzLCAxNCwgMTUsIDE2LCAxNywgMTgsIDE5XQogICAgeS1heGlzICJQcmVkaWN0aW9uIEVycm9yIiAwIC0tPiAxICAgIAogICAgYmFyIFsxLCAwLjMzMzMzMzMzMzMzMzMzMzMsIDAuMzMzMzMzMzMzMzMzMzMzMywgMC4wLCAwLjAsIDAuMCwgMC4wLCAwLjAsIDAuMCwgMC4wLCAwLjAsIDAuMCwgMC4wLCAwLjAsIDAuMCwgMC4wLCAwLjAsIDAuMCwgMC4wLCAwLjBdCiAgICBsaW5lICJQcmVkaWN0aW9uIEVycm9yIHJ1bm5pbmcgYXZlcmVnIiBbMSwgMC42NjY2NjY2NjY2NjY2NjY2LCAwLjU1NTU1NTU1NTU1NTU1NTUsIDAuNDE2NjY2NjY2NjY2NjY2NjMsIDAuMzMzMzMzMzMzMzMzMzMzMywgMC4yNzc3Nzc3Nzc3Nzc3Nzc3MywgMC4yMzgwOTUyMzgwOTUyMzgwOCwgMC4yMDgzMzMzMzMzMzMzMzMzMSwgMC4xODUxODUxODUxODUxODUxNywgMC4xNjY2NjY2NjY2NjY2NjY2NiwgMC4xNTE1MTUxNTE1MTUxNTE1LCAwLjEzODg4ODg4ODg4ODg4ODg3LCAwLjEyODIwNTEyODIwNTEyODIsIDAuMTE5MDQ3NjE5MDQ3NjE5MDQsIDAuMTExMTExMTExMTExMTExMSwgMC4xMDQxNjY2NjY2NjY2NjY2NiwgMC4wOTgwMzkyMTU2ODYyNzQ1LCAwLjA5MjU5MjU5MjU5MjU5MjU5LCAwLjA4NzcxOTI5ODI0NTYxNDAzLCAwLjA4MzMzMzMzMzMzMzMzMzMzXQogICAg\"/>"
      ],
      "text/plain": [
       "<IPython.core.display.Image object>"
      ]
     },
     "metadata": {},
     "output_type": "display_data"
    }
   ],
   "source": [
    "#show the prediction errors\n",
    "from mm_include import mermaid\n",
    "\n",
    "def running_average(data_array):\n",
    "    run_avg = []\n",
    "    for i, error in enumerate(data_array):\n",
    "        if i == 0:\n",
    "            run_avg.append(error)\n",
    "        else:\n",
    "            run_avg.append((run_avg[i-1]*i + error)/(i+1))\n",
    "    return run_avg    \n",
    "\n",
    "running_avg_prediction_errors = running_average(prediction_errors)\n",
    "    \n",
    "mermaid(f\"\"\"\n",
    " xychart-beta\n",
    "    title \"Perceptron Error Rate\"\n",
    "    x-axis \"Number of Decks\" {list(range(1,num_decks))}\n",
    "    y-axis \"Prediction Error\" 0 --> 1    \n",
    "    bar {prediction_errors}\n",
    "    line \"Prediction Error running avereg\" {running_avg_prediction_errors}\n",
    "    \"\"\")"
   ]
  },
  {
   "cell_type": "code",
   "execution_count": null,
   "id": "b4414ff3-3470-4ae0-9a49-6ab3ad7a2a68",
   "metadata": {},
   "outputs": [],
   "source": []
  }
 ],
 "metadata": {
  "kernelspec": {
   "display_name": "Python 3 (ipykernel)",
   "language": "python",
   "name": "python3"
  },
  "language_info": {
   "codemirror_mode": {
    "name": "ipython",
    "version": 3
   },
   "file_extension": ".py",
   "mimetype": "text/x-python",
   "name": "python",
   "nbconvert_exporter": "python",
   "pygments_lexer": "ipython3",
   "version": "3.10.4"
  }
 },
 "nbformat": 4,
 "nbformat_minor": 5
}
