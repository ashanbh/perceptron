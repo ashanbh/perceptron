{
 "cells": [
  {
   "cell_type": "code",
   "execution_count": 2,
   "id": "6fd9d019-0a73-4329-ad1f-5508717b8305",
   "metadata": {},
   "outputs": [],
   "source": [
    "import numpy as np\n",
    "import copy\n",
    "import numpy as np\n",
    "from matplotlib import pyplot as plt\n",
    "import random\n",
    "%matplotlib inline"
   ]
  },
  {
   "cell_type": "code",
   "execution_count": 99,
   "id": "b441a55e-5d4c-4571-a350-5f6a272864cd",
   "metadata": {},
   "outputs": [],
   "source": [
    "\n",
    "#generate a training card with a rectangular section marked positive \n",
    "def training_card(size=8, horizontal_partition = True, vertical_partition = True):\n",
    "    Y = np.zeros([X.shape[0]])\n",
    "    \n",
    "    s = 0\n",
    "    t_y = random.uniform(size/4,3*size/4) if horizontal_partition else -1\n",
    "    t_x = random.uniform(0,size) if vertical_partition else -1  \n",
    "    for i in range (0,size):    \n",
    "        for j in range (0,size):\n",
    "            Y[s]= 1 if (j> t_y and i>t_x) else -1\n",
    "            s+=1\n",
    "    return Y            \n",
    "\n",
    "def draw_card(Y,size=8):\n",
    "    plt.figure(figsize=(0.5,0.5))   \n",
    "    s =0\n",
    "    for i in range (0,size):    \n",
    "        for j in range (0,size):\n",
    "            # Plot the positive samples            \n",
    "            if Y[s] > 0:\n",
    "                plt.scatter(i, j, s=50, marker='s', color='green',linewidths=2)\n",
    "            # Plot the negative samples\n",
    "            else:\n",
    "                plt.scatter(i, j, s=50, marker='s', color='red', linewidths=2)\n",
    "            s += 1     \n",
    "    plt.show()\n",
    "\n",
    "        "
   ]
  },
  {
   "cell_type": "code",
   "execution_count": 106,
   "id": "98884b93-fb64-4ed8-9410-ef11769c2546",
   "metadata": {},
   "outputs": [],
   "source": [
    "def perceptron(X, Y, w , b, epochs = 20, predict=False):\n",
    "\n",
    "    #how untrained am I?\n",
    "    if predict:\n",
    "        prediction_errors=0\n",
    "        for i, x in enumerate(X):\n",
    "            a = np.dot(x, w) + b\n",
    "            y = Y[i]\n",
    "            print(f\"Prediction: {'Horizontal' if a >0 else 'Vertical'} ({a}) GT:{'Horizontal' if y >0 else 'Vertical'}({y})\")\n",
    "\n",
    "            #Count errors\n",
    "            if (a*y) <= 0:\n",
    "                print(\"Mismatch\")\n",
    "                prediction_errors += 1\n",
    "                \n",
    "            #show card    \n",
    "            draw_card(x)                \n",
    "        print(f\"Prediction Errors:{prediction_errors}\")\n",
    "        \n",
    "    \n",
    "    #start Training\n",
    "    for t in range(epochs):\n",
    "        w_old = copy.deepcopy(w)\n",
    "            \n",
    "        for i, x in enumerate(X):            \n",
    "            a = np.dot(X[i], w) + b\n",
    "            \n",
    "            y = Y[i]\n",
    "            if (a*y) <= 0:\n",
    "                w = w + X[i]*y\n",
    "                #print(f\"Weights updated -> (x={x}, y={y}, a={a}) => w:{w_old}->{w}, b:{b}->{b+y}\")\n",
    "                b = b+y\n",
    "            else:\n",
    "                #print(f\"Prediction correct  -> (x={x}, y={y}, a={a})\")\n",
    "                pass\n",
    "        \n",
    "  \n",
    "        if(np.array_equal(w_old,w)):\n",
    "            print(f\"CONVERGENCE (epoch:{t})\")\n",
    "            break\n",
    "            \n",
    "    return (w,b)"
   ]
  },
  {
   "cell_type": "code",
   "execution_count": 110,
   "id": "117aa8d9-5fce-4c28-a0c7-c7c712d30910",
   "metadata": {},
   "outputs": [
    {
     "name": "stdout",
     "output_type": "stream",
     "text": [
      "Prediction: Vertical (0.0) GT:Horizontal(1)\n",
      "Mismatch\n"
     ]
    },
    {
     "data": {
      "image/png": "[encoded data removed]",
      "text/plain": [
       "<Figure size 50x50 with 1 Axes>"
      ]
     },
     "metadata": {},
     "output_type": "display_data"
    },
    {
     "name": "stdout",
     "output_type": "stream",
     "text": [
      "Prediction: Vertical (0.0) GT:Vertical(-1)\n",
      "Mismatch\n"
     ]
    },
    {
     "data": {
      "image/png": "[encoded data removed]",
      "text/plain": [
       "<Figure size 50x50 with 1 Axes>"
      ]
     },
     "metadata": {},
     "output_type": "display_data"
    },
    {
     "name": "stdout",
     "output_type": "stream",
     "text": [
      "Prediction Errors:2\n",
      "CONVERGENCE (epoch:1)\n"
     ]
    },
    {
     "data": {
      "image/png": "[encoded data removed]",
      "text/plain": [
       "<Figure size 50x50 with 1 Axes>"
      ]
     },
     "metadata": {},
     "output_type": "display_data"
    },
    {
     "name": "stdout",
     "output_type": "stream",
     "text": [
      "Weights => [0. 0. 0. 0. 0. 0. 2. 2. 0. 0. 0. 0. 0. 0. 2. 2. 0. 0. 0. 0. 0. 0. 2. 2.\n",
      " 0. 0. 0. 0. 0. 0. 2. 2. 0. 0. 0. 0. 0. 0. 2. 2. 0. 0. 0. 0. 0. 0. 2. 2.\n",
      " 0. 0. 0. 0. 0. 0. 2. 2. 0. 0. 0. 0. 0. 0. 2. 2.], bias=0\n",
      "----------------------------------------\n",
      "\n",
      "Prediction: Horizontal (16.0) GT:Vertical(-1)\n",
      "Mismatch\n"
     ]
    },
    {
     "data": {
      "image/png": "[encoded data removed]",
      "text/plain": [
       "<Figure size 50x50 with 1 Axes>"
      ]
     },
     "metadata": {},
     "output_type": "display_data"
    },
    {
     "name": "stdout",
     "output_type": "stream",
     "text": [
      "Prediction: Vertical (-8.0) GT:Vertical(-1)\n"
     ]
    },
    {
     "data": {
      "image/png": "[encoded data removed]",
      "text/plain": [
       "<Figure size 50x50 with 1 Axes>"
      ]
     },
     "metadata": {},
     "output_type": "display_data"
    },
    {
     "name": "stdout",
     "output_type": "stream",
     "text": [
      "Prediction Errors:1\n",
      "CONVERGENCE (epoch:1)\n"
     ]
    },
    {
     "data": {
      "image/png": "[encoded data removed]",
      "text/plain": [
       "<Figure size 50x50 with 1 Axes>"
      ]
     },
     "metadata": {},
     "output_type": "display_data"
    },
    {
     "name": "stdout",
     "output_type": "stream",
     "text": [
      "Weights => [ 1.  1.  1.  1.  1.  1.  3.  3.  1.  1.  1.  1.  1.  1.  3.  3. -1. -1.\n",
      " -1. -1. -1. -1.  1.  1. -1. -1. -1. -1. -1. -1.  1.  1. -1. -1. -1. -1.\n",
      " -1. -1.  1.  1. -1. -1. -1. -1. -1. -1.  1.  1. -1. -1. -1. -1. -1. -1.\n",
      "  1.  1. -1. -1. -1. -1. -1. -1.  1.  1.], bias=-1\n",
      "----------------------------------------\n",
      "\n",
      "Prediction: Horizontal (23.0) GT:Horizontal(1)\n"
     ]
    },
    {
     "data": {
      "image/png": "[encoded data removed]",
      "text/plain": [
       "<Figure size 50x50 with 1 Axes>"
      ]
     },
     "metadata": {},
     "output_type": "display_data"
    },
    {
     "name": "stdout",
     "output_type": "stream",
     "text": [
      "Prediction: Horizontal (31.0) GT:Horizontal(1)\n"
     ]
    },
    {
     "data": {
      "image/png": "[encoded data removed]",
      "text/plain": [
       "<Figure size 50x50 with 1 Axes>"
      ]
     },
     "metadata": {},
     "output_type": "display_data"
    },
    {
     "name": "stdout",
     "output_type": "stream",
     "text": [
      "Prediction Errors:0\n",
      "CONVERGENCE (epoch:0)\n"
     ]
    },
    {
     "data": {
      "image/png": "[encoded data removed]",
      "text/plain": [
       "<Figure size 50x50 with 1 Axes>"
      ]
     },
     "metadata": {},
     "output_type": "display_data"
    },
    {
     "name": "stdout",
     "output_type": "stream",
     "text": [
      "Weights => [ 1.  1.  1.  1.  1.  1.  3.  3.  1.  1.  1.  1.  1.  1.  3.  3. -1. -1.\n",
      " -1. -1. -1. -1.  1.  1. -1. -1. -1. -1. -1. -1.  1.  1. -1. -1. -1. -1.\n",
      " -1. -1.  1.  1. -1. -1. -1. -1. -1. -1.  1.  1. -1. -1. -1. -1. -1. -1.\n",
      "  1.  1. -1. -1. -1. -1. -1. -1.  1.  1.], bias=-1\n",
      "----------------------------------------\n",
      "\n",
      "Prediction: Horizontal (47.0) GT:Horizontal(1)\n"
     ]
    },
    {
     "data": {
      "image/png": "[encoded data removed]",
      "text/plain": [
       "<Figure size 50x50 with 1 Axes>"
      ]
     },
     "metadata": {},
     "output_type": "display_data"
    },
    {
     "name": "stdout",
     "output_type": "stream",
     "text": [
      "Prediction: Horizontal (31.0) GT:Horizontal(1)\n"
     ]
    },
    {
     "data": {
      "image/png": "[encoded data removed]",
      "text/plain": [
       "<Figure size 50x50 with 1 Axes>"
      ]
     },
     "metadata": {},
     "output_type": "display_data"
    },
    {
     "name": "stdout",
     "output_type": "stream",
     "text": [
      "Prediction Errors:0\n",
      "CONVERGENCE (epoch:0)\n"
     ]
    },
    {
     "data": {
      "image/png": "[encoded data removed]",
      "text/plain": [
       "<Figure size 50x50 with 1 Axes>"
      ]
     },
     "metadata": {},
     "output_type": "display_data"
    },
    {
     "name": "stdout",
     "output_type": "stream",
     "text": [
      "Weights => [ 1.  1.  1.  1.  1.  1.  3.  3.  1.  1.  1.  1.  1.  1.  3.  3. -1. -1.\n",
      " -1. -1. -1. -1.  1.  1. -1. -1. -1. -1. -1. -1.  1.  1. -1. -1. -1. -1.\n",
      " -1. -1.  1.  1. -1. -1. -1. -1. -1. -1.  1.  1. -1. -1. -1. -1. -1. -1.\n",
      "  1.  1. -1. -1. -1. -1. -1. -1.  1.  1.], bias=-1\n",
      "----------------------------------------\n",
      "\n",
      "Prediction: Vertical (-9.0) GT:Vertical(-1)\n"
     ]
    },
    {
     "data": {
      "image/png": "[encoded data removed]",
      "text/plain": [
       "<Figure size 50x50 with 1 Axes>"
      ]
     },
     "metadata": {},
     "output_type": "display_data"
    },
    {
     "name": "stdout",
     "output_type": "stream",
     "text": [
      "Prediction: Vertical (-17.0) GT:Vertical(-1)\n"
     ]
    },
    {
     "data": {
      "image/png": "[encoded data removed]",
      "text/plain": [
       "<Figure size 50x50 with 1 Axes>"
      ]
     },
     "metadata": {},
     "output_type": "display_data"
    },
    {
     "name": "stdout",
     "output_type": "stream",
     "text": [
      "Prediction Errors:0\n",
      "CONVERGENCE (epoch:0)\n"
     ]
    },
    {
     "data": {
      "image/png": "[encoded data removed]",
      "text/plain": [
       "<Figure size 50x50 with 1 Axes>"
      ]
     },
     "metadata": {},
     "output_type": "display_data"
    },
    {
     "name": "stdout",
     "output_type": "stream",
     "text": [
      "Weights => [ 1.  1.  1.  1.  1.  1.  3.  3.  1.  1.  1.  1.  1.  1.  3.  3. -1. -1.\n",
      " -1. -1. -1. -1.  1.  1. -1. -1. -1. -1. -1. -1.  1.  1. -1. -1. -1. -1.\n",
      " -1. -1.  1.  1. -1. -1. -1. -1. -1. -1.  1.  1. -1. -1. -1. -1. -1. -1.\n",
      "  1.  1. -1. -1. -1. -1. -1. -1.  1.  1.], bias=-1\n",
      "----------------------------------------\n",
      "\n",
      "Prediction: Horizontal (39.0) GT:Horizontal(1)\n"
     ]
    },
    {
     "data": {
      "image/png": "[encoded data removed]",
      "text/plain": [
       "<Figure size 50x50 with 1 Axes>"
      ]
     },
     "metadata": {},
     "output_type": "display_data"
    },
    {
     "name": "stdout",
     "output_type": "stream",
     "text": [
      "Prediction: Horizontal (39.0) GT:Horizontal(1)\n"
     ]
    },
    {
     "data": {
      "image/png": "[encoded data removed]",
      "text/plain": [
       "<Figure size 50x50 with 1 Axes>"
      ]
     },
     "metadata": {},
     "output_type": "display_data"
    },
    {
     "name": "stdout",
     "output_type": "stream",
     "text": [
      "Prediction Errors:0\n",
      "CONVERGENCE (epoch:0)\n"
     ]
    },
    {
     "data": {
      "image/png": "[encoded data removed]",
      "text/plain": [
       "<Figure size 50x50 with 1 Axes>"
      ]
     },
     "metadata": {},
     "output_type": "display_data"
    },
    {
     "name": "stdout",
     "output_type": "stream",
     "text": [
      "Weights => [ 1.  1.  1.  1.  1.  1.  3.  3.  1.  1.  1.  1.  1.  1.  3.  3. -1. -1.\n",
      " -1. -1. -1. -1.  1.  1. -1. -1. -1. -1. -1. -1.  1.  1. -1. -1. -1. -1.\n",
      " -1. -1.  1.  1. -1. -1. -1. -1. -1. -1.  1.  1. -1. -1. -1. -1. -1. -1.\n",
      "  1.  1. -1. -1. -1. -1. -1. -1.  1.  1.], bias=-1\n",
      "----------------------------------------\n",
      "\n",
      "Prediction: Horizontal (39.0) GT:Horizontal(1)\n"
     ]
    },
    {
     "data": {
      "image/png": "[encoded data removed]",
      "text/plain": [
       "<Figure size 50x50 with 1 Axes>"
      ]
     },
     "metadata": {},
     "output_type": "display_data"
    },
    {
     "name": "stdout",
     "output_type": "stream",
     "text": [
      "Prediction: Vertical (-33.0) GT:Vertical(-1)\n"
     ]
    },
    {
     "data": {
      "image/png": "[encoded data removed]",
      "text/plain": [
       "<Figure size 50x50 with 1 Axes>"
      ]
     },
     "metadata": {},
     "output_type": "display_data"
    },
    {
     "name": "stdout",
     "output_type": "stream",
     "text": [
      "Prediction Errors:0\n",
      "CONVERGENCE (epoch:0)\n"
     ]
    },
    {
     "data": {
      "image/png": "[encoded data removed]",
      "text/plain": [
       "<Figure size 50x50 with 1 Axes>"
      ]
     },
     "metadata": {},
     "output_type": "display_data"
    },
    {
     "name": "stdout",
     "output_type": "stream",
     "text": [
      "Weights => [ 1.  1.  1.  1.  1.  1.  3.  3.  1.  1.  1.  1.  1.  1.  3.  3. -1. -1.\n",
      " -1. -1. -1. -1.  1.  1. -1. -1. -1. -1. -1. -1.  1.  1. -1. -1. -1. -1.\n",
      " -1. -1.  1.  1. -1. -1. -1. -1. -1. -1.  1.  1. -1. -1. -1. -1. -1. -1.\n",
      "  1.  1. -1. -1. -1. -1. -1. -1.  1.  1.], bias=-1\n",
      "----------------------------------------\n",
      "\n",
      "Prediction: Horizontal (47.0) GT:Horizontal(1)\n"
     ]
    },
    {
     "data": {
      "image/png": "[encoded data removed]",
      "text/plain": [
       "<Figure size 50x50 with 1 Axes>"
      ]
     },
     "metadata": {},
     "output_type": "display_data"
    },
    {
     "name": "stdout",
     "output_type": "stream",
     "text": [
      "Prediction: Horizontal (31.0) GT:Horizontal(1)\n"
     ]
    },
    {
     "data": {
      "image/png": "[encoded data removed]",
      "text/plain": [
       "<Figure size 50x50 with 1 Axes>"
      ]
     },
     "metadata": {},
     "output_type": "display_data"
    },
    {
     "name": "stdout",
     "output_type": "stream",
     "text": [
      "Prediction Errors:0\n",
      "CONVERGENCE (epoch:0)\n"
     ]
    },
    {
     "data": {
      "image/png": "[encoded data removed]",
      "text/plain": [
       "<Figure size 50x50 with 1 Axes>"
      ]
     },
     "metadata": {},
     "output_type": "display_data"
    },
    {
     "name": "stdout",
     "output_type": "stream",
     "text": [
      "Weights => [ 1.  1.  1.  1.  1.  1.  3.  3.  1.  1.  1.  1.  1.  1.  3.  3. -1. -1.\n",
      " -1. -1. -1. -1.  1.  1. -1. -1. -1. -1. -1. -1.  1.  1. -1. -1. -1. -1.\n",
      " -1. -1.  1.  1. -1. -1. -1. -1. -1. -1.  1.  1. -1. -1. -1. -1. -1. -1.\n",
      "  1.  1. -1. -1. -1. -1. -1. -1.  1.  1.], bias=-1\n",
      "----------------------------------------\n",
      "\n",
      "Prediction: Vertical (-49.0) GT:Vertical(-1)\n"
     ]
    },
    {
     "data": {
      "image/png": "[encoded data removed]",
      "text/plain": [
       "<Figure size 50x50 with 1 Axes>"
      ]
     },
     "metadata": {},
     "output_type": "display_data"
    },
    {
     "name": "stdout",
     "output_type": "stream",
     "text": [
      "Prediction: Horizontal (31.0) GT:Horizontal(1)\n"
     ]
    },
    {
     "data": {
      "image/png": "[encoded data removed]",
      "text/plain": [
       "<Figure size 50x50 with 1 Axes>"
      ]
     },
     "metadata": {},
     "output_type": "display_data"
    },
    {
     "name": "stdout",
     "output_type": "stream",
     "text": [
      "Prediction Errors:0\n",
      "CONVERGENCE (epoch:0)\n"
     ]
    },
    {
     "data": {
      "image/png": "[encoded data removed]",
      "text/plain": [
       "<Figure size 50x50 with 1 Axes>"
      ]
     },
     "metadata": {},
     "output_type": "display_data"
    },
    {
     "name": "stdout",
     "output_type": "stream",
     "text": [
      "Weights => [ 1.  1.  1.  1.  1.  1.  3.  3.  1.  1.  1.  1.  1.  1.  3.  3. -1. -1.\n",
      " -1. -1. -1. -1.  1.  1. -1. -1. -1. -1. -1. -1.  1.  1. -1. -1. -1. -1.\n",
      " -1. -1.  1.  1. -1. -1. -1. -1. -1. -1.  1.  1. -1. -1. -1. -1. -1. -1.\n",
      "  1.  1. -1. -1. -1. -1. -1. -1.  1.  1.], bias=-1\n",
      "----------------------------------------\n",
      "\n",
      "Prediction: Vertical (-9.0) GT:Vertical(-1)\n"
     ]
    },
    {
     "data": {
      "image/png": "[encoded data removed]",
      "text/plain": [
       "<Figure size 50x50 with 1 Axes>"
      ]
     },
     "metadata": {},
     "output_type": "display_data"
    },
    {
     "name": "stdout",
     "output_type": "stream",
     "text": [
      "Prediction: Horizontal (47.0) GT:Horizontal(1)\n"
     ]
    },
    {
     "data": {
      "image/png": "[encoded data removed]",
      "text/plain": [
       "<Figure size 50x50 with 1 Axes>"
      ]
     },
     "metadata": {},
     "output_type": "display_data"
    },
    {
     "name": "stdout",
     "output_type": "stream",
     "text": [
      "Prediction Errors:0\n",
      "CONVERGENCE (epoch:0)\n"
     ]
    },
    {
     "data": {
      "image/png": "[encoded data removed]",
      "text/plain": [
       "<Figure size 50x50 with 1 Axes>"
      ]
     },
     "metadata": {},
     "output_type": "display_data"
    },
    {
     "name": "stdout",
     "output_type": "stream",
     "text": [
      "Weights => [ 1.  1.  1.  1.  1.  1.  3.  3.  1.  1.  1.  1.  1.  1.  3.  3. -1. -1.\n",
      " -1. -1. -1. -1.  1.  1. -1. -1. -1. -1. -1. -1.  1.  1. -1. -1. -1. -1.\n",
      " -1. -1.  1.  1. -1. -1. -1. -1. -1. -1.  1.  1. -1. -1. -1. -1. -1. -1.\n",
      "  1.  1. -1. -1. -1. -1. -1. -1.  1.  1.], bias=-1\n",
      "----------------------------------------\n",
      "\n"
     ]
    }
   ],
   "source": [
    "#generate 10 cards and train to detect horizontal partitions     \n",
    "size = 8\n",
    "num_cards = 2\n",
    "num_decks = 10\n",
    "\n",
    "#initialize weights\n",
    "weights = np.zeros(size*size)\n",
    "bias = 0\n",
    "\n",
    "\n",
    "for decks in range (0,num_decks):\n",
    "    #store a new deck of cards in X and Y\n",
    "    X_64 = []\n",
    "    Y_64= []\n",
    "    for c in range (0,num_cards):\n",
    "        #horizontal cards are positive, vertical cards are negative \n",
    "        y = round(random.uniform(0,1))\n",
    "        h = bool(y)\n",
    "        v = not bool(y)\n",
    "        y = -1 if not y else 1\n",
    "        #print(f\"Create card (y:{y},h:{h},v:{v})\")\n",
    "        Y = training_card(size=size,horizontal_partition=h,vertical_partition=v)        \n",
    "        X_64.append(Y)\n",
    "        Y_64.append(y)\n",
    "\n",
    "    #train on the deck and count \n",
    "    (weights,bias) = perceptron(X_64,Y_64, weights, bias, predict=True)\n",
    "    draw_card(weights)\n",
    "    print(f\"Weights => {weights}, bias={bias}\\n{'-'*40}\\n\")\n",
    "    \n",
    "\n",
    "\n",
    "  \n"
   ]
  },
  {
   "cell_type": "code",
   "execution_count": null,
   "id": "eb3b571b-bef5-4b13-86b9-4b86411a602d",
   "metadata": {},
   "outputs": [],
   "source": []
  },
  {
   "cell_type": "code",
   "execution_count": null,
   "id": "b4414ff3-3470-4ae0-9a49-6ab3ad7a2a68",
   "metadata": {},
   "outputs": [],
   "source": []
  }
 ],
 "metadata": {
  "kernelspec": {
   "display_name": "Python 3 (ipykernel)",
   "language": "python",
   "name": "python3"
  },
  "language_info": {
   "codemirror_mode": {
    "name": "ipython",
    "version": 3
   },
   "file_extension": ".py",
   "mimetype": "text/x-python",
   "name": "python",
   "nbconvert_exporter": "python",
   "pygments_lexer": "ipython3",
   "version": "3.10.4"
  }
 },
 "nbformat": 4,
 "nbformat_minor": 5
}
