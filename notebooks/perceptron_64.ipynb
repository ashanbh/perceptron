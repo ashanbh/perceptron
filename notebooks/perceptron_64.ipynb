{
 "cells": [
  {
   "cell_type": "markdown",
   "id": "8dd60b0e-2e2d-42e2-a611-3cc660328baa",
   "metadata": {},
   "source": [
    "## Objective\n",
    " * In the notebook, we will show the perceptron a bunch of cards, organized into decks. \n",
    " * Each card has either a horizontal partition or a vertical partition\n"
   ]
  },
  {
   "cell_type": "code",
   "execution_count": 27,
   "id": "1b5d6a13-245e-41e3-9988-1d841bdece3a",
   "metadata": {},
   "outputs": [],
   "source": [
    "from mm_include import mm,mermaid"
   ]
  },
  {
   "cell_type": "code",
   "execution_count": 28,
   "id": "c61a03c5-5bab-4dc1-b9b8-92594108ac49",
   "metadata": {},
   "outputs": [
    {
     "data": {
      "text/html": [
       "<img src=\"https://mermaid.ink/img/CmZsb3djaGFydCBMUgogICAgc3ViZ3JhcGggSW5wdXRzWyJJbnB1dHMiXQogICAgICAgIEExWyIkJCB4XzEkJCJdCiAgICAgICAgQTJbIiQkIHhfMiQkIl0KICAgICAgICBBRE9UWyIuLiJdCiAgICAgICAgQU5bIiQkIHhfbiQkIl0KICAgIGVuZAogICAgc3ViZ3JhcGggc3ViR3JhcGgxWyJXZWlnaHRzIl0KICAgICAgICB3MSgoIiQkIHdfMSAkJCIpKQogICAgICAgIHcyKCgiJCQgd18yICQkIikpCiAgICAgICAgd0RPVFsiLi4iXQogICAgICAgIHdOKCgiJCQgd19uICQkIikpCiAgICBlbmQKICAgIEN7IiQkIHogPSBcc3VtX3tpPTF9Xm4geF9pIHdfaSArIGIgJCQifQogICAgeVsib3V0cHV0Il0KICAgIHN0ZXBbIiQkXHBoaSh6KSBcdGV4dHtcICdzdGVwIGZ1bmN0aW9uJ30kJCJdCgogICAgJSUgQ29tbWVudHMgYWZ0ZXIgZG91YmxlIHBlcmNlbnQgc2lnbnMKICAgIEExIC0tPiB3MSAKICAgIHcxLS0+IEMKICAgIEEyIC0tPiB3MgogICAgdzIgLS0+IEMKICAgIEFET1QgLS0+IHdET1QKICAgIHdET1QgLS0+IEMKICAgIEFOIC0tPiB3TgogICAgd04gLS0+IEMKICAgIEMgLS0+IHN0ZXAKICAgIHN0ZXAgPT0+IHkK\"/>"
      ],
      "text/plain": [
       "<IPython.core.display.Image object>"
      ]
     },
     "metadata": {},
     "output_type": "display_data"
    }
   ],
   "source": [
    "mm(\"\"\"\n",
    "flowchart LR\n",
    "    subgraph Inputs[\"Inputs\"]\n",
    "        A1[\"$$ x_1$$\"]\n",
    "        A2[\"$$ x_2$$\"]\n",
    "        ADOT[\"..\"]\n",
    "        AN[\"$$ x_n$$\"]\n",
    "    end\n",
    "    subgraph subGraph1[\"Weights\"]\n",
    "        w1((\"$$ w_1 $$\"))\n",
    "        w2((\"$$ w_2 $$\"))\n",
    "        wDOT[\"..\"]\n",
    "        wN((\"$$ w_n $$\"))\n",
    "    end\n",
    "    C{\"$$ z = \\sum_{i=1}^n x_i w_i + b $$\"}\n",
    "    y[\"output\"]\n",
    "    step[\"$$\\phi(z) \\\\text{\\ 'step function'}$$\"]\n",
    "\n",
    "    %% Comments after double percent signs\n",
    "    A1 --> w1 \n",
    "    w1--> C\n",
    "    A2 --> w2\n",
    "    w2 --> C\n",
    "    ADOT --> wDOT\n",
    "    wDOT --> C\n",
    "    AN --> wN\n",
    "    wN --> C\n",
    "    C --> step\n",
    "    step ==> y\n",
    "\"\"\")"
   ]
  },
  {
   "cell_type": "markdown",
   "id": "5b7af81d-95bc-4437-b50b-0d939a71d923",
   "metadata": {},
   "source": [
    "#### The 2 key functions are a weighted sum and a step function\n",
    "$$ \n",
    "    z = \\sum_{i=1}^n x_i w_i + b \n",
    "$$\n",
    "\n",
    "$$ \n",
    "    output = \\begin{cases}\n",
    "        1 & \\text{if }\\ z > T \\text{\\, where T is some threshold }\n",
    "        \\\\-1 & \\text{otherwise}\n",
    "        \\end{cases}     \n",
    "$$"
   ]
  },
  {
   "cell_type": "code",
   "execution_count": 15,
   "id": "bca1a2e3-1851-47e4-9568-aebb37698038",
   "metadata": {},
   "outputs": [],
   "source": [
    "import numpy as np\n",
    "import copy\n",
    "import numpy as np\n",
    "from matplotlib import pyplot as plt\n",
    "import random\n",
    "%matplotlib inline"
   ]
  },
  {
   "cell_type": "code",
   "execution_count": 16,
   "id": "b441a55e-5d4c-4571-a350-5f6a272864cd",
   "metadata": {},
   "outputs": [],
   "source": [
    "#generate a training card with a rectangular section marked positive \n",
    "def training_card(size=8, horizontal_partition = True, vertical_partition = True):\n",
    "    Y = np.zeros(size*size)    \n",
    "    s = 0\n",
    "    t_y = random.uniform(size/4,3*size/4) if horizontal_partition else -1\n",
    "    t_x = random.uniform(0,size) if vertical_partition else -1  \n",
    "    for i in range (0,size):    \n",
    "        for j in range (0,size):\n",
    "            Y[s]= 1 if (j> t_y and i>t_x) else -1\n",
    "            s+=1\n",
    "    return Y            \n",
    "\n",
    "def draw_card(Y,size=8):\n",
    "    plt.figure(figsize=(2,2))   \n",
    "    s =0\n",
    "    for i in range (0,size):    \n",
    "        for j in range (0,size):\n",
    "            # Plot the positive samples            \n",
    "            if Y[s] > 0:\n",
    "                plt.scatter(i, j, s=50, marker='s', color='green',linewidths=2)\n",
    "            # Plot the negative samples\n",
    "            else:\n",
    "                plt.scatter(i, j, s=50, marker='s', color='red', linewidths=2)\n",
    "            s += 1     \n",
    "    plt.show()\n",
    "\n",
    "        "
   ]
  },
  {
   "cell_type": "code",
   "execution_count": 17,
   "id": "4a9db5cb-7fbd-462f-8243-cffe9ba570b9",
   "metadata": {},
   "outputs": [],
   "source": [
    "def draw_and_print(x,y,a):\n",
    "    # show card\n",
    "    print(f\"Prediction: {'Horizontal' if a > 0 else 'Vertical'} ({a}) GT:{'Horizontal' if y > 0 else 'Vertical'}({y})\")\n",
    "    draw_card(x)"
   ]
  },
  {
   "cell_type": "code",
   "execution_count": 13,
   "id": "0452ae7b-5008-4430-80c6-725f8c25f796",
   "metadata": {},
   "outputs": [],
   "source": [
    "import sys, site\n",
    "sys.path.insert(0,\"..\") \n",
    "from perceptron import perceptron as tron"
   ]
  },
  {
   "cell_type": "code",
   "execution_count": 18,
   "id": "117aa8d9-5fce-4c28-a0c7-c7c712d30910",
   "metadata": {},
   "outputs": [
    {
     "name": "stdout",
     "output_type": "stream",
     "text": [
      "Mismatch\n",
      "Prediction: Vertical (0.0) GT:Horizontal(1)\n"
     ]
    },
    {
     "data": {
      "image/png": "[encoded data removed]",
      "text/plain": [
       "<Figure size 200x200 with 1 Axes>"
      ]
     },
     "metadata": {},
     "output_type": "display_data"
    },
    {
     "name": "stdout",
     "output_type": "stream",
     "text": [
      "Mismatch\n",
      "Prediction: Vertical (0.0) GT:Vertical(-1)\n"
     ]
    },
    {
     "data": {
      "image/png": "[encoded data removed]",
      "text/plain": [
       "<Figure size 200x200 with 1 Axes>"
      ]
     },
     "metadata": {},
     "output_type": "display_data"
    },
    {
     "name": "stdout",
     "output_type": "stream",
     "text": [
      "Prediction Errors:2\n",
      "CONVERGENCE (epoch:1)\n"
     ]
    },
    {
     "data": {
      "image/png": "[encoded data removed]",
      "text/plain": [
       "<Figure size 200x200 with 1 Axes>"
      ]
     },
     "metadata": {},
     "output_type": "display_data"
    },
    {
     "name": "stdout",
     "output_type": "stream",
     "text": [
      "Weights => [ 0.  0.  0.  2.  2.  2.  2.  2.  0.  0.  0.  2.  2.  2.  2.  2. -2. -2.\n",
      " -2.  0.  0.  0.  0.  0. -2. -2. -2.  0.  0.  0.  0.  0. -2. -2. -2.  0.\n",
      "  0.  0.  0.  0. -2. -2. -2.  0.  0.  0.  0.  0. -2. -2. -2.  0.  0.  0.\n",
      "  0.  0. -2. -2. -2.  0.  0.  0.  0.  0.], bias=0\n",
      "----------------------------------------\n",
      "\n",
      "Mismatch\n",
      "Prediction: Horizontal (4.0) GT:Vertical(-1)\n"
     ]
    },
    {
     "data": {
      "image/png": "[encoded data removed]",
      "text/plain": [
       "<Figure size 200x200 with 1 Axes>"
      ]
     },
     "metadata": {},
     "output_type": "display_data"
    },
    {
     "name": "stdout",
     "output_type": "stream",
     "text": [
      "Prediction: Horizontal (32.0) GT:Horizontal(1)\n"
     ]
    },
    {
     "data": {
      "image/png": "[encoded data removed]",
      "text/plain": [
       "<Figure size 200x200 with 1 Axes>"
      ]
     },
     "metadata": {},
     "output_type": "display_data"
    },
    {
     "name": "stdout",
     "output_type": "stream",
     "text": [
      "Prediction Errors:1\n",
      "CONVERGENCE (epoch:1)\n"
     ]
    },
    {
     "data": {
      "image/png": "[encoded data removed]",
      "text/plain": [
       "<Figure size 200x200 with 1 Axes>"
      ]
     },
     "metadata": {},
     "output_type": "display_data"
    },
    {
     "name": "stdout",
     "output_type": "stream",
     "text": [
      "Weights => [ 1.  1.  1.  3.  3.  3.  3.  3.  1.  1.  1.  3.  3.  3.  3.  3. -1. -1.\n",
      " -1.  1.  1.  1.  1.  1. -1. -1. -1.  1.  1.  1.  1.  1. -1. -1. -1.  1.\n",
      "  1.  1.  1.  1. -1. -1. -1.  1.  1.  1.  1.  1. -1. -1. -1.  1.  1.  1.\n",
      "  1.  1. -3. -3. -3. -1. -1. -1. -1. -1.], bias=-1\n",
      "----------------------------------------\n",
      "\n",
      "Prediction: Vertical (-41.0) GT:Vertical(-1)\n"
     ]
    },
    {
     "data": {
      "image/png": "[encoded data removed]",
      "text/plain": [
       "<Figure size 200x200 with 1 Axes>"
      ]
     },
     "metadata": {},
     "output_type": "display_data"
    },
    {
     "name": "stdout",
     "output_type": "stream",
     "text": [
      "Prediction: Vertical (-53.0) GT:Vertical(-1)\n"
     ]
    },
    {
     "data": {
      "image/png": "[encoded data removed]",
      "text/plain": [
       "<Figure size 200x200 with 1 Axes>"
      ]
     },
     "metadata": {},
     "output_type": "display_data"
    },
    {
     "name": "stdout",
     "output_type": "stream",
     "text": [
      "Prediction Errors:0\n",
      "CONVERGENCE (epoch:0)\n"
     ]
    },
    {
     "data": {
      "image/png": "[encoded data removed]",
      "text/plain": [
       "<Figure size 200x200 with 1 Axes>"
      ]
     },
     "metadata": {},
     "output_type": "display_data"
    },
    {
     "name": "stdout",
     "output_type": "stream",
     "text": [
      "Weights => [ 1.  1.  1.  3.  3.  3.  3.  3.  1.  1.  1.  3.  3.  3.  3.  3. -1. -1.\n",
      " -1.  1.  1.  1.  1.  1. -1. -1. -1.  1.  1.  1.  1.  1. -1. -1. -1.  1.\n",
      "  1.  1.  1.  1. -1. -1. -1.  1.  1.  1.  1.  1. -1. -1. -1.  1.  1.  1.\n",
      "  1.  1. -3. -3. -3. -1. -1. -1. -1. -1.], bias=-1\n",
      "----------------------------------------\n",
      "\n",
      "Prediction: Horizontal (7.0) GT:Horizontal(1)\n"
     ]
    },
    {
     "data": {
      "image/png": "[encoded data removed]",
      "text/plain": [
       "<Figure size 200x200 with 1 Axes>"
      ]
     },
     "metadata": {},
     "output_type": "display_data"
    },
    {
     "name": "stdout",
     "output_type": "stream",
     "text": [
      "Prediction: Horizontal (27.0) GT:Horizontal(1)\n"
     ]
    },
    {
     "data": {
      "image/png": "[encoded data removed]",
      "text/plain": [
       "<Figure size 200x200 with 1 Axes>"
      ]
     },
     "metadata": {},
     "output_type": "display_data"
    },
    {
     "name": "stdout",
     "output_type": "stream",
     "text": [
      "Prediction Errors:0\n",
      "CONVERGENCE (epoch:0)\n"
     ]
    },
    {
     "data": {
      "image/png": "[encoded data removed]",
      "text/plain": [
       "<Figure size 200x200 with 1 Axes>"
      ]
     },
     "metadata": {},
     "output_type": "display_data"
    },
    {
     "name": "stdout",
     "output_type": "stream",
     "text": [
      "Weights => [ 1.  1.  1.  3.  3.  3.  3.  3.  1.  1.  1.  3.  3.  3.  3.  3. -1. -1.\n",
      " -1.  1.  1.  1.  1.  1. -1. -1. -1.  1.  1.  1.  1.  1. -1. -1. -1.  1.\n",
      "  1.  1.  1.  1. -1. -1. -1.  1.  1.  1.  1.  1. -1. -1. -1.  1.  1.  1.\n",
      "  1.  1. -3. -3. -3. -1. -1. -1. -1. -1.], bias=-1\n",
      "----------------------------------------\n",
      "\n",
      "Prediction: Vertical (-33.0) GT:Vertical(-1)\n"
     ]
    },
    {
     "data": {
      "image/png": "[encoded data removed]",
      "text/plain": [
       "<Figure size 200x200 with 1 Axes>"
      ]
     },
     "metadata": {},
     "output_type": "display_data"
    },
    {
     "name": "stdout",
     "output_type": "stream",
     "text": [
      "Prediction: Horizontal (47.0) GT:Horizontal(1)\n"
     ]
    },
    {
     "data": {
      "image/png": "[encoded data removed]",
      "text/plain": [
       "<Figure size 200x200 with 1 Axes>"
      ]
     },
     "metadata": {},
     "output_type": "display_data"
    },
    {
     "name": "stdout",
     "output_type": "stream",
     "text": [
      "Prediction Errors:0\n",
      "CONVERGENCE (epoch:0)\n"
     ]
    },
    {
     "data": {
      "image/png": "[encoded data removed]",
      "text/plain": [
       "<Figure size 200x200 with 1 Axes>"
      ]
     },
     "metadata": {},
     "output_type": "display_data"
    },
    {
     "name": "stdout",
     "output_type": "stream",
     "text": [
      "Weights => [ 1.  1.  1.  3.  3.  3.  3.  3.  1.  1.  1.  3.  3.  3.  3.  3. -1. -1.\n",
      " -1.  1.  1.  1.  1.  1. -1. -1. -1.  1.  1.  1.  1.  1. -1. -1. -1.  1.\n",
      "  1.  1.  1.  1. -1. -1. -1.  1.  1.  1.  1.  1. -1. -1. -1.  1.  1.  1.\n",
      "  1.  1. -3. -3. -3. -1. -1. -1. -1. -1.], bias=-1\n",
      "----------------------------------------\n",
      "\n",
      "Prediction: Vertical (-33.0) GT:Vertical(-1)\n"
     ]
    },
    {
     "data": {
      "image/png": "[encoded data removed]",
      "text/plain": [
       "<Figure size 200x200 with 1 Axes>"
      ]
     },
     "metadata": {},
     "output_type": "display_data"
    },
    {
     "name": "stdout",
     "output_type": "stream",
     "text": [
      "Prediction: Horizontal (7.0) GT:Horizontal(1)\n"
     ]
    },
    {
     "data": {
      "image/png": "[encoded data removed]",
      "text/plain": [
       "<Figure size 200x200 with 1 Axes>"
      ]
     },
     "metadata": {},
     "output_type": "display_data"
    },
    {
     "name": "stdout",
     "output_type": "stream",
     "text": [
      "Prediction Errors:0\n",
      "CONVERGENCE (epoch:0)\n"
     ]
    },
    {
     "data": {
      "image/png": "[encoded data removed]",
      "text/plain": [
       "<Figure size 200x200 with 1 Axes>"
      ]
     },
     "metadata": {},
     "output_type": "display_data"
    },
    {
     "name": "stdout",
     "output_type": "stream",
     "text": [
      "Weights => [ 1.  1.  1.  3.  3.  3.  3.  3.  1.  1.  1.  3.  3.  3.  3.  3. -1. -1.\n",
      " -1.  1.  1.  1.  1.  1. -1. -1. -1.  1.  1.  1.  1.  1. -1. -1. -1.  1.\n",
      "  1.  1.  1.  1. -1. -1. -1.  1.  1.  1.  1.  1. -1. -1. -1.  1.  1.  1.\n",
      "  1.  1. -3. -3. -3. -1. -1. -1. -1. -1.], bias=-1\n",
      "----------------------------------------\n",
      "\n",
      "Prediction: Vertical (-61.0) GT:Vertical(-1)\n"
     ]
    },
    {
     "data": {
      "image/png": "[encoded data removed]",
      "text/plain": [
       "<Figure size 200x200 with 1 Axes>"
      ]
     },
     "metadata": {},
     "output_type": "display_data"
    },
    {
     "name": "stdout",
     "output_type": "stream",
     "text": [
      "Prediction: Horizontal (27.0) GT:Horizontal(1)\n"
     ]
    },
    {
     "data": {
      "image/png": "[encoded data removed]",
      "text/plain": [
       "<Figure size 200x200 with 1 Axes>"
      ]
     },
     "metadata": {},
     "output_type": "display_data"
    },
    {
     "name": "stdout",
     "output_type": "stream",
     "text": [
      "Prediction Errors:0\n",
      "CONVERGENCE (epoch:0)\n"
     ]
    },
    {
     "data": {
      "image/png": "[encoded data removed]",
      "text/plain": [
       "<Figure size 200x200 with 1 Axes>"
      ]
     },
     "metadata": {},
     "output_type": "display_data"
    },
    {
     "name": "stdout",
     "output_type": "stream",
     "text": [
      "Weights => [ 1.  1.  1.  3.  3.  3.  3.  3.  1.  1.  1.  3.  3.  3.  3.  3. -1. -1.\n",
      " -1.  1.  1.  1.  1.  1. -1. -1. -1.  1.  1.  1.  1.  1. -1. -1. -1.  1.\n",
      "  1.  1.  1.  1. -1. -1. -1.  1.  1.  1.  1.  1. -1. -1. -1.  1.  1.  1.\n",
      "  1.  1. -3. -3. -3. -1. -1. -1. -1. -1.], bias=-1\n",
      "----------------------------------------\n",
      "\n",
      "Prediction: Horizontal (7.0) GT:Horizontal(1)\n"
     ]
    },
    {
     "data": {
      "image/png": "[encoded data removed]",
      "text/plain": [
       "<Figure size 200x200 with 1 Axes>"
      ]
     },
     "metadata": {},
     "output_type": "display_data"
    },
    {
     "name": "stdout",
     "output_type": "stream",
     "text": [
      "Prediction: Vertical (-41.0) GT:Vertical(-1)\n"
     ]
    },
    {
     "data": {
      "image/png": "[encoded data removed]",
      "text/plain": [
       "<Figure size 200x200 with 1 Axes>"
      ]
     },
     "metadata": {},
     "output_type": "display_data"
    },
    {
     "name": "stdout",
     "output_type": "stream",
     "text": [
      "Prediction Errors:0\n",
      "CONVERGENCE (epoch:0)\n"
     ]
    },
    {
     "data": {
      "image/png": "[encoded data removed]",
      "text/plain": [
       "<Figure size 200x200 with 1 Axes>"
      ]
     },
     "metadata": {},
     "output_type": "display_data"
    },
    {
     "name": "stdout",
     "output_type": "stream",
     "text": [
      "Weights => [ 1.  1.  1.  3.  3.  3.  3.  3.  1.  1.  1.  3.  3.  3.  3.  3. -1. -1.\n",
      " -1.  1.  1.  1.  1.  1. -1. -1. -1.  1.  1.  1.  1.  1. -1. -1. -1.  1.\n",
      "  1.  1.  1.  1. -1. -1. -1.  1.  1.  1.  1.  1. -1. -1. -1.  1.  1.  1.\n",
      "  1.  1. -3. -3. -3. -1. -1. -1. -1. -1.], bias=-1\n",
      "----------------------------------------\n",
      "\n",
      "Prediction: Vertical (-57.0) GT:Vertical(-1)\n"
     ]
    },
    {
     "data": {
      "image/png": "[encoded data removed]",
      "text/plain": [
       "<Figure size 200x200 with 1 Axes>"
      ]
     },
     "metadata": {},
     "output_type": "display_data"
    },
    {
     "name": "stdout",
     "output_type": "stream",
     "text": [
      "Prediction: Vertical (-41.0) GT:Vertical(-1)\n"
     ]
    },
    {
     "data": {
      "image/png": "[encoded data removed]",
      "text/plain": [
       "<Figure size 200x200 with 1 Axes>"
      ]
     },
     "metadata": {},
     "output_type": "display_data"
    },
    {
     "name": "stdout",
     "output_type": "stream",
     "text": [
      "Prediction Errors:0\n",
      "CONVERGENCE (epoch:0)\n"
     ]
    },
    {
     "data": {
      "image/png": "[encoded data removed]",
      "text/plain": [
       "<Figure size 200x200 with 1 Axes>"
      ]
     },
     "metadata": {},
     "output_type": "display_data"
    },
    {
     "name": "stdout",
     "output_type": "stream",
     "text": [
      "Weights => [ 1.  1.  1.  3.  3.  3.  3.  3.  1.  1.  1.  3.  3.  3.  3.  3. -1. -1.\n",
      " -1.  1.  1.  1.  1.  1. -1. -1. -1.  1.  1.  1.  1.  1. -1. -1. -1.  1.\n",
      "  1.  1.  1.  1. -1. -1. -1.  1.  1.  1.  1.  1. -1. -1. -1.  1.  1.  1.\n",
      "  1.  1. -3. -3. -3. -1. -1. -1. -1. -1.], bias=-1\n",
      "----------------------------------------\n",
      "\n",
      "Prediction: Vertical (-41.0) GT:Vertical(-1)\n"
     ]
    },
    {
     "data": {
      "image/png": "[encoded data removed]",
      "text/plain": [
       "<Figure size 200x200 with 1 Axes>"
      ]
     },
     "metadata": {},
     "output_type": "display_data"
    },
    {
     "name": "stdout",
     "output_type": "stream",
     "text": [
      "Prediction: Vertical (-45.0) GT:Vertical(-1)\n"
     ]
    },
    {
     "data": {
      "image/png": "[encoded data removed]",
      "text/plain": [
       "<Figure size 200x200 with 1 Axes>"
      ]
     },
     "metadata": {},
     "output_type": "display_data"
    },
    {
     "name": "stdout",
     "output_type": "stream",
     "text": [
      "Prediction Errors:0\n",
      "CONVERGENCE (epoch:0)\n"
     ]
    },
    {
     "data": {
      "image/png": "[encoded data removed]",
      "text/plain": [
       "<Figure size 200x200 with 1 Axes>"
      ]
     },
     "metadata": {},
     "output_type": "display_data"
    },
    {
     "name": "stdout",
     "output_type": "stream",
     "text": [
      "Weights => [ 1.  1.  1.  3.  3.  3.  3.  3.  1.  1.  1.  3.  3.  3.  3.  3. -1. -1.\n",
      " -1.  1.  1.  1.  1.  1. -1. -1. -1.  1.  1.  1.  1.  1. -1. -1. -1.  1.\n",
      "  1.  1.  1.  1. -1. -1. -1.  1.  1.  1.  1.  1. -1. -1. -1.  1.  1.  1.\n",
      "  1.  1. -3. -3. -3. -1. -1. -1. -1. -1.], bias=-1\n",
      "----------------------------------------\n",
      "\n"
     ]
    }
   ],
   "source": [
    "\n",
    "\n",
    "#generate 10 cards and train to detect horizontal partitions     \n",
    "size = 8\n",
    "num_cards = 2\n",
    "num_decks = 10\n",
    "\n",
    "#initialize weights\n",
    "weights = np.zeros(size*size)\n",
    "bias = 0\n",
    "\n",
    "\n",
    "for decks in range (0,num_decks):\n",
    "    #store a new deck of cards in X and Y\n",
    "    X_64 = []\n",
    "    Y_64= []\n",
    "    for c in range (0,num_cards):\n",
    "        #horizontal cards are positive, vertical cards are negative \n",
    "        y = round(random.uniform(0,1))\n",
    "        h = bool(y)\n",
    "        v = not bool(y)\n",
    "        y = -1 if not y else 1\n",
    "        #print(f\"Create card (y:{y},h:{h},v:{v})\")\n",
    "        Y = training_card(size=size,horizontal_partition=h,vertical_partition=v)        \n",
    "        X_64.append(Y)\n",
    "        Y_64.append(y)\n",
    "\n",
    "    #train on the deck and count \n",
    "    (weights,bias) = tron.perceptron(X_64,Y_64, weights, bias, predict=True, debug_function = draw_and_print)\n",
    "    draw_card(weights)\n",
    "    print(f\"Weights => {weights}, bias={bias}\\n{'-'*40}\\n\")"
   ]
  },
  {
   "cell_type": "code",
   "execution_count": null,
   "id": "eb3b571b-bef5-4b13-86b9-4b86411a602d",
   "metadata": {},
   "outputs": [],
   "source": []
  },
  {
   "cell_type": "code",
   "execution_count": null,
   "id": "b4414ff3-3470-4ae0-9a49-6ab3ad7a2a68",
   "metadata": {},
   "outputs": [],
   "source": []
  }
 ],
 "metadata": {
  "kernelspec": {
   "display_name": "Python 3 (ipykernel)",
   "language": "python",
   "name": "python3"
  },
  "language_info": {
   "codemirror_mode": {
    "name": "ipython",
    "version": 3
   },
   "file_extension": ".py",
   "mimetype": "text/x-python",
   "name": "python",
   "nbconvert_exporter": "python",
   "pygments_lexer": "ipython3",
   "version": "3.10.4"
  }
 },
 "nbformat": 4,
 "nbformat_minor": 5
}
