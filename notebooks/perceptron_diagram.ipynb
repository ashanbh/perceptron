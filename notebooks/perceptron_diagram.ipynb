{
 "cells": [
  {
   "cell_type": "code",
   "execution_count": 3,
   "id": "d62edc51-97f3-4b4c-ad10-c9b771566948",
   "metadata": {},
   "outputs": [
    {
     "data": {
      "text/html": [
       "<img src=\"https://mermaid.ink/img/CmZsb3djaGFydCBMUgogICAgc3ViZ3JhcGggSW5wdXRzWyJJbnB1dHMiXQogICAgICAgIEExWyIkJCB4XzEkJCJdCiAgICAgICAgQTJbIiQkIHhfMiQkIl0KICAgICAgICBBRE9UWyIuLiJdCiAgICAgICAgQU5bIiQkIHhfbiQkIl0KICAgIGVuZAogICAgc3ViZ3JhcGggc3ViR3JhcGgxWyJXZWlnaHRzIl0KICAgICAgICB3MSgoIiQkIHdfMSAkJCIpKQogICAgICAgIHcyKCgiJCQgd18yICQkIikpCiAgICAgICAgd0RPVFsiLi4iXQogICAgICAgIHdOKCgiJCQgd19uICQkIikpCiAgICBlbmQKICAgIEN7IiQkIHogPSBcc3VtX3tpPTF9Xm4geF9pIHdfaSArIGIgJCQifQogICAgeVsib3V0cHV0Il0KICAgIHN0ZXBbIiQkXHBoaSh6KSBcdGV4dHtcICdzdGVwIGZ1bmN0aW9uJ30kJCJdCgogICAgJSUgQ29tbWVudHMgYWZ0ZXIgZG91YmxlIHBlcmNlbnQgc2lnbnMKICAgIEExIC0tPiB3MSAKICAgIHcxLS0+IEMKICAgIEEyIC0tPiB3MgogICAgdzIgLS0+IEMKICAgIEFET1QgLS0+IHdET1QKICAgIHdET1QgLS0+IEMKICAgIEFOIC0tPiB3TgogICAgd04gLS0+IEMKICAgIEMgLS0+IHN0ZXAKICAgIHN0ZXAgPT0+IHkK\"/>"
      ],
      "text/plain": [
       "<IPython.core.display.Image object>"
      ]
     },
     "metadata": {},
     "output_type": "display_data"
    }
   ],
   "source": [
    "#Perceptron algorithm Diagram \n",
    "\n",
    "from mm_include import mermaid\n",
    "mermaid(\"\"\"\n",
    "flowchart LR\n",
    "    subgraph Inputs[\"Inputs\"]\n",
    "        A1[\"$$ x_1$$\"]\n",
    "        A2[\"$$ x_2$$\"]\n",
    "        ADOT[\"..\"]\n",
    "        AN[\"$$ x_n$$\"]\n",
    "    end\n",
    "    subgraph subGraph1[\"Weights\"]\n",
    "        w1((\"$$ w_1 $$\"))\n",
    "        w2((\"$$ w_2 $$\"))\n",
    "        wDOT[\"..\"]\n",
    "        wN((\"$$ w_n $$\"))\n",
    "    end\n",
    "    C{\"$$ z = \\sum_{i=1}^n x_i w_i + b $$\"}\n",
    "    y[\"output\"]\n",
    "    step[\"$$\\phi(z) \\\\text{\\ 'step function'}$$\"]\n",
    "\n",
    "    %% Comments after double percent signs\n",
    "    A1 --> w1 \n",
    "    w1--> C\n",
    "    A2 --> w2\n",
    "    w2 --> C\n",
    "    ADOT --> wDOT\n",
    "    wDOT --> C\n",
    "    AN --> wN\n",
    "    wN --> C\n",
    "    C --> step\n",
    "    step ==> y\n",
    "\"\"\")"
   ]
  },
  {
   "cell_type": "code",
   "execution_count": null,
   "id": "96d08d39-1166-4032-853e-8a79b616a150",
   "metadata": {},
   "outputs": [],
   "source": []
  }
 ],
 "metadata": {
  "kernelspec": {
   "display_name": "Python 3 (ipykernel)",
   "language": "python",
   "name": "python3"
  },
  "language_info": {
   "codemirror_mode": {
    "name": "ipython",
    "version": 3
   },
   "file_extension": ".py",
   "mimetype": "text/x-python",
   "name": "python",
   "nbconvert_exporter": "python",
   "pygments_lexer": "ipython3",
   "version": "3.10.4"
  }
 },
 "nbformat": 4,
 "nbformat_minor": 5
}
